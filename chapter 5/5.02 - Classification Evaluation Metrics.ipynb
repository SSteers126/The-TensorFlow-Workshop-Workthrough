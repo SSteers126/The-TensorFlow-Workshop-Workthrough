{
 "cells": [
  {
   "cell_type": "code",
   "execution_count": 1,
   "id": "initial_id",
   "metadata": {
    "collapsed": true,
    "ExecuteTime": {
     "end_time": "2023-10-11T21:22:26.023968500Z",
     "start_time": "2023-10-11T21:22:19.057471800Z"
    }
   },
   "outputs": [
    {
     "data": {
      "text/plain": "'2.13.0'"
     },
     "execution_count": 1,
     "metadata": {},
     "output_type": "execute_result"
    }
   ],
   "source": [
    "import tensorflow as tf\n",
    "import pandas as pd\n",
    "tf.__version__"
   ]
  },
  {
   "cell_type": "code",
   "execution_count": 3,
   "outputs": [
    {
     "name": "stdout",
     "output_type": "stream",
     "text": [
      "Downloading data from https://github.com/PacktWorkshops/The-TensorFlow-Workshop/blob/master/Chapter05/model/exercise5_01_model.h5?raw=true\n",
      "4904824/4904824 [==============================] - 0s 0us/step\n",
      "Model: \"sequential_1\"\n",
      "_________________________________________________________________\n",
      " Layer (type)                Output Shape              Param #   \n",
      "=================================================================\n",
      " dense_5 (Dense)             (None, 512)               59904     \n",
      "                                                                 \n",
      " dense_6 (Dense)             (None, 512)               262656    \n",
      "                                                                 \n",
      " dense_7 (Dense)             (None, 128)               65664     \n",
      "                                                                 \n",
      " dense_8 (Dense)             (None, 128)               16512     \n",
      "                                                                 \n",
      " dense_9 (Dense)             (None, 1)                 129       \n",
      "                                                                 \n",
      "=================================================================\n",
      "Total params: 404865 (1.54 MB)\n",
      "Trainable params: 404865 (1.54 MB)\n",
      "Non-trainable params: 0 (0.00 Byte)\n",
      "_________________________________________________________________\n"
     ]
    }
   ],
   "source": [
    "# Load training dataset\n",
    "X_train = pd.read_csv(\"../input_data/CSVs/dota2Train.csv\", header=None)\n",
    "# Set the training target as the first column (win condition) and remove it from the features to train from \n",
    "y_train = X_train.pop(0)\n",
    "\n",
    "# Download a pretrained model for this task and save it locally (note - URL in book is wrong, this is fixed)\n",
    "model_path = tf.keras.utils.get_file('exercise5_01_model.h5', 'https://github.com/PacktWorkshops/The-TensorFlow-Workshop/blob/master/Chapter05/model/exercise5_01_model.h5?raw=true')\n",
    "# Load the model\n",
    "model = tf.keras.models.load_model(model_path)\n",
    "# Display the layout of the model\n",
    "model.summary()"
   ],
   "metadata": {
    "collapsed": false,
    "ExecuteTime": {
     "end_time": "2023-10-11T21:31:22.668550900Z",
     "start_time": "2023-10-11T21:31:19.966143900Z"
    }
   },
   "id": "66a39ca4f73b3547"
  },
  {
   "cell_type": "code",
   "execution_count": 4,
   "outputs": [
    {
     "name": "stdout",
     "output_type": "stream",
     "text": [
      "322/322 [==============================] - 2s 2ms/step\n"
     ]
    },
    {
     "data": {
      "text/plain": "array([[0.4366297 ],\n       [0.52438205],\n       [0.6132363 ],\n       [0.6282078 ],\n       [0.3523952 ]], dtype=float32)"
     },
     "execution_count": 4,
     "metadata": {},
     "output_type": "execute_result"
    }
   ],
   "source": [
    "# Load and prep the testing dataset\n",
    "X_test = pd.read_csv(\"../input_data/CSVs/dota2Test.csv\", header=None)\n",
    "y_test = X_test.pop(0)\n",
    "# Generate predictions for the testing dataset and print the last 5\n",
    "preds_proba = model.predict(X_test)\n",
    "preds_proba[:5]"
   ],
   "metadata": {
    "collapsed": false,
    "ExecuteTime": {
     "end_time": "2023-10-11T21:33:19.334148700Z",
     "start_time": "2023-10-11T21:33:16.299650300Z"
    }
   },
   "id": "1f4c9a5f48bc98bb"
  },
  {
   "cell_type": "code",
   "execution_count": 5,
   "outputs": [
    {
     "data": {
      "text/plain": "array([[False],\n       [ True],\n       [ True],\n       [ True],\n       [False]])"
     },
     "execution_count": 5,
     "metadata": {},
     "output_type": "execute_result"
    }
   ],
   "source": [
    "# Covert the predictions to booleans based on whether the certainty of the prediction being 1 is 50% or more\n",
    "preds = preds_proba >= 0.5\n",
    "preds[:5]"
   ],
   "metadata": {
    "collapsed": false,
    "ExecuteTime": {
     "end_time": "2023-10-11T21:34:25.347221600Z",
     "start_time": "2023-10-11T21:34:25.316225300Z"
    }
   },
   "id": "54d99a948f864100"
  },
  {
   "cell_type": "code",
   "execution_count": 7,
   "outputs": [
    {
     "data": {
      "text/plain": "0.596464"
     },
     "execution_count": 7,
     "metadata": {},
     "output_type": "execute_result"
    }
   ],
   "source": [
    "# Load different accuracy metrics to evaluate the model on\n",
    "acc = tf.keras.metrics.Accuracy()\n",
    "prec = tf.keras.metrics.Precision()\n",
    "rec = tf.keras.metrics.Recall()\n",
    "\n",
    "# Replace negative outcomes of `-1` with `0` to match the model's output format\n",
    "y_test = y_test.replace(-1,0)\n",
    "\n",
    "# Process accuracy using the predictions and actual values as input\n",
    "acc.update_state(preds, y_test)\n",
    "acc_results = acc.result().numpy()\n",
    "acc_results"
   ],
   "metadata": {
    "collapsed": false,
    "ExecuteTime": {
     "end_time": "2023-10-11T21:36:38.977520300Z",
     "start_time": "2023-10-11T21:36:38.948020400Z"
    }
   },
   "id": "41bf2477778c11ae"
  },
  {
   "cell_type": "code",
   "execution_count": 9,
   "outputs": [
    {
     "data": {
      "text/plain": "0.59578335"
     },
     "execution_count": 9,
     "metadata": {},
     "output_type": "execute_result"
    }
   ],
   "source": [
    "# Calculate precision score\n",
    "prec.update_state(preds, y_test)\n",
    "prec_results = prec.result().numpy()\n",
    "prec_results"
   ],
   "metadata": {
    "collapsed": false,
    "ExecuteTime": {
     "end_time": "2023-10-11T21:40:00.158447300Z",
     "start_time": "2023-10-11T21:40:00.136445800Z"
    }
   },
   "id": "69e1fa528e45d627"
  },
  {
   "cell_type": "code",
   "execution_count": 8,
   "outputs": [
    {
     "data": {
      "text/plain": "0.6294163"
     },
     "execution_count": 8,
     "metadata": {},
     "output_type": "execute_result"
    }
   ],
   "source": [
    "# Calculate recall score\n",
    "rec.update_state(preds, y_test)\n",
    "rec_results = rec.result().numpy()\n",
    "rec_results"
   ],
   "metadata": {
    "collapsed": false,
    "ExecuteTime": {
     "start_time": "2023-10-11T21:39:34.122483600Z"
    }
   },
   "id": "3b5c81c4a823ab4c"
  },
  {
   "cell_type": "code",
   "execution_count": 10,
   "outputs": [
    {
     "data": {
      "text/plain": "0.6121381493171637"
     },
     "execution_count": 10,
     "metadata": {},
     "output_type": "execute_result"
    }
   ],
   "source": [
    "# Calculate F1 score on the dataset\n",
    "f1 = 2*(prec_results * rec_results) / (prec_results + rec_results)\n",
    "f1"
   ],
   "metadata": {
    "collapsed": false,
    "ExecuteTime": {
     "end_time": "2023-10-11T21:40:47.659560600Z",
     "start_time": "2023-10-11T21:40:47.637061200Z"
    }
   },
   "id": "4ce09f402ad7169a"
  },
  {
   "cell_type": "code",
   "execution_count": null,
   "outputs": [],
   "source": [],
   "metadata": {
    "collapsed": false
   },
   "id": "b8bf38917c737268"
  }
 ],
 "metadata": {
  "kernelspec": {
   "display_name": "Python 3",
   "language": "python",
   "name": "python3"
  },
  "language_info": {
   "codemirror_mode": {
    "name": "ipython",
    "version": 2
   },
   "file_extension": ".py",
   "mimetype": "text/x-python",
   "name": "python",
   "nbconvert_exporter": "python",
   "pygments_lexer": "ipython2",
   "version": "2.7.6"
  }
 },
 "nbformat": 4,
 "nbformat_minor": 5
}
