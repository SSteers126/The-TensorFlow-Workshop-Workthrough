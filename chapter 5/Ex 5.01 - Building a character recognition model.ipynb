{
 "cells": [
  {
   "cell_type": "code",
   "execution_count": 1,
   "id": "initial_id",
   "metadata": {
    "collapsed": true,
    "ExecuteTime": {
     "end_time": "2023-10-12T00:43:39.838849400Z",
     "start_time": "2023-10-12T00:43:32.980351Z"
    }
   },
   "outputs": [
    {
     "data": {
      "text/plain": "'2.14.0'"
     },
     "execution_count": 1,
     "metadata": {},
     "output_type": "execute_result"
    }
   ],
   "source": [
    "import tensorflow as tf\n",
    "import pandas as pd\n",
    "tf.__version__"
   ]
  },
  {
   "cell_type": "code",
   "execution_count": 2,
   "outputs": [
    {
     "data": {
      "text/plain": "   0   1   2   3   4   5   6   7   8   9   10  11  12  13  14  15  16\n0   0   1   2   3   4   5   6   7   8   9  10  11  12  13  14  15  16\n1   0   2   8   3   5   1   8  13   0   6   6  10   8   0   8   0   8\n2   1   5  12   3   7   2  10   5   5   4  13   3   9   2   8   4  10\n3   2   4  11   6   8   6  10   6   2   6  10   3   7   3   7   3   9\n4   3   7  11   6   6   3   5   9   4   6   4   4  10   6  10   2   8",
      "text/html": "<div>\n<style scoped>\n    .dataframe tbody tr th:only-of-type {\n        vertical-align: middle;\n    }\n\n    .dataframe tbody tr th {\n        vertical-align: top;\n    }\n\n    .dataframe thead th {\n        text-align: right;\n    }\n</style>\n<table border=\"1\" class=\"dataframe\">\n  <thead>\n    <tr style=\"text-align: right;\">\n      <th></th>\n      <th>0</th>\n      <th>1</th>\n      <th>2</th>\n      <th>3</th>\n      <th>4</th>\n      <th>5</th>\n      <th>6</th>\n      <th>7</th>\n      <th>8</th>\n      <th>9</th>\n      <th>10</th>\n      <th>11</th>\n      <th>12</th>\n      <th>13</th>\n      <th>14</th>\n      <th>15</th>\n      <th>16</th>\n    </tr>\n  </thead>\n  <tbody>\n    <tr>\n      <th>0</th>\n      <td>0</td>\n      <td>1</td>\n      <td>2</td>\n      <td>3</td>\n      <td>4</td>\n      <td>5</td>\n      <td>6</td>\n      <td>7</td>\n      <td>8</td>\n      <td>9</td>\n      <td>10</td>\n      <td>11</td>\n      <td>12</td>\n      <td>13</td>\n      <td>14</td>\n      <td>15</td>\n      <td>16</td>\n    </tr>\n    <tr>\n      <th>1</th>\n      <td>0</td>\n      <td>2</td>\n      <td>8</td>\n      <td>3</td>\n      <td>5</td>\n      <td>1</td>\n      <td>8</td>\n      <td>13</td>\n      <td>0</td>\n      <td>6</td>\n      <td>6</td>\n      <td>10</td>\n      <td>8</td>\n      <td>0</td>\n      <td>8</td>\n      <td>0</td>\n      <td>8</td>\n    </tr>\n    <tr>\n      <th>2</th>\n      <td>1</td>\n      <td>5</td>\n      <td>12</td>\n      <td>3</td>\n      <td>7</td>\n      <td>2</td>\n      <td>10</td>\n      <td>5</td>\n      <td>5</td>\n      <td>4</td>\n      <td>13</td>\n      <td>3</td>\n      <td>9</td>\n      <td>2</td>\n      <td>8</td>\n      <td>4</td>\n      <td>10</td>\n    </tr>\n    <tr>\n      <th>3</th>\n      <td>2</td>\n      <td>4</td>\n      <td>11</td>\n      <td>6</td>\n      <td>8</td>\n      <td>6</td>\n      <td>10</td>\n      <td>6</td>\n      <td>2</td>\n      <td>6</td>\n      <td>10</td>\n      <td>3</td>\n      <td>7</td>\n      <td>3</td>\n      <td>7</td>\n      <td>3</td>\n      <td>9</td>\n    </tr>\n    <tr>\n      <th>4</th>\n      <td>3</td>\n      <td>7</td>\n      <td>11</td>\n      <td>6</td>\n      <td>6</td>\n      <td>3</td>\n      <td>5</td>\n      <td>9</td>\n      <td>4</td>\n      <td>6</td>\n      <td>4</td>\n      <td>4</td>\n      <td>10</td>\n      <td>6</td>\n      <td>10</td>\n      <td>2</td>\n      <td>8</td>\n    </tr>\n  </tbody>\n</table>\n</div>"
     },
     "execution_count": 2,
     "metadata": {},
     "output_type": "execute_result"
    }
   ],
   "source": [
    "feature_df = pd.read_csv(\"../input_data/CSVs/letter-recognition.data\", header=None)\n",
    "feature_df.head()"
   ],
   "metadata": {
    "collapsed": false,
    "ExecuteTime": {
     "end_time": "2023-10-12T00:43:39.933351100Z",
     "start_time": "2023-10-12T00:43:39.832850400Z"
    }
   },
   "id": "6f92d2c4950f0bb6"
  },
  {
   "cell_type": "code",
   "execution_count": 3,
   "outputs": [
    {
     "data": {
      "text/plain": "0    0\n1    0\n2    1\n3    2\n4    3\nName: 0, dtype: int64"
     },
     "execution_count": 3,
     "metadata": {},
     "output_type": "execute_result"
    }
   ],
   "source": [
    "target_df = feature_df.pop(0)\n",
    "target_df.head()"
   ],
   "metadata": {
    "collapsed": false,
    "ExecuteTime": {
     "end_time": "2023-10-12T00:43:39.935851300Z",
     "start_time": "2023-10-12T00:43:39.922849200Z"
    }
   },
   "id": "423b28e1f8edbef3"
  },
  {
   "cell_type": "code",
   "execution_count": 4,
   "outputs": [
    {
     "data": {
      "text/plain": "       1   2   3   4   5   6   7   8   9   10  11  12  13  14  15  16\n15000   6  11   6   8   3   4  13   9   2  10   6   3   1  10   4   8\n15001   4   9   5   7   3   6   7   7   8   9   8  10   2  10   4   9\n15002  12  15  10   8   5   5   3   4   5   4   7   6   6   6   2   7\n15003   4   8   6   6   5   4   7   1   6  10   9  11   3   8   3   6\n15004   5   8   6   6   5   7   8   4   7   7   6   8   7   8   3   7",
      "text/html": "<div>\n<style scoped>\n    .dataframe tbody tr th:only-of-type {\n        vertical-align: middle;\n    }\n\n    .dataframe tbody tr th {\n        vertical-align: top;\n    }\n\n    .dataframe thead th {\n        text-align: right;\n    }\n</style>\n<table border=\"1\" class=\"dataframe\">\n  <thead>\n    <tr style=\"text-align: right;\">\n      <th></th>\n      <th>1</th>\n      <th>2</th>\n      <th>3</th>\n      <th>4</th>\n      <th>5</th>\n      <th>6</th>\n      <th>7</th>\n      <th>8</th>\n      <th>9</th>\n      <th>10</th>\n      <th>11</th>\n      <th>12</th>\n      <th>13</th>\n      <th>14</th>\n      <th>15</th>\n      <th>16</th>\n    </tr>\n  </thead>\n  <tbody>\n    <tr>\n      <th>15000</th>\n      <td>6</td>\n      <td>11</td>\n      <td>6</td>\n      <td>8</td>\n      <td>3</td>\n      <td>4</td>\n      <td>13</td>\n      <td>9</td>\n      <td>2</td>\n      <td>10</td>\n      <td>6</td>\n      <td>3</td>\n      <td>1</td>\n      <td>10</td>\n      <td>4</td>\n      <td>8</td>\n    </tr>\n    <tr>\n      <th>15001</th>\n      <td>4</td>\n      <td>9</td>\n      <td>5</td>\n      <td>7</td>\n      <td>3</td>\n      <td>6</td>\n      <td>7</td>\n      <td>7</td>\n      <td>8</td>\n      <td>9</td>\n      <td>8</td>\n      <td>10</td>\n      <td>2</td>\n      <td>10</td>\n      <td>4</td>\n      <td>9</td>\n    </tr>\n    <tr>\n      <th>15002</th>\n      <td>12</td>\n      <td>15</td>\n      <td>10</td>\n      <td>8</td>\n      <td>5</td>\n      <td>5</td>\n      <td>3</td>\n      <td>4</td>\n      <td>5</td>\n      <td>4</td>\n      <td>7</td>\n      <td>6</td>\n      <td>6</td>\n      <td>6</td>\n      <td>2</td>\n      <td>7</td>\n    </tr>\n    <tr>\n      <th>15003</th>\n      <td>4</td>\n      <td>8</td>\n      <td>6</td>\n      <td>6</td>\n      <td>5</td>\n      <td>4</td>\n      <td>7</td>\n      <td>1</td>\n      <td>6</td>\n      <td>10</td>\n      <td>9</td>\n      <td>11</td>\n      <td>3</td>\n      <td>8</td>\n      <td>3</td>\n      <td>6</td>\n    </tr>\n    <tr>\n      <th>15004</th>\n      <td>5</td>\n      <td>8</td>\n      <td>6</td>\n      <td>6</td>\n      <td>5</td>\n      <td>7</td>\n      <td>8</td>\n      <td>4</td>\n      <td>7</td>\n      <td>7</td>\n      <td>6</td>\n      <td>8</td>\n      <td>7</td>\n      <td>8</td>\n      <td>3</td>\n      <td>7</td>\n    </tr>\n  </tbody>\n</table>\n</div>"
     },
     "execution_count": 4,
     "metadata": {},
     "output_type": "execute_result"
    }
   ],
   "source": [
    "# Split DataFrame into training and testing - first 15000 are training, remaining 500 are testing\n",
    "train_features = feature_df.iloc[:15000]\n",
    "train_target = target_df.iloc[:15000]\n",
    "test_features = feature_df.iloc[15000:]\n",
    "test_target = target_df.iloc[15000:]\n",
    "# Test that operation worked successfully by ensuring output row count is right, and that the test set starts at 15000\n",
    "test_features.head()"
   ],
   "metadata": {
    "collapsed": false,
    "ExecuteTime": {
     "end_time": "2023-10-12T00:43:39.980349Z",
     "start_time": "2023-10-12T00:43:39.937350200Z"
    }
   },
   "id": "85195ebda40873c0"
  },
  {
   "cell_type": "code",
   "execution_count": 5,
   "outputs": [
    {
     "name": "stdout",
     "output_type": "stream",
     "text": [
      "Model: \"sequential\"\n",
      "_________________________________________________________________\n",
      " Layer (type)                Output Shape              Param #   \n",
      "=================================================================\n",
      " dense (Dense)               (None, 512)               8704      \n",
      "                                                                 \n",
      " dense_1 (Dense)             (None, 512)               262656    \n",
      "                                                                 \n",
      " dense_2 (Dense)             (None, 128)               65664     \n",
      "                                                                 \n",
      " dense_3 (Dense)             (None, 128)               16512     \n",
      "                                                                 \n",
      " dense_4 (Dense)             (None, 26)                3354      \n",
      "                                                                 \n",
      "=================================================================\n",
      "Total params: 356890 (1.36 MB)\n",
      "Trainable params: 356890 (1.36 MB)\n",
      "Non-trainable params: 0 (0.00 Byte)\n",
      "_________________________________________________________________\n"
     ]
    }
   ],
   "source": [
    "# Ensure output is reproducible\n",
    "tf.random.set_seed(8)\n",
    "\n",
    "# Create a new model\n",
    "model = tf.keras.models.Sequential()\n",
    "\n",
    "# Create layers to use for the model - all fully connected and using relu to keep between 0-1, before using softmax for categorical output\n",
    "fc1 = tf.keras.layers.Dense(512, input_shape=(16,), activation='relu')\n",
    "fc2 = tf.keras.layers.Dense(512, activation='relu')\n",
    "fc3 = tf.keras.layers.Dense(128, activation='relu')\n",
    "fc4 = tf.keras.layers.Dense(128, activation='relu')\n",
    "fc5 = tf.keras.layers.Dense(26, activation='softmax')\n",
    "\n",
    "# Add the layers to the model\n",
    "model.add(fc1)\n",
    "model.add(fc2)\n",
    "model.add(fc3)\n",
    "model.add(fc4)\n",
    "model.add(fc5)\n",
    "\n",
    "# Display a summary of the model\n",
    "model.summary()"
   ],
   "metadata": {
    "collapsed": false,
    "ExecuteTime": {
     "end_time": "2023-10-12T00:43:40.632350200Z",
     "start_time": "2023-10-12T00:43:39.957850200Z"
    }
   },
   "id": "9f066d0014af3dec"
  },
  {
   "cell_type": "code",
   "execution_count": 6,
   "outputs": [
    {
     "name": "stdout",
     "output_type": "stream",
     "text": [
      "Epoch 1/5\n",
      "469/469 [==============================] - 6s 8ms/step - loss: 1.1744 - accuracy: 0.6446\n",
      "Epoch 2/5\n",
      "469/469 [==============================] - 4s 7ms/step - loss: 0.5808 - accuracy: 0.8150\n",
      "Epoch 3/5\n",
      "469/469 [==============================] - 4s 8ms/step - loss: 0.4221 - accuracy: 0.8618\n",
      "Epoch 4/5\n",
      "469/469 [==============================] - 4s 8ms/step - loss: 0.3408 - accuracy: 0.8869\n",
      "Epoch 5/5\n",
      "469/469 [==============================] - 4s 9ms/step - loss: 0.2822 - accuracy: 0.9061\n"
     ]
    },
    {
     "data": {
      "text/plain": "<keras.src.callbacks.History at 0x232173a7810>"
     },
     "execution_count": 6,
     "metadata": {},
     "output_type": "execute_result"
    }
   ],
   "source": [
    "# Set up the model to be trained to output only for the character it believes is correct\n",
    "loss = tf.keras.losses.SparseCategoricalCrossentropy()\n",
    "optimizer = tf.keras.optimizers.Adam(0.001)\n",
    "\n",
    "# Compile the model using the selected functions\n",
    "model.compile(optimizer=optimizer, loss=loss, metrics=['accuracy'])\n",
    "# Train the model over 5 epochs\n",
    "model.fit(train_features, train_target, epochs=5)"
   ],
   "metadata": {
    "collapsed": false,
    "ExecuteTime": {
     "end_time": "2023-10-12T00:44:01.760348300Z",
     "start_time": "2023-10-12T00:43:40.505852600Z"
    }
   },
   "id": "d3df526be2c9d50d"
  },
  {
   "cell_type": "code",
   "execution_count": 7,
   "outputs": [
    {
     "name": "stdout",
     "output_type": "stream",
     "text": [
      "157/157 [==============================] - 1s 3ms/step - loss: 0.3086 - accuracy: 0.8996\n"
     ]
    },
    {
     "data": {
      "text/plain": "[0.3085610270500183, 0.8996200561523438]"
     },
     "execution_count": 7,
     "metadata": {},
     "output_type": "execute_result"
    }
   ],
   "source": [
    "# Test the model on the testing dataset\n",
    "model.evaluate(test_features, test_target)"
   ],
   "metadata": {
    "collapsed": false,
    "ExecuteTime": {
     "end_time": "2023-10-12T00:44:02.607348900Z",
     "start_time": "2023-10-12T00:44:01.743350300Z"
    }
   },
   "id": "a9bc3b57fcc5515e"
  },
  {
   "cell_type": "code",
   "execution_count": 8,
   "outputs": [
    {
     "name": "stdout",
     "output_type": "stream",
     "text": [
      "157/157 [==============================] - 1s 3ms/step\n",
      "tf.Tensor(\n",
      "[[181   0   0   0   0   0   0   1   0   0   0   0   0   0   0   0   0   0\n",
      "    0   0   0   2   0   0   0   0]\n",
      " [  1 186   2   0   0   0   0   0   6   0   0   0   0   5   3   0   0   0\n",
      "    0   0   0   0   0   0   0   2]\n",
      " [  0   1 211   0   0   0   0   0   0   0   0   3   0   0   0   1   0   0\n",
      "    0   0   0   0   0   0   0   0]\n",
      " [  0   0  10 172   0   0   0   1   0   0   0   3   1   0   0   2   0   0\n",
      "    0   0   5   2   0   2   0   0]\n",
      " [  0   0   2   0 167   0   2   0   0   1   0   2   2   0   7   1   0   2\n",
      "    0   2   6   0  12   0   2   0]\n",
      " [  0   1   0   0   1 167   2   1   1   0   1   0   0   1   0   0   0   0\n",
      "    0   0   0   2   8   0   0  13]\n",
      " [  1   1   5   0   0   3 155   0   0   0   1   0   0   0   0   0   0   0\n",
      "    0   0   6   1   0   0   0   0]\n",
      " [  0   0   0   0   0   0   1 199   0   0   0   1   1   0   0   2   0   0\n",
      "    0   0   0   2   0   0   0   0]\n",
      " [  0   8   1   0   0   0   0   0 166   0   0   0   0   1   0   0   0   0\n",
      "    0   2   0   0   0   0   0   5]\n",
      " [  0   0   0   1   0   0   0   0   0 181   0   0   0   0   0   1   0   0\n",
      "    0   0   3   0   0   1   0   0]\n",
      " [  0   4   5   0   0   0   1   0   0   0 167   0   0   1   0   0   0   0\n",
      "    0   2   0   1   0   1   3   1]\n",
      " [  1   0  12   0   4   1   0   0   1   0   0 137   0   1   1   0   4   0\n",
      "    0   0   1   0  16   2   0   0]\n",
      " [  2   0  14   3   0   1  18   1   0   0   0   0 154   0   3   7   0   4\n",
      "    0   0   0   0   0   0   1   0]\n",
      " [  6   1   0   0   0   0   0   0   0   0   1   0   0 174   0   0   0   0\n",
      "    9   1   1   0   0   0   0   1]\n",
      " [  0   0   0   0   1   0   0   0   0   0   0   2   0   0 163   0   0   0\n",
      "    0   0   1   0   0   4   0   0]\n",
      " [  0   0  12   0   1   1   3   0   0   1   0   1   4   0   0 146   0   0\n",
      "    0   0   4   0   1   2   1   1]\n",
      " [  0   0   0   1   0   0   0   0   0   1   0   0   1   0   0   0 141   0\n",
      "    0   0  21   1   0   1   0   0]\n",
      " [  0   2   1   0   0   4   0   0   0   0   4   0   0   0   0   0   0 189\n",
      "    0   0   0   0   3   0   2   0]\n",
      " [  1   0   3   0   0   0   2   0   0   0   0   0   1  12   1   2   0   0\n",
      "  176   0   0   9   1   0   0   0]\n",
      " [  0   0   0   0   6   1   0   0   0   0   1   0   2   0   6   0   0   3\n",
      "    0 163   0   0   3   0   0   6]\n",
      " [  1   0   0   0   0   0   0   0   0   0   0   0   0   0   0   1   1   0\n",
      "    0   0 163   2   0   0   0   0]\n",
      " [  1   0   0   0   0   0   0   0   0   0   1   0   0   0   0   0   0   0\n",
      "    0   0   0 179   0   2   0   0]\n",
      " [  0   0   1   0   0   0   0   0   0   0   0   0   0   0   0   1   0   0\n",
      "    0   0   0   2 213   0   0   0]\n",
      " [  1   0   0   0   0   0   0   1   1   0   0   0   0   0   0   0   1   0\n",
      "    0   0   3   0   0 208   0   0]\n",
      " [  0   0   5   0   2   0   0   0   0   0   5   0   2   0   0   6   0   0\n",
      "    0   5   0   0   0   1 151   0]\n",
      " [  0   0   0   0   0   1   0   0   0   0   0   0   0   0   0   0   0   0\n",
      "    0   0   0   0   3   0   0 190]], shape=(26, 26), dtype=int32)\n"
     ]
    }
   ],
   "source": [
    "# Predict the classes (characters) of the test dataset\n",
    "preds_proba = model.predict(test_features)\n",
    "# Convert the set of predictions to a single value per prediction\n",
    "preds = preds_proba.argmax(axis=1)\n",
    "# Generate a confusion matrix for the predictions\n",
    "print(tf.math.confusion_matrix(test_target, preds))"
   ],
   "metadata": {
    "collapsed": false,
    "ExecuteTime": {
     "end_time": "2023-10-12T00:44:03.381848900Z",
     "start_time": "2023-10-12T00:44:02.601851400Z"
    }
   },
   "id": "87e74b5dcff471d2"
  },
  {
   "cell_type": "markdown",
   "source": [
    "### We can see that the model is performing well, as the output table has the highest values mostly following the diagonal - the diagonal of this table represents correct predictions, so high values along this line with now values elsewhere shows high accuracy with few mistakes."
   ],
   "metadata": {
    "collapsed": false
   },
   "id": "3e509ab85a5d9ac6"
  }
 ],
 "metadata": {
  "kernelspec": {
   "display_name": "Python 3",
   "language": "python",
   "name": "python3"
  },
  "language_info": {
   "codemirror_mode": {
    "name": "ipython",
    "version": 2
   },
   "file_extension": ".py",
   "mimetype": "text/x-python",
   "name": "python",
   "nbconvert_exporter": "python",
   "pygments_lexer": "ipython2",
   "version": "2.7.6"
  }
 },
 "nbformat": 4,
 "nbformat_minor": 5
}
