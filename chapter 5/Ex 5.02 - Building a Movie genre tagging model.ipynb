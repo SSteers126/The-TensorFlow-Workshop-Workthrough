{
 "cells": [
  {
   "cell_type": "code",
   "execution_count": 20,
   "id": "initial_id",
   "metadata": {
    "collapsed": true,
    "ExecuteTime": {
     "end_time": "2023-10-12T02:22:35.210267200Z",
     "start_time": "2023-10-12T02:22:35.189269800Z"
    }
   },
   "outputs": [
    {
     "data": {
      "text/plain": "'2.14.0'"
     },
     "execution_count": 20,
     "metadata": {},
     "output_type": "execute_result"
    }
   ],
   "source": [
    "import tensorflow as tf\n",
    "import pandas as pd\n",
    "tf.__version__"
   ]
  },
  {
   "cell_type": "code",
   "execution_count": 21,
   "outputs": [
    {
     "data": {
      "text/plain": "   experience  deep  star  situation  hand  birthday  queen  space   de  bond  \\\n0         0.0   0.0   0.0        0.0   0.0       0.0    0.0    1.0  0.0   0.0   \n1         0.0   0.0   0.0        0.0   0.0       0.0    0.0    0.0  0.0   0.0   \n2         0.0   0.0   0.0        0.0   0.0       0.0    0.0    0.0  0.0   0.0   \n3         0.0   0.0   0.0        0.0   0.0       0.0    0.0    0.0  0.0   0.0   \n4         0.0   0.0   0.0        0.0   0.0       0.0    0.0    0.0  0.0   0.0   \n\n   ...  bad  share  owner  today  married  doctor  death  steve  claims  black  \n0  ...  0.0    0.0    0.0    0.0      0.0     0.0    0.0    0.0     0.0    0.0  \n1  ...  0.0    0.0    0.0    0.0      0.0     0.0    0.0    0.0     0.0    0.0  \n2  ...  0.0    0.0    0.0    0.0      0.0     0.0    0.0    0.0     0.0    0.0  \n3  ...  0.0    0.0    0.0    0.0      0.0     0.0    0.0    0.0     0.0    0.0  \n4  ...  0.0    0.0    0.0    0.0      0.0     0.0    0.0    0.0     0.0    0.0  \n\n[5 rows x 1001 columns]",
      "text/html": "<div>\n<style scoped>\n    .dataframe tbody tr th:only-of-type {\n        vertical-align: middle;\n    }\n\n    .dataframe tbody tr th {\n        vertical-align: top;\n    }\n\n    .dataframe thead th {\n        text-align: right;\n    }\n</style>\n<table border=\"1\" class=\"dataframe\">\n  <thead>\n    <tr style=\"text-align: right;\">\n      <th></th>\n      <th>experience</th>\n      <th>deep</th>\n      <th>star</th>\n      <th>situation</th>\n      <th>hand</th>\n      <th>birthday</th>\n      <th>queen</th>\n      <th>space</th>\n      <th>de</th>\n      <th>bond</th>\n      <th>...</th>\n      <th>bad</th>\n      <th>share</th>\n      <th>owner</th>\n      <th>today</th>\n      <th>married</th>\n      <th>doctor</th>\n      <th>death</th>\n      <th>steve</th>\n      <th>claims</th>\n      <th>black</th>\n    </tr>\n  </thead>\n  <tbody>\n    <tr>\n      <th>0</th>\n      <td>0.0</td>\n      <td>0.0</td>\n      <td>0.0</td>\n      <td>0.0</td>\n      <td>0.0</td>\n      <td>0.0</td>\n      <td>0.0</td>\n      <td>1.0</td>\n      <td>0.0</td>\n      <td>0.0</td>\n      <td>...</td>\n      <td>0.0</td>\n      <td>0.0</td>\n      <td>0.0</td>\n      <td>0.0</td>\n      <td>0.0</td>\n      <td>0.0</td>\n      <td>0.0</td>\n      <td>0.0</td>\n      <td>0.0</td>\n      <td>0.0</td>\n    </tr>\n    <tr>\n      <th>1</th>\n      <td>0.0</td>\n      <td>0.0</td>\n      <td>0.0</td>\n      <td>0.0</td>\n      <td>0.0</td>\n      <td>0.0</td>\n      <td>0.0</td>\n      <td>0.0</td>\n      <td>0.0</td>\n      <td>0.0</td>\n      <td>...</td>\n      <td>0.0</td>\n      <td>0.0</td>\n      <td>0.0</td>\n      <td>0.0</td>\n      <td>0.0</td>\n      <td>0.0</td>\n      <td>0.0</td>\n      <td>0.0</td>\n      <td>0.0</td>\n      <td>0.0</td>\n    </tr>\n    <tr>\n      <th>2</th>\n      <td>0.0</td>\n      <td>0.0</td>\n      <td>0.0</td>\n      <td>0.0</td>\n      <td>0.0</td>\n      <td>0.0</td>\n      <td>0.0</td>\n      <td>0.0</td>\n      <td>0.0</td>\n      <td>0.0</td>\n      <td>...</td>\n      <td>0.0</td>\n      <td>0.0</td>\n      <td>0.0</td>\n      <td>0.0</td>\n      <td>0.0</td>\n      <td>0.0</td>\n      <td>0.0</td>\n      <td>0.0</td>\n      <td>0.0</td>\n      <td>0.0</td>\n    </tr>\n    <tr>\n      <th>3</th>\n      <td>0.0</td>\n      <td>0.0</td>\n      <td>0.0</td>\n      <td>0.0</td>\n      <td>0.0</td>\n      <td>0.0</td>\n      <td>0.0</td>\n      <td>0.0</td>\n      <td>0.0</td>\n      <td>0.0</td>\n      <td>...</td>\n      <td>0.0</td>\n      <td>0.0</td>\n      <td>0.0</td>\n      <td>0.0</td>\n      <td>0.0</td>\n      <td>0.0</td>\n      <td>0.0</td>\n      <td>0.0</td>\n      <td>0.0</td>\n      <td>0.0</td>\n    </tr>\n    <tr>\n      <th>4</th>\n      <td>0.0</td>\n      <td>0.0</td>\n      <td>0.0</td>\n      <td>0.0</td>\n      <td>0.0</td>\n      <td>0.0</td>\n      <td>0.0</td>\n      <td>0.0</td>\n      <td>0.0</td>\n      <td>0.0</td>\n      <td>...</td>\n      <td>0.0</td>\n      <td>0.0</td>\n      <td>0.0</td>\n      <td>0.0</td>\n      <td>0.0</td>\n      <td>0.0</td>\n      <td>0.0</td>\n      <td>0.0</td>\n      <td>0.0</td>\n      <td>0.0</td>\n    </tr>\n  </tbody>\n</table>\n<p>5 rows × 1001 columns</p>\n</div>"
     },
     "execution_count": 21,
     "metadata": {},
     "output_type": "execute_result"
    }
   ],
   "source": [
    "feature_set = pd.read_csv(\"../input_data/CSVs/IMDB-F-features.csv\", low_memory=False)\n",
    "feature_set.head()"
   ],
   "metadata": {
    "collapsed": false,
    "ExecuteTime": {
     "end_time": "2023-10-12T02:22:37.032769900Z",
     "start_time": "2023-10-12T02:22:35.199770700Z"
    }
   },
   "id": "aa5ec7e14bb0af00"
  },
  {
   "cell_type": "code",
   "execution_count": 22,
   "outputs": [
    {
     "data": {
      "text/plain": "   Sci-Fi  Crime  Romance  Animation  Music  Comedy  War  Horror  Film-Noir  \\\n0     0.0    0.0      0.0        0.0    0.0     1.0  0.0     0.0        0.0   \n1     0.0    0.0      0.0        0.0    0.0     1.0  0.0     0.0        0.0   \n2     0.0    0.0      0.0        1.0    0.0     1.0  0.0     0.0        0.0   \n3     0.0    0.0      0.0        0.0    0.0     1.0  0.0     0.0        0.0   \n4     0.0    0.0      0.0        0.0    0.0     1.0  0.0     0.0        0.0   \n\n   Adventure  ...  Action  Documentary  Musical  History  Family  Reality-TV  \\\n0        0.0  ...     0.0          0.0      0.0      0.0     0.0         0.0   \n1        0.0  ...     0.0          0.0      0.0      0.0     0.0         0.0   \n2        0.0  ...     0.0          0.0      0.0      0.0     1.0         0.0   \n3        0.0  ...     0.0          0.0      0.0      0.0     0.0         0.0   \n4        0.0  ...     0.0          0.0      1.0      0.0     0.0         0.0   \n\n   Fantasy  Game-Show  Sport  Biography  \n0      0.0        0.0    0.0        0.0  \n1      0.0        0.0    0.0        0.0  \n2      0.0        0.0    0.0        0.0  \n3      0.0        0.0    0.0        0.0  \n4      0.0        0.0    0.0        0.0  \n\n[5 rows x 28 columns]",
      "text/html": "<div>\n<style scoped>\n    .dataframe tbody tr th:only-of-type {\n        vertical-align: middle;\n    }\n\n    .dataframe tbody tr th {\n        vertical-align: top;\n    }\n\n    .dataframe thead th {\n        text-align: right;\n    }\n</style>\n<table border=\"1\" class=\"dataframe\">\n  <thead>\n    <tr style=\"text-align: right;\">\n      <th></th>\n      <th>Sci-Fi</th>\n      <th>Crime</th>\n      <th>Romance</th>\n      <th>Animation</th>\n      <th>Music</th>\n      <th>Comedy</th>\n      <th>War</th>\n      <th>Horror</th>\n      <th>Film-Noir</th>\n      <th>Adventure</th>\n      <th>...</th>\n      <th>Action</th>\n      <th>Documentary</th>\n      <th>Musical</th>\n      <th>History</th>\n      <th>Family</th>\n      <th>Reality-TV</th>\n      <th>Fantasy</th>\n      <th>Game-Show</th>\n      <th>Sport</th>\n      <th>Biography</th>\n    </tr>\n  </thead>\n  <tbody>\n    <tr>\n      <th>0</th>\n      <td>0.0</td>\n      <td>0.0</td>\n      <td>0.0</td>\n      <td>0.0</td>\n      <td>0.0</td>\n      <td>1.0</td>\n      <td>0.0</td>\n      <td>0.0</td>\n      <td>0.0</td>\n      <td>0.0</td>\n      <td>...</td>\n      <td>0.0</td>\n      <td>0.0</td>\n      <td>0.0</td>\n      <td>0.0</td>\n      <td>0.0</td>\n      <td>0.0</td>\n      <td>0.0</td>\n      <td>0.0</td>\n      <td>0.0</td>\n      <td>0.0</td>\n    </tr>\n    <tr>\n      <th>1</th>\n      <td>0.0</td>\n      <td>0.0</td>\n      <td>0.0</td>\n      <td>0.0</td>\n      <td>0.0</td>\n      <td>1.0</td>\n      <td>0.0</td>\n      <td>0.0</td>\n      <td>0.0</td>\n      <td>0.0</td>\n      <td>...</td>\n      <td>0.0</td>\n      <td>0.0</td>\n      <td>0.0</td>\n      <td>0.0</td>\n      <td>0.0</td>\n      <td>0.0</td>\n      <td>0.0</td>\n      <td>0.0</td>\n      <td>0.0</td>\n      <td>0.0</td>\n    </tr>\n    <tr>\n      <th>2</th>\n      <td>0.0</td>\n      <td>0.0</td>\n      <td>0.0</td>\n      <td>1.0</td>\n      <td>0.0</td>\n      <td>1.0</td>\n      <td>0.0</td>\n      <td>0.0</td>\n      <td>0.0</td>\n      <td>0.0</td>\n      <td>...</td>\n      <td>0.0</td>\n      <td>0.0</td>\n      <td>0.0</td>\n      <td>0.0</td>\n      <td>1.0</td>\n      <td>0.0</td>\n      <td>0.0</td>\n      <td>0.0</td>\n      <td>0.0</td>\n      <td>0.0</td>\n    </tr>\n    <tr>\n      <th>3</th>\n      <td>0.0</td>\n      <td>0.0</td>\n      <td>0.0</td>\n      <td>0.0</td>\n      <td>0.0</td>\n      <td>1.0</td>\n      <td>0.0</td>\n      <td>0.0</td>\n      <td>0.0</td>\n      <td>0.0</td>\n      <td>...</td>\n      <td>0.0</td>\n      <td>0.0</td>\n      <td>0.0</td>\n      <td>0.0</td>\n      <td>0.0</td>\n      <td>0.0</td>\n      <td>0.0</td>\n      <td>0.0</td>\n      <td>0.0</td>\n      <td>0.0</td>\n    </tr>\n    <tr>\n      <th>4</th>\n      <td>0.0</td>\n      <td>0.0</td>\n      <td>0.0</td>\n      <td>0.0</td>\n      <td>0.0</td>\n      <td>1.0</td>\n      <td>0.0</td>\n      <td>0.0</td>\n      <td>0.0</td>\n      <td>0.0</td>\n      <td>...</td>\n      <td>0.0</td>\n      <td>0.0</td>\n      <td>1.0</td>\n      <td>0.0</td>\n      <td>0.0</td>\n      <td>0.0</td>\n      <td>0.0</td>\n      <td>0.0</td>\n      <td>0.0</td>\n      <td>0.0</td>\n    </tr>\n  </tbody>\n</table>\n<p>5 rows × 28 columns</p>\n</div>"
     },
     "execution_count": 22,
     "metadata": {},
     "output_type": "execute_result"
    }
   ],
   "source": [
    "targets = pd.read_csv(\"../input_data/CSVs/IMDB-F-targets.csv\")\n",
    "targets.head()"
   ],
   "metadata": {
    "collapsed": false,
    "ExecuteTime": {
     "end_time": "2023-10-12T02:22:37.195769700Z",
     "start_time": "2023-10-12T02:22:37.028772300Z"
    }
   },
   "id": "b2c24e0d6541bf2f"
  },
  {
   "cell_type": "code",
   "execution_count": 23,
   "outputs": [
    {
     "data": {
      "text/plain": "       Sci-Fi  Crime  Romance  Animation  Music  Comedy  War  Horror  \\\n15000     0.0    0.0      0.0        0.0    0.0     0.0  0.0     0.0   \n15001     0.0    0.0      0.0        0.0    0.0     0.0  0.0     0.0   \n15002     0.0    0.0      0.0        0.0    0.0     0.0  0.0     0.0   \n15003     0.0    1.0      1.0        0.0    0.0     0.0  1.0     0.0   \n15004     0.0    0.0      0.0        0.0    0.0     0.0  0.0     0.0   \n\n       Film-Noir  Adventure  ...  Action  Documentary  Musical  History  \\\n15000        0.0        1.0  ...     1.0          0.0      0.0      0.0   \n15001        0.0        0.0  ...     0.0          0.0      0.0      0.0   \n15002        0.0        0.0  ...     0.0          0.0      0.0      0.0   \n15003        0.0        0.0  ...     0.0          0.0      0.0      1.0   \n15004        0.0        0.0  ...     0.0          0.0      0.0      0.0   \n\n       Family  Reality-TV  Fantasy  Game-Show  Sport  Biography  \n15000     0.0         0.0      0.0        0.0    0.0        0.0  \n15001     0.0         0.0      0.0        0.0    0.0        0.0  \n15002     0.0         0.0      0.0        0.0    0.0        0.0  \n15003     0.0         0.0      0.0        0.0    0.0        0.0  \n15004     1.0         0.0      0.0        0.0    0.0        0.0  \n\n[5 rows x 28 columns]",
      "text/html": "<div>\n<style scoped>\n    .dataframe tbody tr th:only-of-type {\n        vertical-align: middle;\n    }\n\n    .dataframe tbody tr th {\n        vertical-align: top;\n    }\n\n    .dataframe thead th {\n        text-align: right;\n    }\n</style>\n<table border=\"1\" class=\"dataframe\">\n  <thead>\n    <tr style=\"text-align: right;\">\n      <th></th>\n      <th>Sci-Fi</th>\n      <th>Crime</th>\n      <th>Romance</th>\n      <th>Animation</th>\n      <th>Music</th>\n      <th>Comedy</th>\n      <th>War</th>\n      <th>Horror</th>\n      <th>Film-Noir</th>\n      <th>Adventure</th>\n      <th>...</th>\n      <th>Action</th>\n      <th>Documentary</th>\n      <th>Musical</th>\n      <th>History</th>\n      <th>Family</th>\n      <th>Reality-TV</th>\n      <th>Fantasy</th>\n      <th>Game-Show</th>\n      <th>Sport</th>\n      <th>Biography</th>\n    </tr>\n  </thead>\n  <tbody>\n    <tr>\n      <th>15000</th>\n      <td>0.0</td>\n      <td>0.0</td>\n      <td>0.0</td>\n      <td>0.0</td>\n      <td>0.0</td>\n      <td>0.0</td>\n      <td>0.0</td>\n      <td>0.0</td>\n      <td>0.0</td>\n      <td>1.0</td>\n      <td>...</td>\n      <td>1.0</td>\n      <td>0.0</td>\n      <td>0.0</td>\n      <td>0.0</td>\n      <td>0.0</td>\n      <td>0.0</td>\n      <td>0.0</td>\n      <td>0.0</td>\n      <td>0.0</td>\n      <td>0.0</td>\n    </tr>\n    <tr>\n      <th>15001</th>\n      <td>0.0</td>\n      <td>0.0</td>\n      <td>0.0</td>\n      <td>0.0</td>\n      <td>0.0</td>\n      <td>0.0</td>\n      <td>0.0</td>\n      <td>0.0</td>\n      <td>0.0</td>\n      <td>0.0</td>\n      <td>...</td>\n      <td>0.0</td>\n      <td>0.0</td>\n      <td>0.0</td>\n      <td>0.0</td>\n      <td>0.0</td>\n      <td>0.0</td>\n      <td>0.0</td>\n      <td>0.0</td>\n      <td>0.0</td>\n      <td>0.0</td>\n    </tr>\n    <tr>\n      <th>15002</th>\n      <td>0.0</td>\n      <td>0.0</td>\n      <td>0.0</td>\n      <td>0.0</td>\n      <td>0.0</td>\n      <td>0.0</td>\n      <td>0.0</td>\n      <td>0.0</td>\n      <td>0.0</td>\n      <td>0.0</td>\n      <td>...</td>\n      <td>0.0</td>\n      <td>0.0</td>\n      <td>0.0</td>\n      <td>0.0</td>\n      <td>0.0</td>\n      <td>0.0</td>\n      <td>0.0</td>\n      <td>0.0</td>\n      <td>0.0</td>\n      <td>0.0</td>\n    </tr>\n    <tr>\n      <th>15003</th>\n      <td>0.0</td>\n      <td>1.0</td>\n      <td>1.0</td>\n      <td>0.0</td>\n      <td>0.0</td>\n      <td>0.0</td>\n      <td>1.0</td>\n      <td>0.0</td>\n      <td>0.0</td>\n      <td>0.0</td>\n      <td>...</td>\n      <td>0.0</td>\n      <td>0.0</td>\n      <td>0.0</td>\n      <td>1.0</td>\n      <td>0.0</td>\n      <td>0.0</td>\n      <td>0.0</td>\n      <td>0.0</td>\n      <td>0.0</td>\n      <td>0.0</td>\n    </tr>\n    <tr>\n      <th>15004</th>\n      <td>0.0</td>\n      <td>0.0</td>\n      <td>0.0</td>\n      <td>0.0</td>\n      <td>0.0</td>\n      <td>0.0</td>\n      <td>0.0</td>\n      <td>0.0</td>\n      <td>0.0</td>\n      <td>0.0</td>\n      <td>...</td>\n      <td>0.0</td>\n      <td>0.0</td>\n      <td>0.0</td>\n      <td>0.0</td>\n      <td>1.0</td>\n      <td>0.0</td>\n      <td>0.0</td>\n      <td>0.0</td>\n      <td>0.0</td>\n      <td>0.0</td>\n    </tr>\n  </tbody>\n</table>\n<p>5 rows × 28 columns</p>\n</div>"
     },
     "execution_count": 23,
     "metadata": {},
     "output_type": "execute_result"
    }
   ],
   "source": [
    "feature_train = feature_set.iloc[:15000]\n",
    "target_train = targets.iloc[:15000]\n",
    "\n",
    "feature_test = feature_set.iloc[15000:]\n",
    "target_test = targets.iloc[15000:]\n",
    "target_test.head()"
   ],
   "metadata": {
    "collapsed": false,
    "ExecuteTime": {
     "end_time": "2023-10-12T02:22:37.196770Z",
     "start_time": "2023-10-12T02:22:37.098270300Z"
    }
   },
   "id": "e83cddfb8ebc5225"
  },
  {
   "cell_type": "code",
   "execution_count": 24,
   "outputs": [
    {
     "name": "stdout",
     "output_type": "stream",
     "text": [
      "Model: \"sequential_2\"\n",
      "_________________________________________________________________\n",
      " Layer (type)                Output Shape              Param #   \n",
      "=================================================================\n",
      " dense_10 (Dense)            (None, 512)               513024    \n",
      "                                                                 \n",
      " dense_11 (Dense)            (None, 512)               262656    \n",
      "                                                                 \n",
      " dense_12 (Dense)            (None, 128)               65664     \n",
      "                                                                 \n",
      " dense_13 (Dense)            (None, 128)               16512     \n",
      "                                                                 \n",
      " dense_14 (Dense)            (None, 28)                3612      \n",
      "                                                                 \n",
      "=================================================================\n",
      "Total params: 861468 (3.29 MB)\n",
      "Trainable params: 861468 (3.29 MB)\n",
      "Non-trainable params: 0 (0.00 Byte)\n",
      "_________________________________________________________________\n"
     ]
    }
   ],
   "source": [
    "# Ensure consistency with book\n",
    "tf.random.set_seed(8)\n",
    "\n",
    "model = tf.keras.models.Sequential()\n",
    "\n",
    "# Layers\n",
    "in_layer = tf.keras.layers.Dense(512, input_shape=(1001,), activation='relu')\n",
    "fc1 = tf.keras.layers.Dense(512, activation='relu')\n",
    "fc2 = tf.keras.layers.Dense(128, activation='relu')\n",
    "fc3 = tf.keras.layers.Dense(128, activation='relu')\n",
    "output = tf.keras.layers.Dense(28, activation='sigmoid')\n",
    "\n",
    "model.add(in_layer)\n",
    "model.add(fc1)\n",
    "model.add(fc2)\n",
    "model.add(fc3)\n",
    "model.add(output)\n",
    "model.summary()"
   ],
   "metadata": {
    "collapsed": false,
    "ExecuteTime": {
     "end_time": "2023-10-12T02:22:37.398769600Z",
     "start_time": "2023-10-12T02:22:37.127769100Z"
    }
   },
   "id": "fbe3edb6293cfb9"
  },
  {
   "cell_type": "code",
   "execution_count": 25,
   "outputs": [
    {
     "name": "stdout",
     "output_type": "stream",
     "text": [
      "Epoch 1/20\n",
      "469/469 [==============================] - 7s 12ms/step - loss: 0.2249 - accuracy: 0.1409\n",
      "Epoch 2/20\n",
      "469/469 [==============================] - 6s 12ms/step - loss: 0.2014 - accuracy: 0.1793\n",
      "Epoch 3/20\n",
      "469/469 [==============================] - 6s 13ms/step - loss: 0.1788 - accuracy: 0.2449\n",
      "Epoch 4/20\n",
      "469/469 [==============================] - 6s 13ms/step - loss: 0.1344 - accuracy: 0.3711\n",
      "Epoch 5/20\n",
      "469/469 [==============================] - 6s 12ms/step - loss: 0.0896 - accuracy: 0.4988\n",
      "Epoch 6/20\n",
      "469/469 [==============================] - 6s 12ms/step - loss: 0.0609 - accuracy: 0.5628\n",
      "Epoch 7/20\n",
      "469/469 [==============================] - 6s 12ms/step - loss: 0.0432 - accuracy: 0.5971\n",
      "Epoch 8/20\n",
      "469/469 [==============================] - 6s 12ms/step - loss: 0.0320 - accuracy: 0.6115\n",
      "Epoch 9/20\n",
      "469/469 [==============================] - 6s 13ms/step - loss: 0.0252 - accuracy: 0.6189\n",
      "Epoch 10/20\n",
      "469/469 [==============================] - 6s 12ms/step - loss: 0.0207 - accuracy: 0.6209\n",
      "Epoch 11/20\n",
      "469/469 [==============================] - 6s 12ms/step - loss: 0.0174 - accuracy: 0.6209\n",
      "Epoch 12/20\n",
      "469/469 [==============================] - 6s 12ms/step - loss: 0.0159 - accuracy: 0.6253\n",
      "Epoch 13/20\n",
      "469/469 [==============================] - 6s 12ms/step - loss: 0.0154 - accuracy: 0.6255\n",
      "Epoch 14/20\n",
      "469/469 [==============================] - 6s 12ms/step - loss: 0.0136 - accuracy: 0.6255\n",
      "Epoch 15/20\n",
      "469/469 [==============================] - 6s 12ms/step - loss: 0.0131 - accuracy: 0.6333\n",
      "Epoch 16/20\n",
      "469/469 [==============================] - 6s 13ms/step - loss: 0.0120 - accuracy: 0.6311\n",
      "Epoch 17/20\n",
      "469/469 [==============================] - 6s 12ms/step - loss: 0.0112 - accuracy: 0.6297\n",
      "Epoch 18/20\n",
      "469/469 [==============================] - 6s 12ms/step - loss: 0.0099 - accuracy: 0.6373\n",
      "Epoch 19/20\n",
      "469/469 [==============================] - 6s 12ms/step - loss: 0.0101 - accuracy: 0.6311\n",
      "Epoch 20/20\n",
      "469/469 [==============================] - 6s 12ms/step - loss: 0.0102 - accuracy: 0.6353\n"
     ]
    },
    {
     "data": {
      "text/plain": "<keras.src.callbacks.History at 0x1f3278c2dd0>"
     },
     "execution_count": 25,
     "metadata": {},
     "output_type": "execute_result"
    }
   ],
   "source": [
    "loss = tf.keras.losses.BinaryCrossentropy()\n",
    "optimiser = tf.keras.optimizers.Adam(0.001)\n",
    "\n",
    "model.compile(optimizer=optimiser, loss=loss, metrics=['accuracy'])\n",
    "model.fit(feature_train, target_train, epochs=20)"
   ],
   "metadata": {
    "collapsed": false,
    "ExecuteTime": {
     "end_time": "2023-10-12T02:24:33.849266400Z",
     "start_time": "2023-10-12T02:22:37.267769900Z"
    }
   },
   "id": "76ea0281a5da80b0"
  },
  {
   "cell_type": "code",
   "execution_count": 26,
   "outputs": [
    {
     "name": "stdout",
     "output_type": "stream",
     "text": [
      "157/157 [==============================] - 1s 3ms/step - loss: 0.9803 - accuracy: 0.1266\n"
     ]
    },
    {
     "data": {
      "text/plain": "[0.9802947044372559, 0.1265999972820282]"
     },
     "execution_count": 26,
     "metadata": {},
     "output_type": "execute_result"
    }
   ],
   "source": [
    "model.evaluate(feature_test, target_test)"
   ],
   "metadata": {
    "collapsed": false,
    "ExecuteTime": {
     "end_time": "2023-10-12T02:24:34.571767900Z",
     "start_time": "2023-10-12T02:24:33.820268800Z"
    }
   },
   "id": "7a12e8321c4052d8"
  },
  {
   "cell_type": "markdown",
   "source": [
    "### In the case of this model, the vast difference in accuracy between the training and testing datasets is good evidence that the model is over-fitting and learning patterns that only work for the provided data, as opposed to a general pattern."
   ],
   "metadata": {
    "collapsed": false
   },
   "id": "ebb0c1d9fad3edd0"
  }
 ],
 "metadata": {
  "kernelspec": {
   "display_name": "Python 3",
   "language": "python",
   "name": "python3"
  },
  "language_info": {
   "codemirror_mode": {
    "name": "ipython",
    "version": 2
   },
   "file_extension": ".py",
   "mimetype": "text/x-python",
   "name": "python",
   "nbconvert_exporter": "python",
   "pygments_lexer": "ipython2",
   "version": "2.7.6"
  }
 },
 "nbformat": 4,
 "nbformat_minor": 5
}
