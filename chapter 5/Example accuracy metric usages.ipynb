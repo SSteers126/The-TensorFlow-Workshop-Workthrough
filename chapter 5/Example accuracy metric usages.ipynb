{
 "cells": [
  {
   "cell_type": "code",
   "execution_count": 2,
   "id": "initial_id",
   "metadata": {
    "collapsed": true,
    "ExecuteTime": {
     "end_time": "2023-10-11T21:20:40.146375200Z",
     "start_time": "2023-10-11T21:20:32.903376900Z"
    }
   },
   "outputs": [
    {
     "data": {
      "text/plain": "'2.13.0'"
     },
     "execution_count": 2,
     "metadata": {},
     "output_type": "execute_result"
    }
   ],
   "source": [
    "import tensorflow as tf\n",
    "tf.__version__"
   ]
  },
  {
   "cell_type": "code",
   "execution_count": 3,
   "outputs": [
    {
     "name": "stdout",
     "output_type": "stream",
     "text": [
      "Precision: 0.6666666865348816\n",
      "Recall: 0.5\n"
     ]
    }
   ],
   "source": [
    "# Example predictions from a model\n",
    "preds = [1, 1, 1, 1, 0, 0]\n",
    "# Example real values from a dataset\n",
    "target = [1, 0, 1, 0, 1, 0]\n",
    "\n",
    "# Precision shows the amount of correct positive (1) predictions out of all positive predictions\n",
    "prec = tf.keras.metrics.Precision()\n",
    "prec.update_state(preds, target)\n",
    "print(f\"Precision: {prec.result().numpy()}\")\n",
    "\n",
    "# Precision shows the amount of correct negative (0) predictions out of all negative predictions\n",
    "rec = tf.keras.metrics.Recall()\n",
    "rec.update_state(preds, target)\n",
    "print(f\"Recall: {rec.result().numpy()}\")"
   ],
   "metadata": {
    "collapsed": false,
    "ExecuteTime": {
     "end_time": "2023-10-11T21:20:40.594875Z",
     "start_time": "2023-10-11T21:20:40.145376300Z"
    }
   },
   "id": "83f2393b7656fc8e"
  },
  {
   "cell_type": "code",
   "execution_count": 4,
   "outputs": [
    {
     "name": "stdout",
     "output_type": "stream",
     "text": [
      "tf.Tensor(\n",
      "[[1 2]\n",
      " [1 2]], shape=(2, 2), dtype=int32)\n"
     ]
    }
   ],
   "source": [
    "# Generating a confusion matrix of predictions and target\n",
    "# Table is in order:\n",
    "# True -ve, False +ve\n",
    "# False -ve, True +ve\n",
    "preds = [1, 1, 1, 1, 0, 0]\n",
    "target = [1, 0, 1, 0, 1, 0]\n",
    "\n",
    "print(tf.math.confusion_matrix(target, preds))"
   ],
   "metadata": {
    "collapsed": false,
    "ExecuteTime": {
     "end_time": "2023-10-11T21:20:40.662375100Z",
     "start_time": "2023-10-11T21:20:40.591377800Z"
    }
   },
   "id": "861dfe434c3a3862"
  },
  {
   "cell_type": "code",
   "execution_count": 4,
   "outputs": [],
   "source": [],
   "metadata": {
    "collapsed": false,
    "ExecuteTime": {
     "end_time": "2023-10-11T21:20:40.663375100Z",
     "start_time": "2023-10-11T21:20:40.630378800Z"
    }
   },
   "id": "b7440af2c07e1ca6"
  }
 ],
 "metadata": {
  "kernelspec": {
   "display_name": "Python 3",
   "language": "python",
   "name": "python3"
  },
  "language_info": {
   "codemirror_mode": {
    "name": "ipython",
    "version": 2
   },
   "file_extension": ".py",
   "mimetype": "text/x-python",
   "name": "python",
   "nbconvert_exporter": "python",
   "pygments_lexer": "ipython2",
   "version": "2.7.6"
  }
 },
 "nbformat": 4,
 "nbformat_minor": 5
}
