{
 "cells": [
  {
   "cell_type": "code",
   "execution_count": 1,
   "id": "initial_id",
   "metadata": {
    "collapsed": true,
    "ExecuteTime": {
     "end_time": "2023-10-11T22:11:47.022191500Z",
     "start_time": "2023-10-11T22:11:37.852194600Z"
    }
   },
   "outputs": [
    {
     "data": {
      "text/plain": "'2.13.0'"
     },
     "execution_count": 1,
     "metadata": {},
     "output_type": "execute_result"
    }
   ],
   "source": [
    "import tensorflow as tf\n",
    "import pandas as pd\n",
    "tf.__version__"
   ]
  },
  {
   "cell_type": "code",
   "execution_count": 2,
   "outputs": [
    {
     "data": {
      "text/plain": "    0   1   2  3   4   5   6   7   8  9\n0  50  21  77  0  28   0  27  48  22  2\n1  55   0  92  0   0  26  36  92  56  4\n2  53   0  82  0  52  -5  29  30   2  1\n3  37   0  76  0  28  18  40  48   8  1\n4  37   0  79  0  34 -26  43  46   2  1",
      "text/html": "<div>\n<style scoped>\n    .dataframe tbody tr th:only-of-type {\n        vertical-align: middle;\n    }\n\n    .dataframe tbody tr th {\n        vertical-align: top;\n    }\n\n    .dataframe thead th {\n        text-align: right;\n    }\n</style>\n<table border=\"1\" class=\"dataframe\">\n  <thead>\n    <tr style=\"text-align: right;\">\n      <th></th>\n      <th>0</th>\n      <th>1</th>\n      <th>2</th>\n      <th>3</th>\n      <th>4</th>\n      <th>5</th>\n      <th>6</th>\n      <th>7</th>\n      <th>8</th>\n      <th>9</th>\n    </tr>\n  </thead>\n  <tbody>\n    <tr>\n      <th>0</th>\n      <td>50</td>\n      <td>21</td>\n      <td>77</td>\n      <td>0</td>\n      <td>28</td>\n      <td>0</td>\n      <td>27</td>\n      <td>48</td>\n      <td>22</td>\n      <td>2</td>\n    </tr>\n    <tr>\n      <th>1</th>\n      <td>55</td>\n      <td>0</td>\n      <td>92</td>\n      <td>0</td>\n      <td>0</td>\n      <td>26</td>\n      <td>36</td>\n      <td>92</td>\n      <td>56</td>\n      <td>4</td>\n    </tr>\n    <tr>\n      <th>2</th>\n      <td>53</td>\n      <td>0</td>\n      <td>82</td>\n      <td>0</td>\n      <td>52</td>\n      <td>-5</td>\n      <td>29</td>\n      <td>30</td>\n      <td>2</td>\n      <td>1</td>\n    </tr>\n    <tr>\n      <th>3</th>\n      <td>37</td>\n      <td>0</td>\n      <td>76</td>\n      <td>0</td>\n      <td>28</td>\n      <td>18</td>\n      <td>40</td>\n      <td>48</td>\n      <td>8</td>\n      <td>1</td>\n    </tr>\n    <tr>\n      <th>4</th>\n      <td>37</td>\n      <td>0</td>\n      <td>79</td>\n      <td>0</td>\n      <td>34</td>\n      <td>-26</td>\n      <td>43</td>\n      <td>46</td>\n      <td>2</td>\n      <td>1</td>\n    </tr>\n  </tbody>\n</table>\n</div>"
     },
     "execution_count": 2,
     "metadata": {},
     "output_type": "execute_result"
    }
   ],
   "source": [
    "# Read training data - table of elements separated by spaces for columns, and rows as newlines\n",
    "X_train = pd.read_table(\"../input_data/other/shuttle.trn\", header=None, sep=' ')\n",
    "X_train.head()"
   ],
   "metadata": {
    "collapsed": false,
    "ExecuteTime": {
     "end_time": "2023-10-11T22:14:55.840586100Z",
     "start_time": "2023-10-11T22:14:55.774086700Z"
    }
   },
   "id": "eea2ef08d2c8d446"
  },
  {
   "cell_type": "code",
   "execution_count": 3,
   "outputs": [
    {
     "data": {
      "text/plain": "0    2\n1    4\n2    1\n3    1\n4    1\nName: 9, dtype: int64"
     },
     "execution_count": 3,
     "metadata": {},
     "output_type": "execute_result"
    }
   ],
   "source": [
    "# Set target to be column 9 of the dataset (and remove it from the feature set)\n",
    "y_train = X_train.pop(9)\n",
    "y_train.head()"
   ],
   "metadata": {
    "collapsed": false,
    "ExecuteTime": {
     "end_time": "2023-10-11T22:25:34.105792400Z",
     "start_time": "2023-10-11T22:25:34.091294800Z"
    }
   },
   "id": "81ff4b5dd5336fc0"
  },
  {
   "cell_type": "code",
   "execution_count": 4,
   "outputs": [
    {
     "data": {
      "text/plain": "    0  1   2  3   4   5   6   7   8  9\n0  55  0  81  0  -6  11  25  88  64  4\n1  56  0  96  0  52  -4  40  44   4  4\n2  50 -1  89 -7  50   0  39  40   2  1\n3  53  9  79  0  42  -2  25  37  12  4\n4  55  2  82  0  54  -6  26  28   2  1",
      "text/html": "<div>\n<style scoped>\n    .dataframe tbody tr th:only-of-type {\n        vertical-align: middle;\n    }\n\n    .dataframe tbody tr th {\n        vertical-align: top;\n    }\n\n    .dataframe thead th {\n        text-align: right;\n    }\n</style>\n<table border=\"1\" class=\"dataframe\">\n  <thead>\n    <tr style=\"text-align: right;\">\n      <th></th>\n      <th>0</th>\n      <th>1</th>\n      <th>2</th>\n      <th>3</th>\n      <th>4</th>\n      <th>5</th>\n      <th>6</th>\n      <th>7</th>\n      <th>8</th>\n      <th>9</th>\n    </tr>\n  </thead>\n  <tbody>\n    <tr>\n      <th>0</th>\n      <td>55</td>\n      <td>0</td>\n      <td>81</td>\n      <td>0</td>\n      <td>-6</td>\n      <td>11</td>\n      <td>25</td>\n      <td>88</td>\n      <td>64</td>\n      <td>4</td>\n    </tr>\n    <tr>\n      <th>1</th>\n      <td>56</td>\n      <td>0</td>\n      <td>96</td>\n      <td>0</td>\n      <td>52</td>\n      <td>-4</td>\n      <td>40</td>\n      <td>44</td>\n      <td>4</td>\n      <td>4</td>\n    </tr>\n    <tr>\n      <th>2</th>\n      <td>50</td>\n      <td>-1</td>\n      <td>89</td>\n      <td>-7</td>\n      <td>50</td>\n      <td>0</td>\n      <td>39</td>\n      <td>40</td>\n      <td>2</td>\n      <td>1</td>\n    </tr>\n    <tr>\n      <th>3</th>\n      <td>53</td>\n      <td>9</td>\n      <td>79</td>\n      <td>0</td>\n      <td>42</td>\n      <td>-2</td>\n      <td>25</td>\n      <td>37</td>\n      <td>12</td>\n      <td>4</td>\n    </tr>\n    <tr>\n      <th>4</th>\n      <td>55</td>\n      <td>2</td>\n      <td>82</td>\n      <td>0</td>\n      <td>54</td>\n      <td>-6</td>\n      <td>26</td>\n      <td>28</td>\n      <td>2</td>\n      <td>1</td>\n    </tr>\n  </tbody>\n</table>\n</div>"
     },
     "execution_count": 4,
     "metadata": {},
     "output_type": "execute_result"
    }
   ],
   "source": [
    "# Load testing data\n",
    "X_test = pd.read_table(\"../input_data/other/shuttle.tst\", header=None, sep=' ')\n",
    "X_test.head()"
   ],
   "metadata": {
    "collapsed": false,
    "ExecuteTime": {
     "end_time": "2023-10-11T22:27:10.608408600Z",
     "start_time": "2023-10-11T22:27:10.564909Z"
    }
   },
   "id": "d48d0b4bc2266767"
  },
  {
   "cell_type": "code",
   "execution_count": 5,
   "outputs": [
    {
     "data": {
      "text/plain": "0    4\n1    4\n2    1\n3    4\n4    1\nName: 9, dtype: int64"
     },
     "execution_count": 5,
     "metadata": {},
     "output_type": "execute_result"
    }
   ],
   "source": [
    "# Split feature set and target\n",
    "y_test = X_test.pop(9)\n",
    "y_test.head()"
   ],
   "metadata": {
    "collapsed": false,
    "ExecuteTime": {
     "end_time": "2023-10-11T22:27:34.000771600Z",
     "start_time": "2023-10-11T22:27:33.962775500Z"
    }
   },
   "id": "281699ffe052d1be"
  },
  {
   "cell_type": "code",
   "execution_count": 6,
   "outputs": [],
   "source": [
    "# Ensure output is reproducible\n",
    "tf.random.set_seed(8)\n",
    "\n",
    "# Create a new model\n",
    "model = tf.keras.Sequential()\n",
    "# 9 input layer with 512 fully connected nodes\n",
    "fc1 = tf.keras.layers.Dense(512, input_shape=(9,), activation='relu')\n",
    "# Fully connected hidden layers\n",
    "fc2 = tf.keras.layers.Dense(512, activation='relu')\n",
    "fc3 = tf.keras.layers.Dense(128, activation='relu')\n",
    "fc4 = tf.keras.layers.Dense(128, activation='relu')\n",
    "# Output layer for probabilities between 8 categories - Softmax activation for categorical model\n",
    "fc5 = tf.keras.layers.Dense(8, activation='softmax')"
   ],
   "metadata": {
    "collapsed": false,
    "ExecuteTime": {
     "end_time": "2023-10-11T22:39:36.685730600Z",
     "start_time": "2023-10-11T22:39:36.225731600Z"
    }
   },
   "id": "5bd9d3cc6c6038d6"
  },
  {
   "cell_type": "code",
   "execution_count": 7,
   "outputs": [
    {
     "name": "stdout",
     "output_type": "stream",
     "text": [
      "Model: \"sequential\"\n",
      "_________________________________________________________________\n",
      " Layer (type)                Output Shape              Param #   \n",
      "=================================================================\n",
      " dense (Dense)               (None, 512)               5120      \n",
      "                                                                 \n",
      " dense_1 (Dense)             (None, 512)               262656    \n",
      "                                                                 \n",
      " dense_2 (Dense)             (None, 128)               65664     \n",
      "                                                                 \n",
      " dense_3 (Dense)             (None, 128)               16512     \n",
      "                                                                 \n",
      " dense_4 (Dense)             (None, 8)                 1032      \n",
      "                                                                 \n",
      "=================================================================\n",
      "Total params: 350984 (1.34 MB)\n",
      "Trainable params: 350984 (1.34 MB)\n",
      "Non-trainable params: 0 (0.00 Byte)\n",
      "_________________________________________________________________\n"
     ]
    }
   ],
   "source": [
    "# Add the layers to the model\n",
    "model.add(fc1)\n",
    "model.add(fc2)\n",
    "model.add(fc3)\n",
    "model.add(fc4)\n",
    "model.add(fc5)\n",
    "model.summary()"
   ],
   "metadata": {
    "collapsed": false,
    "ExecuteTime": {
     "end_time": "2023-10-11T22:39:57.369681400Z",
     "start_time": "2023-10-11T22:39:57.272680800Z"
    }
   },
   "id": "28fee22f9e55bc96"
  },
  {
   "cell_type": "code",
   "execution_count": 8,
   "outputs": [
    {
     "name": "stdout",
     "output_type": "stream",
     "text": [
      "Epoch 1/5\n",
      "1360/1360 [==============================] - 10s 6ms/step - loss: 0.5382 - accuracy: 0.9773\n",
      "Epoch 2/5\n",
      "1360/1360 [==============================] - 8s 6ms/step - loss: 0.2099 - accuracy: 0.9939\n",
      "Epoch 3/5\n",
      "1360/1360 [==============================] - 8s 6ms/step - loss: 0.0902 - accuracy: 0.9951\n",
      "Epoch 4/5\n",
      "1360/1360 [==============================] - 9s 6ms/step - loss: 0.0519 - accuracy: 0.9966\n",
      "Epoch 5/5\n",
      "1360/1360 [==============================] - 8s 6ms/step - loss: 0.0419 - accuracy: 0.9958\n"
     ]
    },
    {
     "data": {
      "text/plain": "<keras.src.callbacks.History at 0x1fdb93d7150>"
     },
     "execution_count": 8,
     "metadata": {},
     "output_type": "execute_result"
    }
   ],
   "source": [
    "# Sparse loss function will train the model to only place its probability to one output\n",
    "loss = tf.keras.losses.SparseCategoricalCrossentropy()\n",
    "# Use adam optimiser function\n",
    "optimizer = tf.keras.optimizers.Adam(0.001)\n",
    "# Compile the model using the selected function\n",
    "model.compile(optimizer=optimizer, loss=loss, metrics=['accuracy'])\n",
    "# Train the model over 5 epochs\n",
    "model.fit(X_train, y_train, epochs=5)"
   ],
   "metadata": {
    "collapsed": false,
    "ExecuteTime": {
     "end_time": "2023-10-11T22:44:50.023800200Z",
     "start_time": "2023-10-11T22:44:06.698802800Z"
    }
   },
   "id": "eaffe2e3a2e12d6d"
  },
  {
   "cell_type": "code",
   "execution_count": 9,
   "outputs": [
    {
     "name": "stdout",
     "output_type": "stream",
     "text": [
      "454/454 [==============================] - 1s 2ms/step - loss: 0.0151 - accuracy: 0.9973\n"
     ]
    },
    {
     "data": {
      "text/plain": "[0.015117587521672249, 0.9973103404045105]"
     },
     "execution_count": 9,
     "metadata": {},
     "output_type": "execute_result"
    }
   ],
   "source": [
    "# Test the model on the testing dataset\n",
    "model.evaluate(X_test, y_test)"
   ],
   "metadata": {
    "collapsed": false,
    "ExecuteTime": {
     "end_time": "2023-10-11T22:45:29.120986800Z",
     "start_time": "2023-10-11T22:45:27.995492300Z"
    }
   },
   "id": "b2f22f02626d41c5"
  },
  {
   "cell_type": "markdown",
   "source": [
    "# Accuracy in this model is 99.73% as shown by the evaluation output"
   ],
   "metadata": {
    "collapsed": false
   },
   "id": "65a2db676b3dc1ab"
  }
 ],
 "metadata": {
  "kernelspec": {
   "display_name": "Python 3",
   "language": "python",
   "name": "python3"
  },
  "language_info": {
   "codemirror_mode": {
    "name": "ipython",
    "version": 2
   },
   "file_extension": ".py",
   "mimetype": "text/x-python",
   "name": "python",
   "nbconvert_exporter": "python",
   "pygments_lexer": "ipython2",
   "version": "2.7.6"
  }
 },
 "nbformat": 4,
 "nbformat_minor": 5
}
