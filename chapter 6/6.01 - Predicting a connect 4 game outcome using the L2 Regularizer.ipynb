{
 "cells": [
  {
   "cell_type": "code",
   "execution_count": 8,
   "id": "initial_id",
   "metadata": {
    "collapsed": true,
    "ExecuteTime": {
     "end_time": "2023-10-12T13:47:25.706278200Z",
     "start_time": "2023-10-12T13:47:25.644277800Z"
    }
   },
   "outputs": [
    {
     "data": {
      "text/plain": "'2.14.0'"
     },
     "execution_count": 8,
     "metadata": {},
     "output_type": "execute_result"
    }
   ],
   "source": [
    "import tensorflow as tf\n",
    "import pandas as pd\n",
    "tf.__version__"
   ]
  },
  {
   "cell_type": "code",
   "execution_count": 9,
   "outputs": [
    {
     "data": {
      "text/plain": "   a1  a2  a3  a4  a5  a6  b1  b2  b3  b4  ...  f4  f5  f6  g1  g2  g3  g4  \\\n0   0   0   0   0   0   0   0   0   0   0  ...   0   0   0   0   0   0   0   \n1   0   0   0   0   0   0   0   0   0   0  ...   0   0   0   0   0   0   0   \n2   0   0   0   0   0   0   1   0   0   0  ...   0   0   0   0   0   0   0   \n3   0   0   0   0   0   0   0   0   0   0  ...   0   0   0   0   0   0   0   \n4   1   0   0   0   0   0   0   0   0   0  ...   0   0   0   0   0   0   0   \n\n   g5  g6  class  \n0   0   0      2  \n1   0   0      2  \n2   0   0      2  \n3   0   0      2  \n4   0   0      2  \n\n[5 rows x 43 columns]",
      "text/html": "<div>\n<style scoped>\n    .dataframe tbody tr th:only-of-type {\n        vertical-align: middle;\n    }\n\n    .dataframe tbody tr th {\n        vertical-align: top;\n    }\n\n    .dataframe thead th {\n        text-align: right;\n    }\n</style>\n<table border=\"1\" class=\"dataframe\">\n  <thead>\n    <tr style=\"text-align: right;\">\n      <th></th>\n      <th>a1</th>\n      <th>a2</th>\n      <th>a3</th>\n      <th>a4</th>\n      <th>a5</th>\n      <th>a6</th>\n      <th>b1</th>\n      <th>b2</th>\n      <th>b3</th>\n      <th>b4</th>\n      <th>...</th>\n      <th>f4</th>\n      <th>f5</th>\n      <th>f6</th>\n      <th>g1</th>\n      <th>g2</th>\n      <th>g3</th>\n      <th>g4</th>\n      <th>g5</th>\n      <th>g6</th>\n      <th>class</th>\n    </tr>\n  </thead>\n  <tbody>\n    <tr>\n      <th>0</th>\n      <td>0</td>\n      <td>0</td>\n      <td>0</td>\n      <td>0</td>\n      <td>0</td>\n      <td>0</td>\n      <td>0</td>\n      <td>0</td>\n      <td>0</td>\n      <td>0</td>\n      <td>...</td>\n      <td>0</td>\n      <td>0</td>\n      <td>0</td>\n      <td>0</td>\n      <td>0</td>\n      <td>0</td>\n      <td>0</td>\n      <td>0</td>\n      <td>0</td>\n      <td>2</td>\n    </tr>\n    <tr>\n      <th>1</th>\n      <td>0</td>\n      <td>0</td>\n      <td>0</td>\n      <td>0</td>\n      <td>0</td>\n      <td>0</td>\n      <td>0</td>\n      <td>0</td>\n      <td>0</td>\n      <td>0</td>\n      <td>...</td>\n      <td>0</td>\n      <td>0</td>\n      <td>0</td>\n      <td>0</td>\n      <td>0</td>\n      <td>0</td>\n      <td>0</td>\n      <td>0</td>\n      <td>0</td>\n      <td>2</td>\n    </tr>\n    <tr>\n      <th>2</th>\n      <td>0</td>\n      <td>0</td>\n      <td>0</td>\n      <td>0</td>\n      <td>0</td>\n      <td>0</td>\n      <td>1</td>\n      <td>0</td>\n      <td>0</td>\n      <td>0</td>\n      <td>...</td>\n      <td>0</td>\n      <td>0</td>\n      <td>0</td>\n      <td>0</td>\n      <td>0</td>\n      <td>0</td>\n      <td>0</td>\n      <td>0</td>\n      <td>0</td>\n      <td>2</td>\n    </tr>\n    <tr>\n      <th>3</th>\n      <td>0</td>\n      <td>0</td>\n      <td>0</td>\n      <td>0</td>\n      <td>0</td>\n      <td>0</td>\n      <td>0</td>\n      <td>0</td>\n      <td>0</td>\n      <td>0</td>\n      <td>...</td>\n      <td>0</td>\n      <td>0</td>\n      <td>0</td>\n      <td>0</td>\n      <td>0</td>\n      <td>0</td>\n      <td>0</td>\n      <td>0</td>\n      <td>0</td>\n      <td>2</td>\n    </tr>\n    <tr>\n      <th>4</th>\n      <td>1</td>\n      <td>0</td>\n      <td>0</td>\n      <td>0</td>\n      <td>0</td>\n      <td>0</td>\n      <td>0</td>\n      <td>0</td>\n      <td>0</td>\n      <td>0</td>\n      <td>...</td>\n      <td>0</td>\n      <td>0</td>\n      <td>0</td>\n      <td>0</td>\n      <td>0</td>\n      <td>0</td>\n      <td>0</td>\n      <td>0</td>\n      <td>0</td>\n      <td>2</td>\n    </tr>\n  </tbody>\n</table>\n<p>5 rows × 43 columns</p>\n</div>"
     },
     "execution_count": 9,
     "metadata": {},
     "output_type": "execute_result"
    }
   ],
   "source": [
    "data = pd.read_csv(\"../input_data/CSVs/connect-4.csv\")\n",
    "data.head()"
   ],
   "metadata": {
    "collapsed": false,
    "ExecuteTime": {
     "end_time": "2023-10-12T13:47:25.858778900Z",
     "start_time": "2023-10-12T13:47:25.653277400Z"
    }
   },
   "id": "fa44308d54444264"
  },
  {
   "cell_type": "code",
   "execution_count": 10,
   "outputs": [
    {
     "data": {
      "text/plain": "0    2\n1    2\n2    2\n3    2\n4    2\nName: class, dtype: int64"
     },
     "execution_count": 10,
     "metadata": {},
     "output_type": "execute_result"
    }
   ],
   "source": [
    "target = data.pop('class')\n",
    "target.head()"
   ],
   "metadata": {
    "collapsed": false,
    "ExecuteTime": {
     "end_time": "2023-10-12T13:47:25.859777200Z",
     "start_time": "2023-10-12T13:47:25.824782100Z"
    }
   },
   "id": "47c3b8e7c17f3721"
  },
  {
   "cell_type": "markdown",
   "source": [
    "**Non regulated model**"
   ],
   "metadata": {
    "collapsed": false
   },
   "id": "2e1685f2e3e97227"
  },
  {
   "cell_type": "code",
   "execution_count": 11,
   "outputs": [
    {
     "name": "stdout",
     "output_type": "stream",
     "text": [
      "Model: \"sequential_2\"\n",
      "_________________________________________________________________\n",
      " Layer (type)                Output Shape              Param #   \n",
      "=================================================================\n",
      " dense_10 (Dense)            (None, 512)               22016     \n",
      "                                                                 \n",
      " dense_11 (Dense)            (None, 512)               262656    \n",
      "                                                                 \n",
      " dense_12 (Dense)            (None, 128)               65664     \n",
      "                                                                 \n",
      " dense_13 (Dense)            (None, 128)               16512     \n",
      "                                                                 \n",
      " dense_14 (Dense)            (None, 3)                 387       \n",
      "                                                                 \n",
      "=================================================================\n",
      "Total params: 367235 (1.40 MB)\n",
      "Trainable params: 367235 (1.40 MB)\n",
      "Non-trainable params: 0 (0.00 Byte)\n",
      "_________________________________________________________________\n"
     ]
    }
   ],
   "source": [
    "tf.random.set_seed(8)\n",
    "model = tf.keras.Sequential()\n",
    "\n",
    "fc1 = tf.keras.layers.Dense(512, input_shape=(42,), activation='relu')\n",
    "fc2 = tf.keras.layers.Dense(512, activation='relu')\n",
    "fc3 = tf.keras.layers.Dense(128, activation='relu')\n",
    "fc4 = tf.keras.layers.Dense(128, activation='relu')\n",
    "out = tf.keras.layers.Dense(3, activation='softmax')\n",
    "\n",
    "model.add(fc1)\n",
    "model.add(fc2)\n",
    "model.add(fc3)\n",
    "model.add(fc4)\n",
    "model.add(out)\n",
    "model.summary()"
   ],
   "metadata": {
    "collapsed": false,
    "ExecuteTime": {
     "end_time": "2023-10-12T13:47:26.035777800Z",
     "start_time": "2023-10-12T13:47:25.839778600Z"
    }
   },
   "id": "3affc9fab9cff17e"
  },
  {
   "cell_type": "markdown",
   "source": [
    "### *NOTE: Here, the `legacy` Adam optimiser is used as the non-legacy variant throws an error - this seems to be due to the fact that GPU is unsupported on windows after 2.10. Using WSL2 should solve the issue, as stated [here](https://stackoverflow.com/questions/74684240/keyerror-the-optimizer-cannot-recognize-variable-dense-1-kernel0-for-pretrai)*"
   ],
   "metadata": {
    "collapsed": false
   },
   "id": "a307b0500b88746c"
  },
  {
   "cell_type": "code",
   "execution_count": 12,
   "outputs": [
    {
     "name": "stdout",
     "output_type": "stream",
     "text": [
      "Epoch 1/5\n",
      "1689/1689 [==============================] - 9s 5ms/step - loss: 0.6399 - accuracy: 0.7465 - val_loss: 1.0103 - val_accuracy: 0.5808\n",
      "Epoch 2/5\n",
      "1689/1689 [==============================] - 9s 5ms/step - loss: 0.4955 - accuracy: 0.8054 - val_loss: 1.2081 - val_accuracy: 0.5682\n",
      "Epoch 3/5\n",
      "1689/1689 [==============================] - 8s 5ms/step - loss: 0.4374 - accuracy: 0.8272 - val_loss: 1.3383 - val_accuracy: 0.5650\n",
      "Epoch 4/5\n",
      "1689/1689 [==============================] - 9s 5ms/step - loss: 0.4040 - accuracy: 0.8412 - val_loss: 1.4464 - val_accuracy: 0.5725\n",
      "Epoch 5/5\n",
      "1689/1689 [==============================] - 8s 5ms/step - loss: 0.3757 - accuracy: 0.8508 - val_loss: 1.3776 - val_accuracy: 0.5847\n"
     ]
    },
    {
     "data": {
      "text/plain": "<keras.src.callbacks.History at 0x1c732358250>"
     },
     "execution_count": 12,
     "metadata": {},
     "output_type": "execute_result"
    }
   ],
   "source": [
    "# Only 1 output should be confidently selected\n",
    "loss = tf.keras.losses.SparseCategoricalCrossentropy()\n",
    "optimizer = tf.keras.optimizers.legacy.Adam(0.001)\n",
    "\n",
    "model.compile(optimizer=optimizer, loss=loss, metrics=['accuracy'])\n",
    "model.fit(data, target, epochs=5, validation_split=0.2)"
   ],
   "metadata": {
    "collapsed": false,
    "ExecuteTime": {
     "end_time": "2023-10-12T13:48:09.434776700Z",
     "start_time": "2023-10-12T13:47:25.961278900Z"
    }
   },
   "id": "bf7fb14092b1266"
  },
  {
   "cell_type": "markdown",
   "source": [
    "**Model using L2 regulariser**"
   ],
   "metadata": {
    "collapsed": false
   },
   "id": "6e2f93e7cf856a77"
  },
  {
   "cell_type": "code",
   "execution_count": 13,
   "outputs": [
    {
     "name": "stdout",
     "output_type": "stream",
     "text": [
      "Model: \"sequential_3\"\n",
      "_________________________________________________________________\n",
      " Layer (type)                Output Shape              Param #   \n",
      "=================================================================\n",
      " dense_15 (Dense)            (None, 512)               22016     \n",
      "                                                                 \n",
      " dense_16 (Dense)            (None, 512)               262656    \n",
      "                                                                 \n",
      " dense_17 (Dense)            (None, 128)               65664     \n",
      "                                                                 \n",
      " dense_18 (Dense)            (None, 128)               16512     \n",
      "                                                                 \n",
      " dense_19 (Dense)            (None, 3)                 387       \n",
      "                                                                 \n",
      "=================================================================\n",
      "Total params: 367235 (1.40 MB)\n",
      "Trainable params: 367235 (1.40 MB)\n",
      "Non-trainable params: 0 (0.00 Byte)\n",
      "_________________________________________________________________\n"
     ]
    }
   ],
   "source": [
    "reg_model = tf.keras.models.Sequential()\n",
    "\n",
    "reg_fc1 = tf.keras.layers.Dense(512, input_shape=(42,), activation='relu', kernel_regularizer=tf.keras.regularizers.l2(l=0.1))\n",
    "reg_fc2 = tf.keras.layers.Dense(512, activation='relu', kernel_regularizer=tf.keras.regularizers.l2(l=0.1))\n",
    "reg_fc3 = tf.keras.layers.Dense(128, activation='relu', kernel_regularizer=tf.keras.regularizers.l2(l=0.1))\n",
    "reg_fc4 = tf.keras.layers.Dense(128, activation='relu', kernel_regularizer=tf.keras.regularizers.l2(l=0.1))\n",
    "reg_fc5 = tf.keras.layers.Dense(3, activation='softmax')\n",
    "\n",
    "reg_model.add(reg_fc1)\n",
    "reg_model.add(reg_fc2)\n",
    "reg_model.add(reg_fc3)\n",
    "reg_model.add(reg_fc4)\n",
    "reg_model.add(reg_fc5)\n",
    "reg_model.summary()"
   ],
   "metadata": {
    "collapsed": false,
    "ExecuteTime": {
     "end_time": "2023-10-12T13:48:09.509776500Z",
     "start_time": "2023-10-12T13:48:09.436276400Z"
    }
   },
   "id": "ae0f4e254234f0f8"
  },
  {
   "cell_type": "code",
   "execution_count": 14,
   "outputs": [
    {
     "name": "stdout",
     "output_type": "stream",
     "text": [
      "Epoch 1/5\n",
      "1689/1689 [==============================] - 9s 5ms/step - loss: 1.1639 - accuracy: 0.6780 - val_loss: 0.9637 - val_accuracy: 0.5796\n",
      "Epoch 2/5\n",
      "1689/1689 [==============================] - 9s 5ms/step - loss: 0.8169 - accuracy: 0.6780 - val_loss: 0.9700 - val_accuracy: 0.5796\n",
      "Epoch 3/5\n",
      "1689/1689 [==============================] - 9s 5ms/step - loss: 0.8172 - accuracy: 0.6780 - val_loss: 0.9506 - val_accuracy: 0.5796\n",
      "Epoch 4/5\n",
      "1689/1689 [==============================] - 9s 5ms/step - loss: 0.8170 - accuracy: 0.6780 - val_loss: 0.9609 - val_accuracy: 0.5796\n",
      "Epoch 5/5\n",
      "1689/1689 [==============================] - 9s 5ms/step - loss: 0.8169 - accuracy: 0.6780 - val_loss: 0.9693 - val_accuracy: 0.5796\n"
     ]
    },
    {
     "data": {
      "text/plain": "<keras.src.callbacks.History at 0x1c73251a350>"
     },
     "execution_count": 14,
     "metadata": {},
     "output_type": "execute_result"
    }
   ],
   "source": [
    "# Optimiser and loss functions used are identical to that of the un-regularised model\n",
    "reg_model.compile(optimizer=optimizer, loss=loss, metrics=['accuracy'])\n",
    "reg_model.fit(data, target, epochs=5, validation_split=0.2)"
   ],
   "metadata": {
    "collapsed": false,
    "ExecuteTime": {
     "end_time": "2023-10-12T13:48:54.178277200Z",
     "start_time": "2023-10-12T13:48:09.509776500Z"
    }
   },
   "id": "b942ae6b02343d30"
  },
  {
   "cell_type": "markdown",
   "source": [
    "*While performance here is not great, the much slimmer difference between `accuracy` and `val_accuracy` shows a big improvement in its predictions outside the training dataset in comparison to within it*"
   ],
   "metadata": {
    "collapsed": false
   },
   "id": "e25d82884981af86"
  }
 ],
 "metadata": {
  "kernelspec": {
   "display_name": "Python 3",
   "language": "python",
   "name": "python3"
  },
  "language_info": {
   "codemirror_mode": {
    "name": "ipython",
    "version": 2
   },
   "file_extension": ".py",
   "mimetype": "text/x-python",
   "name": "python",
   "nbconvert_exporter": "python",
   "pygments_lexer": "ipython2",
   "version": "2.7.6"
  }
 },
 "nbformat": 4,
 "nbformat_minor": 5
}
