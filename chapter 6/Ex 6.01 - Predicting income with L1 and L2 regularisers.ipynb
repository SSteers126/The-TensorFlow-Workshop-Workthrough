{
 "cells": [
  {
   "cell_type": "markdown",
   "source": [
    "### NOTE: This model does not perform well, as the activity instructions to not line up with the dateset and target. I have added an extra layer with a single node so the model outputs the correct shape, but the architecture of the model is still not suitable for good performance\n",
    "\n",
    "If I get time to come back round to this exercise after working through the other relevant projects (and possibly WA.M.AI) then I will correct this with a custom model to perform well."
   ],
   "metadata": {
    "collapsed": false
   },
   "id": "9397c9919c8ead04"
  },
  {
   "cell_type": "code",
   "execution_count": 16,
   "id": "initial_id",
   "metadata": {
    "collapsed": true,
    "ExecuteTime": {
     "end_time": "2023-10-12T23:49:36.908996100Z",
     "start_time": "2023-10-12T23:49:36.881497900Z"
    }
   },
   "outputs": [
    {
     "data": {
      "text/plain": "'2.14.0'"
     },
     "execution_count": 16,
     "metadata": {},
     "output_type": "execute_result"
    }
   ],
   "source": [
    "import tensorflow as tf\n",
    "import pandas as pd\n",
    "tf.__version__"
   ]
  },
  {
   "cell_type": "code",
   "execution_count": 17,
   "outputs": [
    {
     "data": {
      "text/plain": "   AAGE  ADTIND  ADTOCC  SEOTR  WKSWORK\n0    73       0       0      0        0\n1    58       4      34      0       52\n2    18       0       0      0        0\n3     9       0       0      0        0\n4    10       0       0      0        0",
      "text/html": "<div>\n<style scoped>\n    .dataframe tbody tr th:only-of-type {\n        vertical-align: middle;\n    }\n\n    .dataframe tbody tr th {\n        vertical-align: top;\n    }\n\n    .dataframe thead th {\n        text-align: right;\n    }\n</style>\n<table border=\"1\" class=\"dataframe\">\n  <thead>\n    <tr style=\"text-align: right;\">\n      <th></th>\n      <th>AAGE</th>\n      <th>ADTIND</th>\n      <th>ADTOCC</th>\n      <th>SEOTR</th>\n      <th>WKSWORK</th>\n    </tr>\n  </thead>\n  <tbody>\n    <tr>\n      <th>0</th>\n      <td>73</td>\n      <td>0</td>\n      <td>0</td>\n      <td>0</td>\n      <td>0</td>\n    </tr>\n    <tr>\n      <th>1</th>\n      <td>58</td>\n      <td>4</td>\n      <td>34</td>\n      <td>0</td>\n      <td>52</td>\n    </tr>\n    <tr>\n      <th>2</th>\n      <td>18</td>\n      <td>0</td>\n      <td>0</td>\n      <td>0</td>\n      <td>0</td>\n    </tr>\n    <tr>\n      <th>3</th>\n      <td>9</td>\n      <td>0</td>\n      <td>0</td>\n      <td>0</td>\n      <td>0</td>\n    </tr>\n    <tr>\n      <th>4</th>\n      <td>10</td>\n      <td>0</td>\n      <td>0</td>\n      <td>0</td>\n      <td>0</td>\n    </tr>\n  </tbody>\n</table>\n</div>"
     },
     "execution_count": 17,
     "metadata": {},
     "output_type": "execute_result"
    }
   ],
   "source": [
    "USECOLS = [\"AAGE\", \"ADTIND\", \"ADTOCC\", \"SEOTR\", \"WKSWORK\", \"PTOTVAL\"]\n",
    "\n",
    "df = pd.read_csv(\"../input_data/CSVs/census-income-train.csv\", usecols=USECOLS)\n",
    "target = df.pop(\"PTOTVAL\")\n",
    "df.head()"
   ],
   "metadata": {
    "collapsed": false,
    "ExecuteTime": {
     "end_time": "2023-10-12T23:49:37.696997800Z",
     "start_time": "2023-10-12T23:49:36.892498100Z"
    }
   },
   "id": "16e9985e58a1881a"
  },
  {
   "cell_type": "code",
   "execution_count": 18,
   "outputs": [
    {
     "data": {
      "text/plain": "15000     896.10\n15001    2349.06\n15002    1134.00\n15003    2042.50\n15004    4521.29\nName: PTOTVAL, dtype: float64"
     },
     "execution_count": 18,
     "metadata": {},
     "output_type": "execute_result"
    }
   ],
   "source": [
    "train_set = df.iloc[:15000]\n",
    "train_target = target.iloc[:15000]\n",
    "test_set = df.iloc[15000:]\n",
    "test_target = target.iloc[15000:]\n",
    "test_target.head()"
   ],
   "metadata": {
    "collapsed": false,
    "ExecuteTime": {
     "end_time": "2023-10-12T23:49:37.713995500Z",
     "start_time": "2023-10-12T23:49:37.699498600Z"
    }
   },
   "id": "2e756cb8df27fe9a"
  },
  {
   "cell_type": "code",
   "execution_count": 19,
   "outputs": [
    {
     "name": "stdout",
     "output_type": "stream",
     "text": [
      "Model: \"sequential_1\"\n",
      "_________________________________________________________________\n",
      " Layer (type)                Output Shape              Param #   \n",
      "=================================================================\n",
      " dense_5 (Dense)             (None, 512)               3072      \n",
      "                                                                 \n",
      " dense_6 (Dense)             (None, 512)               262656    \n",
      "                                                                 \n",
      " dense_7 (Dense)             (None, 128)               65664     \n",
      "                                                                 \n",
      " dense_8 (Dense)             (None, 128)               16512     \n",
      "                                                                 \n",
      " dense_9 (Dense)             (None, 26)                3354      \n",
      "                                                                 \n",
      " dense_10 (Dense)            (None, 1)                 27        \n",
      "                                                                 \n",
      "=================================================================\n",
      "Total params: 351285 (1.34 MB)\n",
      "Trainable params: 351285 (1.34 MB)\n",
      "Non-trainable params: 0 (0.00 Byte)\n",
      "_________________________________________________________________\n"
     ]
    }
   ],
   "source": [
    "tf.random.set_seed(8)\n",
    "\n",
    "model = tf.keras.models.Sequential()\n",
    "\n",
    "in_layer = tf.keras.layers.Dense(512, input_shape=(5,), activation=\"relu\")\n",
    "hidden_layer_1 = tf.keras.layers.Dense(512, activation=\"relu\")\n",
    "hidden_layer_2 = tf.keras.layers.Dense(128, activation=\"relu\")\n",
    "hidden_layer_3 = tf.keras.layers.Dense(128, activation=\"relu\")\n",
    "out_layer = tf.keras.layers.Dense(26, activation=\"softmax\")\n",
    "# Book seems to want to output 26, but is never noted elsewhere. 1 node output matches the target shape.\n",
    "out_final = tf.keras.layers.Dense(1)\n",
    "\n",
    "model.add(in_layer)\n",
    "model.add(hidden_layer_1)\n",
    "model.add(hidden_layer_2)\n",
    "model.add(hidden_layer_3)\n",
    "model.add(out_layer)\n",
    "model.add(out_final)\n",
    "\n",
    "model.summary()"
   ],
   "metadata": {
    "collapsed": false,
    "ExecuteTime": {
     "end_time": "2023-10-12T23:49:37.889998200Z",
     "start_time": "2023-10-12T23:49:37.713995500Z"
    }
   },
   "id": "ec05181c821c9eac"
  },
  {
   "cell_type": "code",
   "execution_count": 20,
   "outputs": [
    {
     "name": "stdout",
     "output_type": "stream",
     "text": [
      "Epoch 1/5\n",
      "469/469 [==============================] - 5s 7ms/step - loss: 3900030.7500 - mse: 3900030.7500\n",
      "Epoch 2/5\n",
      "469/469 [==============================] - 3s 7ms/step - loss: 3744704.5000 - mse: 3744704.5000\n",
      "Epoch 3/5\n",
      "469/469 [==============================] - 3s 7ms/step - loss: 3594979.0000 - mse: 3594979.0000\n",
      "Epoch 4/5\n",
      "469/469 [==============================] - 3s 7ms/step - loss: 3450702.7500 - mse: 3450702.7500\n",
      "Epoch 5/5\n",
      "469/469 [==============================] - 3s 7ms/step - loss: 3311528.0000 - mse: 3311528.0000\n"
     ]
    },
    {
     "data": {
      "text/plain": "<keras.src.callbacks.History at 0x1a9403a0310>"
     },
     "execution_count": 20,
     "metadata": {},
     "output_type": "execute_result"
    }
   ],
   "source": [
    "# Predict 1 class\n",
    "loss = tf.keras.losses.SparseCategoricalCrossentropy()\n",
    "optimizer = tf.keras.optimizers.Adam(0.05)\n",
    "\n",
    "model.compile(optimizer=optimizer, loss='mse', metrics=['mse'])\n",
    "model.fit(train_set, train_target, epochs=5)"
   ],
   "metadata": {
    "collapsed": false,
    "ExecuteTime": {
     "end_time": "2023-10-12T23:49:55.598995800Z",
     "start_time": "2023-10-12T23:49:37.862998200Z"
    }
   },
   "id": "61c2de7dec5c7df9"
  },
  {
   "cell_type": "code",
   "execution_count": 20,
   "outputs": [],
   "source": [],
   "metadata": {
    "collapsed": false,
    "ExecuteTime": {
     "end_time": "2023-10-12T23:49:55.607995400Z",
     "start_time": "2023-10-12T23:49:55.598494600Z"
    }
   },
   "id": "b2bdede7c161fbb3"
  }
 ],
 "metadata": {
  "kernelspec": {
   "display_name": "Python 3",
   "language": "python",
   "name": "python3"
  },
  "language_info": {
   "codemirror_mode": {
    "name": "ipython",
    "version": 2
   },
   "file_extension": ".py",
   "mimetype": "text/x-python",
   "name": "python",
   "nbconvert_exporter": "python",
   "pygments_lexer": "ipython2",
   "version": "2.7.6"
  }
 },
 "nbformat": 4,
 "nbformat_minor": 5
}
