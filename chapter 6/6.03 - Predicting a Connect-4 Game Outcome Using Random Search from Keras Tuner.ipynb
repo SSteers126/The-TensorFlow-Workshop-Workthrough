{
 "cells": [
  {
   "cell_type": "code",
   "execution_count": 4,
   "id": "initial_id",
   "metadata": {
    "collapsed": true,
    "ExecuteTime": {
     "end_time": "2023-10-14T16:24:20.869789100Z",
     "start_time": "2023-10-14T16:24:14.894751100Z"
    }
   },
   "outputs": [
    {
     "name": "stdout",
     "output_type": "stream",
     "text": [
      "Using TensorFlow backend\n"
     ]
    },
    {
     "data": {
      "text/plain": "'2.14.0'"
     },
     "execution_count": 4,
     "metadata": {},
     "output_type": "execute_result"
    }
   ],
   "source": [
    "import tensorflow as tf\n",
    "import keras_tuner as kt\n",
    "from sklearn.model_selection import train_test_split\n",
    "import pandas as pd\n",
    "tf.__version__"
   ]
  },
  {
   "cell_type": "code",
   "execution_count": 5,
   "outputs": [
    {
     "data": {
      "text/plain": "   a1  a2  a3  a4  a5  a6  b1  b2  b3  b4  ...  f4  f5  f6  g1  g2  g3  g4  \\\n0   0   0   0   0   0   0   0   0   0   0  ...   0   0   0   0   0   0   0   \n1   0   0   0   0   0   0   0   0   0   0  ...   0   0   0   0   0   0   0   \n2   0   0   0   0   0   0   1   0   0   0  ...   0   0   0   0   0   0   0   \n3   0   0   0   0   0   0   0   0   0   0  ...   0   0   0   0   0   0   0   \n4   1   0   0   0   0   0   0   0   0   0  ...   0   0   0   0   0   0   0   \n\n   g5  g6  class  \n0   0   0      2  \n1   0   0      2  \n2   0   0      2  \n3   0   0      2  \n4   0   0      2  \n\n[5 rows x 43 columns]",
      "text/html": "<div>\n<style scoped>\n    .dataframe tbody tr th:only-of-type {\n        vertical-align: middle;\n    }\n\n    .dataframe tbody tr th {\n        vertical-align: top;\n    }\n\n    .dataframe thead th {\n        text-align: right;\n    }\n</style>\n<table border=\"1\" class=\"dataframe\">\n  <thead>\n    <tr style=\"text-align: right;\">\n      <th></th>\n      <th>a1</th>\n      <th>a2</th>\n      <th>a3</th>\n      <th>a4</th>\n      <th>a5</th>\n      <th>a6</th>\n      <th>b1</th>\n      <th>b2</th>\n      <th>b3</th>\n      <th>b4</th>\n      <th>...</th>\n      <th>f4</th>\n      <th>f5</th>\n      <th>f6</th>\n      <th>g1</th>\n      <th>g2</th>\n      <th>g3</th>\n      <th>g4</th>\n      <th>g5</th>\n      <th>g6</th>\n      <th>class</th>\n    </tr>\n  </thead>\n  <tbody>\n    <tr>\n      <th>0</th>\n      <td>0</td>\n      <td>0</td>\n      <td>0</td>\n      <td>0</td>\n      <td>0</td>\n      <td>0</td>\n      <td>0</td>\n      <td>0</td>\n      <td>0</td>\n      <td>0</td>\n      <td>...</td>\n      <td>0</td>\n      <td>0</td>\n      <td>0</td>\n      <td>0</td>\n      <td>0</td>\n      <td>0</td>\n      <td>0</td>\n      <td>0</td>\n      <td>0</td>\n      <td>2</td>\n    </tr>\n    <tr>\n      <th>1</th>\n      <td>0</td>\n      <td>0</td>\n      <td>0</td>\n      <td>0</td>\n      <td>0</td>\n      <td>0</td>\n      <td>0</td>\n      <td>0</td>\n      <td>0</td>\n      <td>0</td>\n      <td>...</td>\n      <td>0</td>\n      <td>0</td>\n      <td>0</td>\n      <td>0</td>\n      <td>0</td>\n      <td>0</td>\n      <td>0</td>\n      <td>0</td>\n      <td>0</td>\n      <td>2</td>\n    </tr>\n    <tr>\n      <th>2</th>\n      <td>0</td>\n      <td>0</td>\n      <td>0</td>\n      <td>0</td>\n      <td>0</td>\n      <td>0</td>\n      <td>1</td>\n      <td>0</td>\n      <td>0</td>\n      <td>0</td>\n      <td>...</td>\n      <td>0</td>\n      <td>0</td>\n      <td>0</td>\n      <td>0</td>\n      <td>0</td>\n      <td>0</td>\n      <td>0</td>\n      <td>0</td>\n      <td>0</td>\n      <td>2</td>\n    </tr>\n    <tr>\n      <th>3</th>\n      <td>0</td>\n      <td>0</td>\n      <td>0</td>\n      <td>0</td>\n      <td>0</td>\n      <td>0</td>\n      <td>0</td>\n      <td>0</td>\n      <td>0</td>\n      <td>0</td>\n      <td>...</td>\n      <td>0</td>\n      <td>0</td>\n      <td>0</td>\n      <td>0</td>\n      <td>0</td>\n      <td>0</td>\n      <td>0</td>\n      <td>0</td>\n      <td>0</td>\n      <td>2</td>\n    </tr>\n    <tr>\n      <th>4</th>\n      <td>1</td>\n      <td>0</td>\n      <td>0</td>\n      <td>0</td>\n      <td>0</td>\n      <td>0</td>\n      <td>0</td>\n      <td>0</td>\n      <td>0</td>\n      <td>0</td>\n      <td>...</td>\n      <td>0</td>\n      <td>0</td>\n      <td>0</td>\n      <td>0</td>\n      <td>0</td>\n      <td>0</td>\n      <td>0</td>\n      <td>0</td>\n      <td>0</td>\n      <td>2</td>\n    </tr>\n  </tbody>\n</table>\n<p>5 rows × 43 columns</p>\n</div>"
     },
     "execution_count": 5,
     "metadata": {},
     "output_type": "execute_result"
    }
   ],
   "source": [
    "data = pd.read_csv(\"../input_data/CSVs/connect-4.csv\")\n",
    "data.head()"
   ],
   "metadata": {
    "collapsed": false,
    "ExecuteTime": {
     "end_time": "2023-10-14T16:24:21.020290900Z",
     "start_time": "2023-10-14T16:24:20.868790600Z"
    }
   },
   "id": "f091b845914e9448"
  },
  {
   "cell_type": "code",
   "execution_count": 6,
   "outputs": [
    {
     "data": {
      "text/plain": "0    2\n1    2\n2    2\n3    2\n4    2\nName: class, dtype: int64"
     },
     "execution_count": 6,
     "metadata": {},
     "output_type": "execute_result"
    }
   ],
   "source": [
    "target = data.pop('class')\n",
    "target.head()"
   ],
   "metadata": {
    "collapsed": false,
    "ExecuteTime": {
     "end_time": "2023-10-14T16:24:21.031793800Z",
     "start_time": "2023-10-14T16:24:21.017789300Z"
    }
   },
   "id": "7cf308e5b6dc6e14"
  },
  {
   "cell_type": "code",
   "execution_count": 7,
   "outputs": [],
   "source": [
    "# Split the data into training and validation features and targets, with 20% being testing data\n",
    "X_train, X_test, y_train, y_test = train_test_split(data, target, test_size=0.2, random_state=42)"
   ],
   "metadata": {
    "collapsed": false,
    "ExecuteTime": {
     "end_time": "2023-10-14T16:24:21.159287900Z",
     "start_time": "2023-10-14T16:24:21.026289200Z"
    }
   },
   "id": "5d633e52587c4f8d"
  },
  {
   "cell_type": "code",
   "execution_count": 8,
   "outputs": [
    {
     "name": "stdout",
     "output_type": "stream",
     "text": [
      "Trial 4 Complete [00h 00m 15s]\n",
      "val_accuracy: 0.6568975448608398\n",
      "\n",
      "Best val_accuracy So Far: 0.7568827867507935\n",
      "Total elapsed time: 00h 00m 58s\n"
     ]
    }
   ],
   "source": [
    "tf.random.set_seed(8)\n",
    "\n",
    "# To use the keras tuner to automatically find optimal values to train the model, we need to define a function it can use to then build the model and insert the different values for it to test with\n",
    "def model_builder(hp):\n",
    "    model = tf.keras.Sequential()\n",
    "    hp_l2 = hp.Choice('l2', values = [0.1, 0.01, 0.001, 0.0001])\n",
    "    \n",
    "    reg_fc1 = tf.keras.layers.Dense(512, input_shape=(42,), activation='relu', kernel_regularizer=tf.keras.regularizers.l2(l=hp_l2))\n",
    "    reg_fc2 = tf.keras.layers.Dense(512, activation='relu', kernel_regularizer=tf.keras.regularizers.l2(l=hp_l2))\n",
    "    reg_fc3 = tf.keras.layers.Dense(128, activation='relu', kernel_regularizer=tf.keras.regularizers.l2(l=hp_l2))\n",
    "    reg_fc4 = tf.keras.layers.Dense(128, activation='relu', kernel_regularizer=tf.keras.regularizers.l2(l=hp_l2))\n",
    "    reg_fc5 = tf.keras.layers.Dense(3, activation='softmax')\n",
    "    \n",
    "    model.add(reg_fc1)\n",
    "    model.add(reg_fc2)\n",
    "    model.add(reg_fc3)\n",
    "    model.add(reg_fc4)\n",
    "    model.add(reg_fc5)\n",
    "\n",
    "    loss = tf.keras.losses.SparseCategoricalCrossentropy()\n",
    "    optimizer = tf.keras.optimizers.Adam(0.001)\n",
    "    model.compile(optimizer = optimizer, loss = loss, metrics = ['accuracy'])\n",
    "    return model\n",
    "    \n",
    "# We can then use that function to tell it to use to test the values via various methods (this randomly selects values for example)\n",
    "tuner = kt.RandomSearch(model_builder, objective='val_accuracy', max_trials=10)\n",
    "tuner.search(X_train, y_train, validation_data=(X_test, y_test))"
   ],
   "metadata": {
    "collapsed": false
   },
   "id": "65a0fb7d86bbe0a0"
  },
  {
   "cell_type": "code",
   "execution_count": 9,
   "outputs": [
    {
     "data": {
      "text/plain": "0.0001"
     },
     "execution_count": 9,
     "metadata": {},
     "output_type": "execute_result"
    }
   ],
   "source": [
    "# We can then get the best parameters it found, and use those to set up our model in the most optimal way automatically\n",
    "best_hps = tuner.get_best_hyperparameters()[0]\n",
    "\n",
    "best_l2 = best_hps.get('l2')\n",
    "# Show the best value for `l2` it found\n",
    "best_l2"
   ],
   "metadata": {
    "collapsed": false,
    "ExecuteTime": {
     "end_time": "2023-10-14T16:30:57.190812500Z",
     "start_time": "2023-10-14T16:30:57.168309600Z"
    }
   },
   "id": "57b5c2d05b114486"
  },
  {
   "cell_type": "code",
   "execution_count": 10,
   "outputs": [
    {
     "name": "stdout",
     "output_type": "stream",
     "text": [
      "Epoch 1/5\n",
      "1689/1689 [==============================] - 13s 7ms/step - loss: 0.7390 - accuracy: 0.7164 - val_loss: 0.6485 - val_accuracy: 0.7515\n",
      "Epoch 2/5\n",
      "1689/1689 [==============================] - 12s 7ms/step - loss: 0.6043 - accuracy: 0.7730 - val_loss: 0.5939 - val_accuracy: 0.7777\n",
      "Epoch 3/5\n",
      "1689/1689 [==============================] - 12s 7ms/step - loss: 0.5509 - accuracy: 0.7947 - val_loss: 0.5402 - val_accuracy: 0.7997\n",
      "Epoch 4/5\n",
      "1689/1689 [==============================] - 12s 7ms/step - loss: 0.5198 - accuracy: 0.8092 - val_loss: 0.5683 - val_accuracy: 0.7902\n",
      "Epoch 5/5\n",
      "1689/1689 [==============================] - 12s 7ms/step - loss: 0.4972 - accuracy: 0.8184 - val_loss: 0.5291 - val_accuracy: 0.8096\n"
     ]
    },
    {
     "data": {
      "text/plain": "<keras.src.callbacks.History at 0x1fe6d216890>"
     },
     "execution_count": 10,
     "metadata": {},
     "output_type": "execute_result"
    }
   ],
   "source": [
    "# We can then finally build the model using the optimal hyperparameters found\n",
    "model = tuner.hypermodel.build(best_hps)\n",
    "\n",
    "model.fit(X_train, y_train, epochs=5, validation_data=(X_test, y_test))"
   ],
   "metadata": {
    "collapsed": false,
    "ExecuteTime": {
     "end_time": "2023-10-14T16:32:35.603113500Z",
     "start_time": "2023-10-14T16:31:34.971115600Z"
    }
   },
   "id": "27cff2ce1c3bfff2"
  },
  {
   "cell_type": "markdown",
   "source": [
    "This has made a huge improvement, increasing testing data accuracy from 60% (in 6.02 with dropout) to 80% by testing for the best parameters to use with the L2 regulariser. *(Note that from the book's example output, a non-optimised L2 regulariser would have output similar testing accuracy to the dropout model)*"
   ],
   "metadata": {
    "collapsed": false
   },
   "id": "a3a1813602d25b32"
  }
 ],
 "metadata": {
  "kernelspec": {
   "display_name": "Python 3",
   "language": "python",
   "name": "python3"
  },
  "language_info": {
   "codemirror_mode": {
    "name": "ipython",
    "version": 2
   },
   "file_extension": ".py",
   "mimetype": "text/x-python",
   "name": "python",
   "nbconvert_exporter": "python",
   "pygments_lexer": "ipython2",
   "version": "2.7.6"
  }
 },
 "nbformat": 4,
 "nbformat_minor": 5
}
