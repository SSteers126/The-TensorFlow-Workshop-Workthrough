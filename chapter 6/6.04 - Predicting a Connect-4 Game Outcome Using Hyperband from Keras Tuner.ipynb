{
 "cells": [
  {
   "cell_type": "code",
   "execution_count": 1,
   "id": "initial_id",
   "metadata": {
    "collapsed": true,
    "ExecuteTime": {
     "end_time": "2023-10-15T02:20:29.281491800Z",
     "start_time": "2023-10-15T02:20:11.058490800Z"
    }
   },
   "outputs": [
    {
     "name": "stdout",
     "output_type": "stream",
     "text": [
      "Using TensorFlow backend\n"
     ]
    },
    {
     "data": {
      "text/plain": "'2.14.0'"
     },
     "execution_count": 1,
     "metadata": {},
     "output_type": "execute_result"
    }
   ],
   "source": [
    "import tensorflow as tf\n",
    "import keras_tuner as kt\n",
    "from sklearn.model_selection import train_test_split\n",
    "import pandas as pd\n",
    "tf.__version__"
   ]
  },
  {
   "cell_type": "code",
   "execution_count": 2,
   "outputs": [
    {
     "data": {
      "text/plain": "   a1  a2  a3  a4  a5  a6  b1  b2  b3  b4  ...  f4  f5  f6  g1  g2  g3  g4  \\\n0   0   0   0   0   0   0   0   0   0   0  ...   0   0   0   0   0   0   0   \n1   0   0   0   0   0   0   0   0   0   0  ...   0   0   0   0   0   0   0   \n2   0   0   0   0   0   0   1   0   0   0  ...   0   0   0   0   0   0   0   \n3   0   0   0   0   0   0   0   0   0   0  ...   0   0   0   0   0   0   0   \n4   1   0   0   0   0   0   0   0   0   0  ...   0   0   0   0   0   0   0   \n\n   g5  g6  class  \n0   0   0      2  \n1   0   0      2  \n2   0   0      2  \n3   0   0      2  \n4   0   0      2  \n\n[5 rows x 43 columns]",
      "text/html": "<div>\n<style scoped>\n    .dataframe tbody tr th:only-of-type {\n        vertical-align: middle;\n    }\n\n    .dataframe tbody tr th {\n        vertical-align: top;\n    }\n\n    .dataframe thead th {\n        text-align: right;\n    }\n</style>\n<table border=\"1\" class=\"dataframe\">\n  <thead>\n    <tr style=\"text-align: right;\">\n      <th></th>\n      <th>a1</th>\n      <th>a2</th>\n      <th>a3</th>\n      <th>a4</th>\n      <th>a5</th>\n      <th>a6</th>\n      <th>b1</th>\n      <th>b2</th>\n      <th>b3</th>\n      <th>b4</th>\n      <th>...</th>\n      <th>f4</th>\n      <th>f5</th>\n      <th>f6</th>\n      <th>g1</th>\n      <th>g2</th>\n      <th>g3</th>\n      <th>g4</th>\n      <th>g5</th>\n      <th>g6</th>\n      <th>class</th>\n    </tr>\n  </thead>\n  <tbody>\n    <tr>\n      <th>0</th>\n      <td>0</td>\n      <td>0</td>\n      <td>0</td>\n      <td>0</td>\n      <td>0</td>\n      <td>0</td>\n      <td>0</td>\n      <td>0</td>\n      <td>0</td>\n      <td>0</td>\n      <td>...</td>\n      <td>0</td>\n      <td>0</td>\n      <td>0</td>\n      <td>0</td>\n      <td>0</td>\n      <td>0</td>\n      <td>0</td>\n      <td>0</td>\n      <td>0</td>\n      <td>2</td>\n    </tr>\n    <tr>\n      <th>1</th>\n      <td>0</td>\n      <td>0</td>\n      <td>0</td>\n      <td>0</td>\n      <td>0</td>\n      <td>0</td>\n      <td>0</td>\n      <td>0</td>\n      <td>0</td>\n      <td>0</td>\n      <td>...</td>\n      <td>0</td>\n      <td>0</td>\n      <td>0</td>\n      <td>0</td>\n      <td>0</td>\n      <td>0</td>\n      <td>0</td>\n      <td>0</td>\n      <td>0</td>\n      <td>2</td>\n    </tr>\n    <tr>\n      <th>2</th>\n      <td>0</td>\n      <td>0</td>\n      <td>0</td>\n      <td>0</td>\n      <td>0</td>\n      <td>0</td>\n      <td>1</td>\n      <td>0</td>\n      <td>0</td>\n      <td>0</td>\n      <td>...</td>\n      <td>0</td>\n      <td>0</td>\n      <td>0</td>\n      <td>0</td>\n      <td>0</td>\n      <td>0</td>\n      <td>0</td>\n      <td>0</td>\n      <td>0</td>\n      <td>2</td>\n    </tr>\n    <tr>\n      <th>3</th>\n      <td>0</td>\n      <td>0</td>\n      <td>0</td>\n      <td>0</td>\n      <td>0</td>\n      <td>0</td>\n      <td>0</td>\n      <td>0</td>\n      <td>0</td>\n      <td>0</td>\n      <td>...</td>\n      <td>0</td>\n      <td>0</td>\n      <td>0</td>\n      <td>0</td>\n      <td>0</td>\n      <td>0</td>\n      <td>0</td>\n      <td>0</td>\n      <td>0</td>\n      <td>2</td>\n    </tr>\n    <tr>\n      <th>4</th>\n      <td>1</td>\n      <td>0</td>\n      <td>0</td>\n      <td>0</td>\n      <td>0</td>\n      <td>0</td>\n      <td>0</td>\n      <td>0</td>\n      <td>0</td>\n      <td>0</td>\n      <td>...</td>\n      <td>0</td>\n      <td>0</td>\n      <td>0</td>\n      <td>0</td>\n      <td>0</td>\n      <td>0</td>\n      <td>0</td>\n      <td>0</td>\n      <td>0</td>\n      <td>2</td>\n    </tr>\n  </tbody>\n</table>\n<p>5 rows × 43 columns</p>\n</div>"
     },
     "execution_count": 2,
     "metadata": {},
     "output_type": "execute_result"
    }
   ],
   "source": [
    "data = pd.read_csv(\"../input_data/CSVs/connect-4.csv\")\n",
    "data.head()"
   ],
   "metadata": {
    "collapsed": false,
    "ExecuteTime": {
     "end_time": "2023-10-15T02:22:49.477451400Z",
     "start_time": "2023-10-15T02:22:49.230955Z"
    }
   },
   "id": "a5cf4580019d4f37"
  },
  {
   "cell_type": "code",
   "execution_count": 3,
   "outputs": [
    {
     "data": {
      "text/plain": "0    2\n1    2\n2    2\n3    2\n4    2\nName: class, dtype: int64"
     },
     "execution_count": 3,
     "metadata": {},
     "output_type": "execute_result"
    }
   ],
   "source": [
    "target = data.pop('class')\n",
    "target.head()"
   ],
   "metadata": {
    "collapsed": false,
    "ExecuteTime": {
     "end_time": "2023-10-15T02:23:08.398542700Z",
     "start_time": "2023-10-15T02:23:08.356045400Z"
    }
   },
   "id": "e0d928446c66197d"
  },
  {
   "cell_type": "code",
   "execution_count": 4,
   "outputs": [],
   "source": [
    "# Split dataset into training and testing sets\n",
    "X_train, X_test, y_train, y_test = train_test_split(data, target, test_size=0.2, random_state=42)"
   ],
   "metadata": {
    "collapsed": false,
    "ExecuteTime": {
     "end_time": "2023-10-15T02:23:50.161953600Z",
     "start_time": "2023-10-15T02:23:50.106458500Z"
    }
   },
   "id": "dda474f35df507f6"
  },
  {
   "cell_type": "code",
   "execution_count": 5,
   "outputs": [],
   "source": [
    "tf.random.set_seed(8)\n",
    "\n",
    "# Model builder for the tuner to find optimal hyperparams with - in this case the amount of units within the first layer and learning rate to use\n",
    "def model_builder(hp):\n",
    "    model = tf.keras.Sequential()\n",
    "    hp_units = hp.Int('units', min_value=128, max_value=512, step=64)\n",
    "\n",
    "    reg_fc1 = tf.keras.layers.Dense(hp_units, input_shape=(42,), activation='relu', kernel_regularizer=tf.keras.regularizers.l2(l=0.0001))\n",
    "    reg_fc2 = tf.keras.layers.Dense(512, activation='relu', kernel_regularizer=tf.keras.regularizers.l2(l=0.0001))\n",
    "    reg_fc3 = tf.keras.layers.Dense(128, activation='relu', kernel_regularizer=tf.keras.regularizers.l2(l=0.0001))\n",
    "    reg_fc4 = tf.keras.layers.Dense(128, activation='relu', kernel_regularizer=tf.keras.regularizers.l2(l=0.0001))\n",
    "    reg_fc5 = tf.keras.layers.Dense(3, activation='softmax')\n",
    "    \n",
    "    model.add(reg_fc1)\n",
    "    model.add(reg_fc2)\n",
    "    model.add(reg_fc3)\n",
    "    model.add(reg_fc4)\n",
    "    model.add(reg_fc5)\n",
    "\n",
    "    loss = tf.keras.losses.SparseCategoricalCrossentropy()\n",
    "    hp_learning_rate = hp.Choice('learning_rate', values = [0.01, 0.001, 0.0001])\n",
    "    optimizer = tf.keras.optimizers.Adam(hp_learning_rate)\n",
    "    model.compile(optimizer = optimizer, loss = loss, metrics = ['accuracy'])\n",
    "\n",
    "    return model"
   ],
   "metadata": {
    "collapsed": false,
    "ExecuteTime": {
     "end_time": "2023-10-15T02:27:23.501702500Z",
     "start_time": "2023-10-15T02:27:23.445203400Z"
    }
   },
   "id": "fe2da1762837c05d"
  },
  {
   "cell_type": "code",
   "execution_count": 7,
   "outputs": [
    {
     "name": "stdout",
     "output_type": "stream",
     "text": [
      "Trial 10 Complete [00h 00m 49s]\n",
      "val_accuracy: 0.7520722150802612\n",
      "\n",
      "Best val_accuracy So Far: 0.8099467158317566\n",
      "Total elapsed time: 00h 04m 48s\n"
     ]
    }
   ],
   "source": [
    "# Use Hyperband tuner, which still randomly samples values, but will automatically cut poorly performing parameters short to save time and improve efficiency\n",
    "tuner = kt.Hyperband(model_builder, objective='val_accuracy', max_epochs=5, project_name=\"Connect 4 Hyperband\")\n",
    "\n",
    "# Search for and extract the best parameters to use\n",
    "tuner.search(X_train, y_train, validation_data=(X_test, y_test))\n",
    "best_hps = tuner.get_best_hyperparameters()[0]"
   ],
   "metadata": {
    "collapsed": false
   },
   "id": "906b054d7a87e92f"
  },
  {
   "cell_type": "code",
   "execution_count": 8,
   "outputs": [
    {
     "data": {
      "text/plain": "384"
     },
     "execution_count": 8,
     "metadata": {},
     "output_type": "execute_result"
    }
   ],
   "source": [
    "# Select the best values found\n",
    "best_units = best_hps.get('units')\n",
    "best_units"
   ],
   "metadata": {
    "collapsed": false,
    "ExecuteTime": {
     "end_time": "2023-10-15T02:36:02.515566700Z",
     "start_time": "2023-10-15T02:36:02.489064100Z"
    }
   },
   "id": "ea2436730d5a0298"
  },
  {
   "cell_type": "code",
   "execution_count": 9,
   "outputs": [
    {
     "data": {
      "text/plain": "0.001"
     },
     "execution_count": 9,
     "metadata": {},
     "output_type": "execute_result"
    }
   ],
   "source": [
    "best_lr = best_hps.get('learning_rate')\n",
    "best_lr"
   ],
   "metadata": {
    "collapsed": false,
    "ExecuteTime": {
     "end_time": "2023-10-15T02:36:10.380446600Z",
     "start_time": "2023-10-15T02:36:10.355445200Z"
    }
   },
   "id": "d41630c795b0b9b4"
  },
  {
   "cell_type": "code",
   "execution_count": 10,
   "outputs": [
    {
     "name": "stdout",
     "output_type": "stream",
     "text": [
      "Epoch 1/5\n",
      "1689/1689 [==============================] - 12s 7ms/step - loss: 0.7447 - accuracy: 0.7145 - val_loss: 0.6465 - val_accuracy: 0.7533\n",
      "Epoch 2/5\n",
      "1689/1689 [==============================] - 11s 6ms/step - loss: 0.6036 - accuracy: 0.7730 - val_loss: 0.6040 - val_accuracy: 0.7729\n",
      "Epoch 3/5\n",
      "1689/1689 [==============================] - 10s 6ms/step - loss: 0.5503 - accuracy: 0.7943 - val_loss: 0.5413 - val_accuracy: 0.7993\n",
      "Epoch 4/5\n",
      "1689/1689 [==============================] - 10s 6ms/step - loss: 0.5181 - accuracy: 0.8080 - val_loss: 0.5579 - val_accuracy: 0.7947\n",
      "Epoch 5/5\n",
      "1689/1689 [==============================] - 9s 5ms/step - loss: 0.4945 - accuracy: 0.8181 - val_loss: 0.5322 - val_accuracy: 0.8058\n"
     ]
    },
    {
     "data": {
      "text/plain": "<keras.src.callbacks.History at 0x25cc68f08d0>"
     },
     "execution_count": 10,
     "metadata": {},
     "output_type": "execute_result"
    }
   ],
   "source": [
    "# Build and train the model based on the optimal hyperparameters\n",
    "model = tuner.hypermodel.build(best_hps)\n",
    "model.fit(X_train, y_train, epochs=5, validation_data=(X_test, y_test))"
   ],
   "metadata": {
    "collapsed": false,
    "ExecuteTime": {
     "end_time": "2023-10-15T02:37:59.731037700Z",
     "start_time": "2023-10-15T02:37:07.889040700Z"
    }
   },
   "id": "ff0b385d473121da"
  },
  {
   "cell_type": "markdown",
   "source": [
    "The time reduction of the *Hyperband* tuner shows how more thorough random testing can be done to test a variety of model structures while remaining viable for relatively short time constraints, with performance being very high (~81% validation accuracy with that remaining very close to the ~82% training accuracy)"
   ],
   "metadata": {
    "collapsed": false
   },
   "id": "f19732da0d102159"
  }
 ],
 "metadata": {
  "kernelspec": {
   "display_name": "Python 3",
   "language": "python",
   "name": "python3"
  },
  "language_info": {
   "codemirror_mode": {
    "name": "ipython",
    "version": 2
   },
   "file_extension": ".py",
   "mimetype": "text/x-python",
   "name": "python",
   "nbconvert_exporter": "python",
   "pygments_lexer": "ipython2",
   "version": "2.7.6"
  }
 },
 "nbformat": 4,
 "nbformat_minor": 5
}
