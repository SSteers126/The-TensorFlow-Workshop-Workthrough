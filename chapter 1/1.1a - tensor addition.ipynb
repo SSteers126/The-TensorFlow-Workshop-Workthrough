{
 "cells": [
  {
   "cell_type": "code",
   "execution_count": 1,
   "id": "initial_id",
   "metadata": {
    "collapsed": true,
    "ExecuteTime": {
     "end_time": "2023-09-25T02:31:28.170644200Z",
     "start_time": "2023-09-25T02:31:23.443649700Z"
    }
   },
   "outputs": [
    {
     "data": {
      "text/plain": "'2.13.0'"
     },
     "execution_count": 1,
     "metadata": {},
     "output_type": "execute_result"
    }
   ],
   "source": [
    "import tensorflow as tf\n",
    "tf.__version__"
   ]
  },
  {
   "cell_type": "code",
   "execution_count": 2,
   "outputs": [
    {
     "data": {
      "text/plain": "18153"
     },
     "execution_count": 2,
     "metadata": {},
     "output_type": "execute_result"
    }
   ],
   "source": [
    "# Adding scalars together\n",
    "int1 = tf.Variable(4113, tf.int32)\n",
    "int2 = tf.Variable(7511, tf.int32)\n",
    "int3 = tf.Variable(6529, tf.int32)\n",
    "\n",
    "int_sum = int1 + int2 + int3\n",
    "int_sum.numpy()"
   ],
   "metadata": {
    "collapsed": false,
    "ExecuteTime": {
     "end_time": "2023-09-25T02:34:18.089075200Z",
     "start_time": "2023-09-25T02:34:18.040071900Z"
    }
   },
   "id": "12ebe340c9b6f71d"
  },
  {
   "cell_type": "code",
   "execution_count": 3,
   "outputs": [
    {
     "data": {
      "text/plain": "array([18153, 17557, 18731])"
     },
     "execution_count": 3,
     "metadata": {},
     "output_type": "execute_result"
    }
   ],
   "source": [
    "# Adding vectors together\n",
    "vec1 = tf.Variable([4113, 3870, 5102], tf.int32)\n",
    "vec2 = tf.Variable([7511, 6725, 7038], tf.int32)\n",
    "vec3 = tf.Variable([6529, 6962, 6591], tf.int32)\n",
    "\n",
    "vec_sum = vec1 + vec2 + vec3\n",
    "vec_sum.numpy()"
   ],
   "metadata": {
    "collapsed": false,
    "ExecuteTime": {
     "end_time": "2023-09-25T02:34:49.260585Z",
     "start_time": "2023-09-25T02:34:49.236582600Z"
    }
   },
   "id": "2dedac7a3dd5f129"
  },
  {
   "cell_type": "code",
   "execution_count": 4,
   "outputs": [
    {
     "name": "stdout",
     "output_type": "stream",
     "text": [
      "18153\n",
      "17557\n",
      "18731\n"
     ]
    }
   ],
   "source": [
    "# Verifying the vector addition is correct by adding each column separately ad ensuring the values match\n",
    "print((vec1[0] + vec2[0] + vec3[0]).numpy())\n",
    "print((vec1[1] + vec2[1] + vec3[1]).numpy())\n",
    "print((vec1[2] + vec2[2] + vec3[2]).numpy())"
   ],
   "metadata": {
    "collapsed": false,
    "ExecuteTime": {
     "end_time": "2023-09-25T02:35:53.627363700Z",
     "start_time": "2023-09-25T02:35:53.607365Z"
    }
   },
   "id": "b761e5ea1c84ac3d"
  },
  {
   "cell_type": "code",
   "execution_count": 5,
   "outputs": [
    {
     "data": {
      "text/plain": "True"
     },
     "execution_count": 5,
     "metadata": {},
     "output_type": "execute_result"
    }
   ],
   "source": [
    "# Adding matrices together\n",
    "matrix1 = tf.Variable([[4113, 3870, 5102], [3611, 951, 870]], tf.int32)\n",
    "matrix2 = tf.Variable([[7511, 6725, 7038], [5901, 1208, 645]], tf.int32)\n",
    "matrix3 = tf.Variable([[6529, 6962, 6591], [6235, 1098, 948]], tf.int32)\n",
    "\n",
    "# Ensure the shape of all matrices match each other\n",
    "matrix1.shape == matrix2.shape == matrix3.shape"
   ],
   "metadata": {
    "collapsed": false,
    "ExecuteTime": {
     "end_time": "2023-09-25T02:36:57.665746700Z",
     "start_time": "2023-09-25T02:36:57.642747600Z"
    }
   },
   "id": "d81ab3c6841a9e17"
  },
  {
   "cell_type": "code",
   "execution_count": 6,
   "outputs": [
    {
     "data": {
      "text/plain": "array([[18153, 17557, 18731],\n       [15747,  3257,  2463]])"
     },
     "execution_count": 6,
     "metadata": {},
     "output_type": "execute_result"
    }
   ],
   "source": [
    "# Automatically summing the matrices together\n",
    "matrix_sum = matrix1 + matrix2 + matrix3\n",
    "matrix_sum.numpy()"
   ],
   "metadata": {
    "collapsed": false,
    "ExecuteTime": {
     "end_time": "2023-09-25T02:37:22.246584600Z",
     "start_time": "2023-09-25T02:37:22.236086300Z"
    }
   },
   "id": "5de11285ab999fbe"
  },
  {
   "cell_type": "code",
   "execution_count": 7,
   "outputs": [
    {
     "name": "stdout",
     "output_type": "stream",
     "text": [
      "18153\n",
      "17557\n",
      "18731\n",
      "15747\n",
      "3257\n",
      "2463\n"
     ]
    }
   ],
   "source": [
    "# Showing this is correct by summing each individual element of the matrix together manually\n",
    "print((matrix1[0][0] + matrix2[0][0] + matrix3[0][0]).numpy())\n",
    "print((matrix1[0][1] + matrix2[0][1] + matrix3[0][1]).numpy())\n",
    "print((matrix1[0][2] + matrix2[0][2] + matrix3[0][2]).numpy())\n",
    "\n",
    "print((matrix1[1][0] + matrix2[1][0] + matrix3[1][0]).numpy())\n",
    "print((matrix1[1][1] + matrix2[1][1] + matrix3[1][1]).numpy())\n",
    "print((matrix1[1][2] + matrix2[1][2] + matrix3[1][2]).numpy())"
   ],
   "metadata": {
    "collapsed": false,
    "ExecuteTime": {
     "end_time": "2023-09-25T02:38:22.020449Z",
     "start_time": "2023-09-25T02:38:21.992449400Z"
    }
   },
   "id": "12137cc30e94cc4a"
  },
  {
   "cell_type": "code",
   "execution_count": null,
   "outputs": [],
   "source": [],
   "metadata": {
    "collapsed": false
   },
   "id": "42e2c6a6c0818562"
  }
 ],
 "metadata": {
  "kernelspec": {
   "display_name": "Python 3",
   "language": "python",
   "name": "python3"
  },
  "language_info": {
   "codemirror_mode": {
    "name": "ipython",
    "version": 2
   },
   "file_extension": ".py",
   "mimetype": "text/x-python",
   "name": "python",
   "nbconvert_exporter": "python",
   "pygments_lexer": "ipython2",
   "version": "2.7.6"
  }
 },
 "nbformat": 4,
 "nbformat_minor": 5
}
