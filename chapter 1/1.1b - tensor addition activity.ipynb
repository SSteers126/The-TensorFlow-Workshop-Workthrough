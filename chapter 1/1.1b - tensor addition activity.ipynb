{
 "cells": [
  {
   "cell_type": "code",
   "execution_count": 1,
   "id": "initial_id",
   "metadata": {
    "collapsed": true,
    "ExecuteTime": {
     "end_time": "2023-09-25T13:55:23.745757100Z",
     "start_time": "2023-09-25T13:55:15.148814Z"
    }
   },
   "outputs": [
    {
     "data": {
      "text/plain": "'2.13.0'"
     },
     "execution_count": 1,
     "metadata": {},
     "output_type": "execute_result"
    }
   ],
   "source": [
    "import tensorflow as tf\n",
    "tf.__version__"
   ]
  },
  {
   "cell_type": "code",
   "execution_count": 2,
   "outputs": [
    {
     "data": {
      "text/plain": "<tf.Tensor: shape=(), dtype=int32, numpy=5092>"
     },
     "execution_count": 2,
     "metadata": {},
     "output_type": "execute_result"
    }
   ],
   "source": [
    "product_a_salesperson_1 = tf.Variable(2706, tf.int16)\n",
    "product_a_salesperson_2 = tf.Variable(2386, tf.int16)\n",
    "product_a_location_x_total = product_a_salesperson_1 + product_a_salesperson_2\n",
    "product_a_location_x_total"
   ],
   "metadata": {
    "collapsed": false,
    "ExecuteTime": {
     "end_time": "2023-09-25T13:57:17.447559500Z",
     "start_time": "2023-09-25T13:57:17.354059900Z"
    }
   },
   "id": "9ade7b31ccd79a4"
  },
  {
   "cell_type": "code",
   "execution_count": 3,
   "outputs": [
    {
     "data": {
      "text/plain": "<tf.Tensor: shape=(3,), dtype=int32, numpy=array([2801, 2894, 5197])>"
     },
     "execution_count": 3,
     "metadata": {},
     "output_type": "execute_result"
    }
   ],
   "source": [
    "salesperson_1_sales = tf.Variable([2706, 2799, 5102], tf.int16)\n",
    "# The goal is to sell 95 units of each product\n",
    "day_sales_goal = tf.Variable(95, tf.int16)\n",
    "salesperson_1_goal = salesperson_1_sales + day_sales_goal\n",
    "# Print the goal for the day (with that being the total sold so far plus the 95 that are aimed to be sold of each product today)\n",
    "salesperson_1_goal"
   ],
   "metadata": {
    "collapsed": false,
    "ExecuteTime": {
     "end_time": "2023-09-25T14:00:48.037750300Z",
     "start_time": "2023-09-25T14:00:48.017252600Z"
    }
   },
   "id": "3f330c39fc703e23"
  },
  {
   "cell_type": "code",
   "execution_count": 4,
   "outputs": [
    {
     "data": {
      "text/plain": "<tf.Tensor: shape=(2, 3), dtype=int32, numpy=\narray([[12515,  6346, 11267],\n       [13165,  7165, 11609]])>"
     },
     "execution_count": 4,
     "metadata": {},
     "output_type": "execute_result"
    }
   ],
   "source": [
    "# Creating 3 tensors, with each one representing the sales in a location, with each row being a different salesperson\n",
    "location_x_sales = tf.Variable(\n",
    "    [\n",
    "        [2706, 2799, 5102],\n",
    "        [2386, 4089, 5932]\n",
    "    ],\n",
    "    \n",
    "    tf.int16\n",
    ")\n",
    "\n",
    "location_y_sales = tf.Variable(\n",
    "    [\n",
    "        [5901, 1208, 645],\n",
    "        [6235, 1098, 948]\n",
    "    ],\n",
    "    \n",
    "    tf.int16\n",
    ")\n",
    "\n",
    "location_z_sales = tf.Variable(\n",
    "    [\n",
    "        [3908, 2339, 5520],\n",
    "        [4544, 1978, 4729]\n",
    "    ],\n",
    "    \n",
    "    tf.int16\n",
    ")\n",
    "# Sum total product sales across all locations\n",
    "total_sales = location_x_sales + location_y_sales + location_z_sales\n",
    "total_sales"
   ],
   "metadata": {
    "collapsed": false,
    "ExecuteTime": {
     "end_time": "2023-09-25T14:09:28.158551800Z",
     "start_time": "2023-09-25T14:09:28.113555Z"
    }
   },
   "id": "e483e6850e392298"
  }
 ],
 "metadata": {
  "kernelspec": {
   "display_name": "Python 3",
   "language": "python",
   "name": "python3"
  },
  "language_info": {
   "codemirror_mode": {
    "name": "ipython",
    "version": 2
   },
   "file_extension": ".py",
   "mimetype": "text/x-python",
   "name": "python",
   "nbconvert_exporter": "python",
   "pygments_lexer": "ipython2",
   "version": "2.7.6"
  }
 },
 "nbformat": 4,
 "nbformat_minor": 5
}
