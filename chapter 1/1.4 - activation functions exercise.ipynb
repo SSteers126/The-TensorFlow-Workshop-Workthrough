{
 "cells": [
  {
   "cell_type": "code",
   "execution_count": 1,
   "id": "initial_id",
   "metadata": {
    "collapsed": true,
    "ExecuteTime": {
     "end_time": "2023-09-25T19:33:02.242285400Z",
     "start_time": "2023-09-25T19:32:57.184282900Z"
    }
   },
   "outputs": [
    {
     "data": {
      "text/plain": "'2.13.0'"
     },
     "execution_count": 1,
     "metadata": {},
     "output_type": "execute_result"
    }
   ],
   "source": [
    "import tensorflow as tf\n",
    "tf.__version__"
   ]
  },
  {
   "cell_type": "code",
   "execution_count": 2,
   "outputs": [
    {
     "data": {
      "text/plain": "<tf.Variable 'Variable:0' shape=(3, 4) dtype=float32, numpy=\narray([[-0.013,  0.024,  0.06 ,  0.022],\n       [ 0.001, -0.047,  0.039,  0.016],\n       [ 0.018,  0.03 , -0.021, -0.028]], dtype=float32)>"
     },
     "execution_count": 2,
     "metadata": {},
     "output_type": "execute_result"
    }
   ],
   "source": [
    "sales_records = tf.Variable([[-0.013, 0.024, 0.06, 0.022], \n",
    "                             [0.001, -0.047, 0.039, 0.016], \n",
    "                             [0.018, 0.030, -0.021, -0.028]])\n",
    "sales_records"
   ],
   "metadata": {
    "collapsed": false,
    "ExecuteTime": {
     "end_time": "2023-09-25T19:35:10.573596800Z",
     "start_time": "2023-09-25T19:35:10.535096600Z"
    }
   },
   "id": "e2227cdb5806e023"
  },
  {
   "cell_type": "code",
   "execution_count": 3,
   "outputs": [
    {
     "data": {
      "text/plain": "<tf.Variable 'Variable:0' shape=(4, 1) dtype=float32, numpy=\narray([[19995.95],\n       [24995.5 ],\n       [36745.5 ],\n       [29995.95]], dtype=float32)>"
     },
     "execution_count": 3,
     "metadata": {},
     "output_type": "execute_result"
    }
   ],
   "source": [
    "car_values = tf.Variable([[19995.95], [24995.50], [36745.50], [29995.95]])\n",
    "car_values"
   ],
   "metadata": {
    "collapsed": false,
    "ExecuteTime": {
     "end_time": "2023-09-25T19:35:44.523557800Z",
     "start_time": "2023-09-25T19:35:44.485563700Z"
    }
   },
   "id": "c09ba79195dc3953"
  },
  {
   "cell_type": "code",
   "execution_count": 4,
   "outputs": [
    {
     "data": {
      "text/plain": "<tf.Variable 'Variable:0' shape=(3, 1) dtype=float32, numpy=\narray([[-2500.],\n       [-2500.],\n       [-2500.]], dtype=float32)>"
     },
     "execution_count": 4,
     "metadata": {},
     "output_type": "execute_result"
    }
   ],
   "source": [
    "biases = tf.Variable([[-2500.0], [-2500.0], [-2500.0]])\n",
    "biases"
   ],
   "metadata": {
    "collapsed": false,
    "ExecuteTime": {
     "end_time": "2023-09-25T19:36:58.264737400Z",
     "start_time": "2023-09-25T19:36:58.242239600Z"
    }
   },
   "id": "b7748ed9a377fe5a"
  },
  {
   "cell_type": "code",
   "execution_count": 6,
   "outputs": [
    {
     "data": {
      "text/plain": "<tf.Tensor: shape=(3, 1), dtype=float32, numpy=\narray([[3204.5854 ],\n       [ 758.2173 ],\n       [-501.75012]], dtype=float32)>"
     },
     "execution_count": 6,
     "metadata": {},
     "output_type": "execute_result"
    }
   ],
   "source": [
    "msrp_deviation = sales_records @ car_values\n",
    "msrp_deviation"
   ],
   "metadata": {
    "collapsed": false,
    "ExecuteTime": {
     "end_time": "2023-09-25T19:38:37.052965600Z",
     "start_time": "2023-09-25T19:38:37.038963300Z"
    }
   },
   "id": "8d6957574595c268"
  },
  {
   "cell_type": "code",
   "execution_count": 7,
   "outputs": [
    {
     "data": {
      "text/plain": "<tf.Tensor: shape=(3, 1), dtype=float32, numpy=\narray([[  704.58545],\n       [-1741.7827 ],\n       [-3001.75   ]], dtype=float32)>"
     },
     "execution_count": 7,
     "metadata": {},
     "output_type": "execute_result"
    }
   ],
   "source": [
    "deviation_without_costs = msrp_deviation + biases\n",
    "deviation_without_costs"
   ],
   "metadata": {
    "collapsed": false,
    "ExecuteTime": {
     "end_time": "2023-09-25T19:39:20.063851900Z",
     "start_time": "2023-09-25T19:39:20.041850200Z"
    }
   },
   "id": "bfbc8544f4ab4e4f"
  },
  {
   "cell_type": "code",
   "execution_count": 8,
   "outputs": [
    {
     "data": {
      "text/plain": "<tf.Tensor: shape=(3, 1), dtype=float32, numpy=\narray([[704.58545],\n       [  0.     ],\n       [  0.     ]], dtype=float32)>"
     },
     "execution_count": 8,
     "metadata": {},
     "output_type": "execute_result"
    }
   ],
   "source": [
    "# The ReLU function will clamp negative values to 0, keeping only salespeople that overall made a profit\n",
    "positive_only = tf.keras.activations.relu(deviation_without_costs)\n",
    "positive_only"
   ],
   "metadata": {
    "collapsed": false,
    "ExecuteTime": {
     "end_time": "2023-09-25T19:40:22.316265200Z",
     "start_time": "2023-09-25T19:40:22.182269400Z"
    }
   },
   "id": "9a6eb9785c0f23eb"
  },
  {
   "cell_type": "code",
   "execution_count": null,
   "outputs": [],
   "source": [],
   "metadata": {
    "collapsed": false
   },
   "id": "71ec337ae8cbf70a"
  }
 ],
 "metadata": {
  "kernelspec": {
   "display_name": "Python 3",
   "language": "python",
   "name": "python3"
  },
  "language_info": {
   "codemirror_mode": {
    "name": "ipython",
    "version": 2
   },
   "file_extension": ".py",
   "mimetype": "text/x-python",
   "name": "python",
   "nbconvert_exporter": "python",
   "pygments_lexer": "ipython2",
   "version": "2.7.6"
  }
 },
 "nbformat": 4,
 "nbformat_minor": 5
}
