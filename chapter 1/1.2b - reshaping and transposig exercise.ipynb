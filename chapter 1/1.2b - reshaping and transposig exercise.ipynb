{
 "cells": [
  {
   "cell_type": "code",
   "execution_count": 1,
   "id": "initial_id",
   "metadata": {
    "collapsed": true,
    "ExecuteTime": {
     "end_time": "2023-09-25T15:18:51.965091900Z",
     "start_time": "2023-09-25T15:18:45.473591500Z"
    }
   },
   "outputs": [
    {
     "data": {
      "text/plain": "'2.13.0'"
     },
     "execution_count": 1,
     "metadata": {},
     "output_type": "execute_result"
    }
   ],
   "source": [
    "import tensorflow as tf\n",
    "tf.__version__"
   ]
  },
  {
   "cell_type": "code",
   "execution_count": 2,
   "outputs": [
    {
     "data": {
      "text/plain": "TensorShape([24])"
     },
     "execution_count": 2,
     "metadata": {},
     "output_type": "execute_result"
    }
   ],
   "source": [
    "increasing_list = tf.Variable([1, 2, 3, 4, 5, 6, 7, 8, 9, 10, 11, 12, 13, 14, 15, 16, 17, 18, 19, 20, 21, 22, 23, 24])\n",
    "increasing_list.shape"
   ],
   "metadata": {
    "collapsed": false,
    "ExecuteTime": {
     "end_time": "2023-09-25T15:23:33.625205Z",
     "start_time": "2023-09-25T15:23:33.552708400Z"
    }
   },
   "id": "4e521d4e33c8ff3"
  },
  {
   "cell_type": "code",
   "execution_count": 10,
   "outputs": [
    {
     "data": {
      "text/plain": "<tf.Tensor: shape=(12, 2), dtype=int32, numpy=\narray([[ 1,  2],\n       [ 3,  4],\n       [ 5,  6],\n       [ 7,  8],\n       [ 9, 10],\n       [11, 12],\n       [13, 14],\n       [15, 16],\n       [17, 18],\n       [19, 20],\n       [21, 22],\n       [23, 24]])>"
     },
     "execution_count": 10,
     "metadata": {},
     "output_type": "execute_result"
    }
   ],
   "source": [
    "# Make matrix of 2 items in each list\n",
    "reshaped_matrix = tf.reshape(increasing_list, [12, 2])\n",
    "reshaped_matrix"
   ],
   "metadata": {
    "collapsed": false,
    "ExecuteTime": {
     "end_time": "2023-09-25T15:27:32.389519400Z",
     "start_time": "2023-09-25T15:27:32.381520800Z"
    }
   },
   "id": "db80de7bd5d5451e"
  },
  {
   "cell_type": "code",
   "execution_count": 4,
   "outputs": [
    {
     "data": {
      "text/plain": "<tf.Tensor: shape=(3, 4, 2), dtype=int32, numpy=\narray([[[ 1,  2],\n        [ 3,  4],\n        [ 5,  6],\n        [ 7,  8]],\n\n       [[ 9, 10],\n        [11, 12],\n        [13, 14],\n        [15, 16]],\n\n       [[17, 18],\n        [19, 20],\n        [21, 22],\n        [23, 24]]])>"
     },
     "execution_count": 4,
     "metadata": {},
     "output_type": "execute_result"
    }
   ],
   "source": [
    "# Reshape 24 items into 3-dimensional tensor\n",
    "reshaped_tensor = tf.reshape(increasing_list, [3, 4, 2])\n",
    "reshaped_tensor"
   ],
   "metadata": {
    "collapsed": false,
    "ExecuteTime": {
     "end_time": "2023-09-25T15:25:19.808016300Z",
     "start_time": "2023-09-25T15:25:19.795017400Z"
    }
   },
   "id": "63ce712d71c38496"
  },
  {
   "cell_type": "code",
   "execution_count": 5,
   "outputs": [
    {
     "data": {
      "text/plain": "TensorShape([3, 4, 2])"
     },
     "execution_count": 5,
     "metadata": {},
     "output_type": "execute_result"
    }
   ],
   "source": [
    "reshaped_tensor.shape"
   ],
   "metadata": {
    "collapsed": false,
    "ExecuteTime": {
     "end_time": "2023-09-25T15:26:13.817668200Z",
     "start_time": "2023-09-25T15:26:13.807671400Z"
    }
   },
   "id": "f1588ed2bc103155"
  },
  {
   "cell_type": "code",
   "execution_count": 8,
   "outputs": [
    {
     "data": {
      "text/plain": "<tf.Tensor: shape=(), dtype=int32, numpy=3>"
     },
     "execution_count": 8,
     "metadata": {},
     "output_type": "execute_result"
    }
   ],
   "source": [
    "tf.rank(reshaped_tensor)"
   ],
   "metadata": {
    "collapsed": false,
    "ExecuteTime": {
     "end_time": "2023-09-25T15:26:43.921940500Z",
     "start_time": "2023-09-25T15:26:43.908941100Z"
    }
   },
   "id": "75a3d74a832d47ce"
  },
  {
   "cell_type": "code",
   "execution_count": 11,
   "outputs": [
    {
     "data": {
      "text/plain": "<tf.Tensor: shape=(2, 12), dtype=int32, numpy=\narray([[ 1,  3,  5,  7,  9, 11, 13, 15, 17, 19, 21, 23],\n       [ 2,  4,  6,  8, 10, 12, 14, 16, 18, 20, 22, 24]])>"
     },
     "execution_count": 11,
     "metadata": {},
     "output_type": "execute_result"
    }
   ],
   "source": [
    "transposed_matrix = tf.transpose(reshaped_matrix)\n",
    "transposed_matrix"
   ],
   "metadata": {
    "collapsed": false,
    "ExecuteTime": {
     "end_time": "2023-09-25T15:27:36.960599Z",
     "start_time": "2023-09-25T15:27:36.950100400Z"
    }
   },
   "id": "cf63c9dcc5a265bf"
  },
  {
   "cell_type": "code",
   "execution_count": 12,
   "outputs": [
    {
     "data": {
      "text/plain": "TensorShape([2, 12])"
     },
     "execution_count": 12,
     "metadata": {},
     "output_type": "execute_result"
    }
   ],
   "source": [
    "# The dimensions of the axes are reversed when transposing\n",
    "transposed_matrix.shape"
   ],
   "metadata": {
    "collapsed": false,
    "ExecuteTime": {
     "end_time": "2023-09-25T15:27:54.858205200Z",
     "start_time": "2023-09-25T15:27:54.819707200Z"
    }
   },
   "id": "f01077df757b36f6"
  }
 ],
 "metadata": {
  "kernelspec": {
   "display_name": "Python 3",
   "language": "python",
   "name": "python3"
  },
  "language_info": {
   "codemirror_mode": {
    "name": "ipython",
    "version": 2
   },
   "file_extension": ".py",
   "mimetype": "text/x-python",
   "name": "python",
   "nbconvert_exporter": "python",
   "pygments_lexer": "ipython2",
   "version": "2.7.6"
  }
 },
 "nbformat": 4,
 "nbformat_minor": 5
}
