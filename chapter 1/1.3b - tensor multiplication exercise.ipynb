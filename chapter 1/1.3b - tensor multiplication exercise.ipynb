{
 "cells": [
  {
   "cell_type": "code",
   "execution_count": 1,
   "id": "initial_id",
   "metadata": {
    "collapsed": true,
    "ExecuteTime": {
     "end_time": "2023-09-25T19:03:47.731834Z",
     "start_time": "2023-09-25T19:03:41.949034Z"
    }
   },
   "outputs": [
    {
     "data": {
      "text/plain": "'2.13.0'"
     },
     "execution_count": 1,
     "metadata": {},
     "output_type": "execute_result"
    }
   ],
   "source": [
    "import tensorflow as tf\n",
    "tf.__version__"
   ]
  },
  {
   "cell_type": "code",
   "execution_count": 2,
   "outputs": [
    {
     "data": {
      "text/plain": "<tf.Variable 'Variable:0' shape=(3, 5) dtype=float32, numpy=\narray([[1., 0., 3., 1., 2.],\n       [0., 1., 1., 1., 1.],\n       [2., 1., 0., 2., 0.]], dtype=float32)>"
     },
     "execution_count": 2,
     "metadata": {},
     "output_type": "execute_result"
    }
   ],
   "source": [
    "# Matrix that represents the amount of ingredients needed for each recipe\n",
    "matrix1 = tf.Variable([[1.0,0.0,3.0,1.0,2.0], \n",
    "                       [0.0,1.0,1.0,1.0,1.0], \n",
    "                       [2.0,1.0,0.0,2.0,0.0]], tf.float32)\n",
    "matrix1"
   ],
   "metadata": {
    "collapsed": false,
    "ExecuteTime": {
     "end_time": "2023-09-25T19:05:36.782865400Z",
     "start_time": "2023-09-25T19:05:36.742368600Z"
    }
   },
   "id": "b090ab81d4d0f6fb"
  },
  {
   "cell_type": "code",
   "execution_count": 3,
   "outputs": [
    {
     "data": {
      "text/plain": "<tf.Variable 'Variable:0' shape=(5, 2) dtype=float32, numpy=\narray([[  0.49, 103.  ],\n       [  0.18,  38.  ],\n       [  0.24,  69.  ],\n       [  1.02,  75.  ],\n       [  0.68,  78.  ]], dtype=float32)>"
     },
     "execution_count": 3,
     "metadata": {},
     "output_type": "execute_result"
    }
   ],
   "source": [
    "# Matrix representing the costs and weights of each ingredient\n",
    "matrix2 = tf.Variable([[0.49, 103], \n",
    "                       [0.18, 38], \n",
    "                       [0.24, 69], \n",
    "                       [1.02, 75], \n",
    "                       [0.68, 78]])\n",
    "\n",
    "matrix2"
   ],
   "metadata": {
    "collapsed": false,
    "ExecuteTime": {
     "end_time": "2023-09-25T19:08:19.647440200Z",
     "start_time": "2023-09-25T19:08:19.627439Z"
    }
   },
   "id": "17f18b66a2b8b5d"
  },
  {
   "cell_type": "code",
   "execution_count": 4,
   "outputs": [
    {
     "data": {
      "text/plain": "<tf.Tensor: shape=(3, 2), dtype=float32, numpy=\narray([[  3.5900002, 541.       ],\n       [  2.1200001, 260.       ],\n       [  3.2      , 394.       ]], dtype=float32)>"
     },
     "execution_count": 4,
     "metadata": {},
     "output_type": "execute_result"
    }
   ],
   "source": [
    "# Multiplying the ingredient amounts to use by costs and weights\n",
    "matmul1 = tf.matmul(matrix1, matrix2)\n",
    "matmul1"
   ],
   "metadata": {
    "collapsed": false,
    "ExecuteTime": {
     "end_time": "2023-09-25T19:08:57.130623600Z",
     "start_time": "2023-09-25T19:08:57.088124800Z"
    }
   },
   "id": "cee81d278691f59e"
  },
  {
   "cell_type": "code",
   "execution_count": 6,
   "outputs": [
    {
     "data": {
      "text/plain": "<tf.Tensor: shape=(5, 2), dtype=float32, numpy=\narray([[9.3080005e+02, 1.2638000e+05],\n       [2.0350000e+02, 2.8010000e+04],\n       [1.8906001e+03, 2.5431000e+05],\n       [1.3557501e+03, 1.8111500e+05],\n       [2.7381001e+03, 3.6949000e+05]], dtype=float32)>"
     },
     "execution_count": 6,
     "metadata": {},
     "output_type": "execute_result"
    }
   ],
   "source": [
    "# Matrix representing number of each type of sandwich sold between 5 stores\n",
    "matrix3 = tf.Variable([[120.0, 100.0, 90.0], \n",
    "                       [30.0, 15.0, 20.0], \n",
    "                       [220.0, 240.0, 185.0], \n",
    "                       [145.0, 160.0, 155.0], \n",
    "                       [330.0, 295.0, 290.0]])\n",
    "# Get expected costs and weights of ingredients for each store\n",
    "matmul2 = matrix3 @ matmul1\n",
    "matmul2"
   ],
   "metadata": {
    "collapsed": false,
    "ExecuteTime": {
     "end_time": "2023-09-25T19:11:04.927625600Z",
     "start_time": "2023-09-25T19:11:04.892124800Z"
    }
   },
   "id": "6b380cb0ab43cd5e"
  },
  {
   "cell_type": "code",
   "execution_count": null,
   "outputs": [],
   "source": [],
   "metadata": {
    "collapsed": false
   },
   "id": "6df94ae6d0ba53e1"
  }
 ],
 "metadata": {
  "kernelspec": {
   "display_name": "Python 3",
   "language": "python",
   "name": "python3"
  },
  "language_info": {
   "codemirror_mode": {
    "name": "ipython",
    "version": 2
   },
   "file_extension": ".py",
   "mimetype": "text/x-python",
   "name": "python",
   "nbconvert_exporter": "python",
   "pygments_lexer": "ipython2",
   "version": "2.7.6"
  }
 },
 "nbformat": 4,
 "nbformat_minor": 5
}
