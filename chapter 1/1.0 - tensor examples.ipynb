{
 "cells": [
  {
   "cell_type": "code",
   "execution_count": 7,
   "outputs": [
    {
     "data": {
      "text/plain": "'2.13.0'"
     },
     "execution_count": 7,
     "metadata": {},
     "output_type": "execute_result"
    }
   ],
   "source": [
    "import tensorflow as tf\n",
    "tf.__version__"
   ],
   "metadata": {
    "collapsed": false,
    "ExecuteTime": {
     "end_time": "2023-09-25T02:21:04.229102400Z",
     "start_time": "2023-09-25T02:21:04.223106200Z"
    }
   },
   "id": "a6c0d41eceded387"
  },
  {
   "cell_type": "code",
   "execution_count": 2,
   "outputs": [
    {
     "data": {
      "text/plain": "<tf.Variable 'Variable:0' shape=() dtype=int32, numpy=4113>"
     },
     "execution_count": 2,
     "metadata": {},
     "output_type": "execute_result"
    }
   ],
   "source": [
    "# Initialising an integer as a TensorFlow variable\n",
    "int_variable = tf.Variable(4113, tf.int16)\n",
    "int_variable"
   ],
   "metadata": {
    "collapsed": false,
    "ExecuteTime": {
     "end_time": "2023-09-25T02:16:40.247543300Z",
     "start_time": "2023-09-25T02:16:40.117043100Z"
    }
   },
   "id": "b263545dcbbbe4df"
  },
  {
   "cell_type": "code",
   "execution_count": 3,
   "outputs": [
    {
     "data": {
      "text/plain": "<tf.Tensor: shape=(), dtype=int32, numpy=0>"
     },
     "execution_count": 3,
     "metadata": {},
     "output_type": "execute_result"
    }
   ],
   "source": [
    "tf.rank(int_variable)"
   ],
   "metadata": {
    "collapsed": false,
    "ExecuteTime": {
     "end_time": "2023-09-25T02:17:19.400162800Z",
     "start_time": "2023-09-25T02:17:19.389165300Z"
    }
   },
   "id": "7caabd4215e6e57d"
  },
  {
   "cell_type": "code",
   "execution_count": 4,
   "outputs": [
    {
     "data": {
      "text/plain": "0"
     },
     "execution_count": 4,
     "metadata": {},
     "output_type": "execute_result"
    }
   ],
   "source": [
    "# Showing the rank of the variable as an integer\n",
    "tf.rank(int_variable).numpy()"
   ],
   "metadata": {
    "collapsed": false,
    "ExecuteTime": {
     "end_time": "2023-09-25T02:17:46.024044100Z",
     "start_time": "2023-09-25T02:17:46.013044400Z"
    }
   },
   "id": "d2d3a4a5e9623fb9"
  },
  {
   "cell_type": "code",
   "execution_count": 5,
   "outputs": [
    {
     "data": {
      "text/plain": "TensorShape([])"
     },
     "execution_count": 5,
     "metadata": {},
     "output_type": "execute_result"
    }
   ],
   "source": [
    "# `int_variable` is a scalar value, so it has no shape\n",
    "int_variable.shape"
   ],
   "metadata": {
    "collapsed": false,
    "ExecuteTime": {
     "end_time": "2023-09-25T02:18:51.919257400Z",
     "start_time": "2023-09-25T02:18:51.910758600Z"
    }
   },
   "id": "3c17b65c7ff72fca"
  },
  {
   "cell_type": "code",
   "execution_count": 6,
   "outputs": [
    {
     "data": {
      "text/plain": "[]"
     },
     "execution_count": 6,
     "metadata": {},
     "output_type": "execute_result"
    }
   ],
   "source": [
    "int_variable.shape.as_list()"
   ],
   "metadata": {
    "collapsed": false,
    "ExecuteTime": {
     "end_time": "2023-09-25T02:19:52.727464100Z",
     "start_time": "2023-09-25T02:19:52.716466900Z"
    }
   },
   "id": "6a99b86b790d1689"
  },
  {
   "cell_type": "code",
   "execution_count": 8,
   "outputs": [
    {
     "data": {
      "text/plain": "<tf.Variable 'Variable:0' shape=(3,) dtype=float32, numpy=array([0.23, 0.42, 0.35], dtype=float32)>"
     },
     "execution_count": 8,
     "metadata": {},
     "output_type": "execute_result"
    }
   ],
   "source": [
    "# Example of a Vector as a Tensorflow Variable - in this case, the votes for 3 different candidates\n",
    "vector_variable = tf.Variable([0.23, 0.42, 0.35], tf.float32)\n",
    "vector_variable"
   ],
   "metadata": {
    "collapsed": false,
    "ExecuteTime": {
     "end_time": "2023-09-25T02:21:41.262849900Z",
     "start_time": "2023-09-25T02:21:41.245352500Z"
    }
   },
   "id": "594ab07a537214cd"
  },
  {
   "cell_type": "code",
   "execution_count": 9,
   "outputs": [
    {
     "data": {
      "text/plain": "1"
     },
     "execution_count": 9,
     "metadata": {},
     "output_type": "execute_result"
    }
   ],
   "source": [
    "# The vector has 1 dimension\n",
    "tf.rank(vector_variable).numpy()"
   ],
   "metadata": {
    "collapsed": false,
    "ExecuteTime": {
     "end_time": "2023-09-25T02:22:36.566021100Z",
     "start_time": "2023-09-25T02:22:36.554023400Z"
    }
   },
   "id": "d8422d36d9fcd9b2"
  },
  {
   "cell_type": "code",
   "execution_count": 10,
   "outputs": [
    {
     "data": {
      "text/plain": "[3]"
     },
     "execution_count": 10,
     "metadata": {},
     "output_type": "execute_result"
    }
   ],
   "source": [
    "# And has 3 items within that dimension\n",
    "vector_variable.shape.as_list()"
   ],
   "metadata": {
    "collapsed": false,
    "ExecuteTime": {
     "end_time": "2023-09-25T02:22:45.608820400Z",
     "start_time": "2023-09-25T02:22:45.594322700Z"
    }
   },
   "id": "d2b9bd74c6170b3f"
  },
  {
   "cell_type": "code",
   "execution_count": 11,
   "outputs": [
    {
     "data": {
      "text/plain": "<tf.Variable 'Variable:0' shape=(2, 3) dtype=int32, numpy=\narray([[4113, 7511, 6259],\n       [3870, 6725, 6962]])>"
     },
     "execution_count": 11,
     "metadata": {},
     "output_type": "execute_result"
    }
   ],
   "source": [
    "# Creating a matrix for the candidates across different districts\n",
    "matrix_variable = tf.Variable([[4113, 7511, 6259], [3870, 6725, 6962]], tf.int32)\n",
    "matrix_variable"
   ],
   "metadata": {
    "collapsed": false,
    "ExecuteTime": {
     "end_time": "2023-09-25T02:23:56.443301600Z",
     "start_time": "2023-09-25T02:23:56.419304400Z"
    }
   },
   "id": "8be16076b64444a"
  },
  {
   "cell_type": "code",
   "execution_count": 12,
   "outputs": [
    {
     "data": {
      "text/plain": "2"
     },
     "execution_count": 12,
     "metadata": {},
     "output_type": "execute_result"
    }
   ],
   "source": [
    "# This matrix has 2 dimensions - one for votes, and another to separate each district\n",
    "tf.rank(matrix_variable).numpy()"
   ],
   "metadata": {
    "collapsed": false,
    "ExecuteTime": {
     "end_time": "2023-09-25T02:24:27.311068900Z",
     "start_time": "2023-09-25T02:24:27.300069600Z"
    }
   },
   "id": "90e2d069b26df749"
  },
  {
   "cell_type": "code",
   "execution_count": 13,
   "outputs": [
    {
     "data": {
      "text/plain": "[2, 3]"
     },
     "execution_count": 13,
     "metadata": {},
     "output_type": "execute_result"
    }
   ],
   "source": [
    "# The matrix shows the 3 parties in 2 districts\n",
    "matrix_variable.shape.as_list()"
   ],
   "metadata": {
    "collapsed": false,
    "ExecuteTime": {
     "end_time": "2023-09-25T02:24:44.591710Z",
     "start_time": "2023-09-25T02:24:44.580210800Z"
    }
   },
   "id": "e9e7ebf55e7f5f91"
  },
  {
   "cell_type": "code",
   "execution_count": 14,
   "outputs": [
    {
     "data": {
      "text/plain": "<tf.Variable 'Variable:0' shape=(3, 2, 3) dtype=int32, numpy=\narray([[[4113, 7511, 6259],\n        [3870, 6725, 6962]],\n\n       [[5102, 7038, 6591],\n        [3661, 5901, 6235]],\n\n       [[ 951, 1208, 1098],\n        [ 870,  645,  948]]])>"
     },
     "execution_count": 14,
     "metadata": {},
     "output_type": "execute_result"
    }
   ],
   "source": [
    "# This tensor has 3 dimensions - Votes for 3 different candidates in 2 districts, across 3 parties\n",
    "tensor_variable = tf.Variable([[[4113, 7511, 6259], \n",
    "                                [3870, 6725, 6962]], \n",
    "                               [[5102, 7038, 6591], \n",
    "                                [3661, 5901, 6235]], \n",
    "                               [[951, 1208, 1098], \n",
    "                                [870, 645, 948]]])\n",
    "tensor_variable"
   ],
   "metadata": {
    "collapsed": false,
    "ExecuteTime": {
     "end_time": "2023-09-25T02:26:51.858692400Z",
     "start_time": "2023-09-25T02:26:51.830694400Z"
    }
   },
   "id": "9fb8e3d4e1b41048"
  },
  {
   "cell_type": "code",
   "execution_count": 15,
   "outputs": [
    {
     "data": {
      "text/plain": "3"
     },
     "execution_count": 15,
     "metadata": {},
     "output_type": "execute_result"
    }
   ],
   "source": [
    "tf.rank(tensor_variable).numpy()"
   ],
   "metadata": {
    "collapsed": false,
    "ExecuteTime": {
     "end_time": "2023-09-25T02:28:15.995762300Z",
     "start_time": "2023-09-25T02:28:15.971262100Z"
    }
   },
   "id": "52b2a12435f55a8"
  },
  {
   "cell_type": "code",
   "execution_count": 16,
   "outputs": [
    {
     "data": {
      "text/plain": "[3, 2, 3]"
     },
     "execution_count": 16,
     "metadata": {},
     "output_type": "execute_result"
    }
   ],
   "source": [
    "tensor_variable.shape.as_list()"
   ],
   "metadata": {
    "collapsed": false,
    "ExecuteTime": {
     "end_time": "2023-09-25T02:28:22.493601300Z",
     "start_time": "2023-09-25T02:28:22.479101800Z"
    }
   },
   "id": "b90e96cf302b33a4"
  },
  {
   "cell_type": "code",
   "execution_count": null,
   "outputs": [],
   "source": [],
   "metadata": {
    "collapsed": false
   },
   "id": "6d284211a3683bad"
  }
 ],
 "metadata": {
  "kernelspec": {
   "display_name": "Python 3",
   "language": "python",
   "name": "python3"
  },
  "language_info": {
   "codemirror_mode": {
    "name": "ipython",
    "version": 2
   },
   "file_extension": ".py",
   "mimetype": "text/x-python",
   "name": "python",
   "nbconvert_exporter": "python",
   "pygments_lexer": "ipython2",
   "version": "2.7.6"
  }
 },
 "nbformat": 4,
 "nbformat_minor": 5
}
