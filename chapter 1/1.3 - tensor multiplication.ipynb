{
 "cells": [
  {
   "cell_type": "code",
   "execution_count": 1,
   "id": "initial_id",
   "metadata": {
    "collapsed": true,
    "ExecuteTime": {
     "end_time": "2023-09-25T18:46:43.375493200Z",
     "start_time": "2023-09-25T18:46:36.727994100Z"
    }
   },
   "outputs": [
    {
     "data": {
      "text/plain": "'2.13.0'"
     },
     "execution_count": 1,
     "metadata": {},
     "output_type": "execute_result"
    }
   ],
   "source": [
    "import tensorflow as tf\n",
    "tf.__version__"
   ]
  },
  {
   "cell_type": "code",
   "execution_count": 3,
   "outputs": [
    {
     "data": {
      "text/plain": "<tf.Tensor: shape=(1, 1), dtype=int32, numpy=array([[14]])>"
     },
     "execution_count": 3,
     "metadata": {},
     "output_type": "execute_result"
    }
   ],
   "source": [
    "tensor1 = tf.Variable([[1,2,3]])\n",
    "tensor2 = tf.Variable([[1],[2],[3]])\n",
    "tensor_mult = tf.matmul(tensor1, tensor2)\n",
    "tensor_mult"
   ],
   "metadata": {
    "collapsed": false,
    "ExecuteTime": {
     "end_time": "2023-09-25T18:47:30.210266400Z",
     "start_time": "2023-09-25T18:47:30.198265500Z"
    }
   },
   "id": "6f9d117e25d96139"
  },
  {
   "cell_type": "code",
   "execution_count": 4,
   "outputs": [
    {
     "data": {
      "text/plain": "<tf.Tensor: shape=(1, 1), dtype=int32, numpy=array([[14]])>"
     },
     "execution_count": 4,
     "metadata": {},
     "output_type": "execute_result"
    }
   ],
   "source": [
    "# The `@` operator can be used to multiply tensors\n",
    "tensor_mult_operator = tensor1 @ tensor2\n",
    "tensor_mult_operator"
   ],
   "metadata": {
    "collapsed": false,
    "ExecuteTime": {
     "end_time": "2023-09-25T18:48:16.649940500Z",
     "start_time": "2023-09-25T18:48:16.629436500Z"
    }
   },
   "id": "d603ecb9a84e8f94"
  },
  {
   "cell_type": "code",
   "execution_count": 5,
   "outputs": [
    {
     "data": {
      "text/plain": "<tf.Tensor: shape=(1, 3), dtype=int32, numpy=array([[ 5, 10, 15]])>"
     },
     "execution_count": 5,
     "metadata": {},
     "output_type": "execute_result"
    }
   ],
   "source": [
    "# Scalar multiplication will multiply all elements by the scalar value\n",
    "tensor1 = tf.Variable([[1,2,3]])\n",
    "scalar_mult = 5 * tensor1\n",
    "scalar_mult"
   ],
   "metadata": {
    "collapsed": false,
    "ExecuteTime": {
     "end_time": "2023-09-25T18:49:22.337078100Z",
     "start_time": "2023-09-25T18:49:22.312577500Z"
    }
   },
   "id": "cf62fd82eb58cb5"
  }
 ],
 "metadata": {
  "kernelspec": {
   "display_name": "Python 3",
   "language": "python",
   "name": "python3"
  },
  "language_info": {
   "codemirror_mode": {
    "name": "ipython",
    "version": 2
   },
   "file_extension": ".py",
   "mimetype": "text/x-python",
   "name": "python",
   "nbconvert_exporter": "python",
   "pygments_lexer": "ipython2",
   "version": "2.7.6"
  }
 },
 "nbformat": 4,
 "nbformat_minor": 5
}
