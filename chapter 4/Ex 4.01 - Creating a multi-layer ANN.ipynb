{
 "cells": [
  {
   "cell_type": "code",
   "execution_count": 10,
   "id": "initial_id",
   "metadata": {
    "collapsed": true,
    "ExecuteTime": {
     "end_time": "2023-10-08T23:47:03.513096700Z",
     "start_time": "2023-10-08T23:47:03.500593700Z"
    }
   },
   "outputs": [
    {
     "data": {
      "text/plain": "'2.13.0'"
     },
     "execution_count": 10,
     "metadata": {},
     "output_type": "execute_result"
    }
   ],
   "source": [
    "import tensorflow as tf\n",
    "import pandas as pd\n",
    "tf.__version__"
   ]
  },
  {
   "cell_type": "code",
   "execution_count": 11,
   "outputs": [
    {
     "data": {
      "text/plain": "       number_of_elements  mean_atomic_mass  wtd_mean_atomic_mass  \\\n0                       4         88.944468             57.862692   \n1                       5         92.729214             58.518416   \n2                       4         88.944468             57.885242   \n3                       4         88.944468             57.873967   \n4                       4         88.944468             57.840143   \n...                   ...               ...                   ...   \n21258                   4        106.957877             53.095769   \n21259                   5         92.266740             49.021367   \n21260                   2         99.663190             95.609104   \n21261                   2         99.663190             97.095602   \n21262                   3         87.468333             86.858500   \n\n       gmean_atomic_mass  wtd_gmean_atomic_mass  entropy_atomic_mass  \\\n0              66.361592              36.116612             1.181795   \n1              73.132787              36.396602             1.449309   \n2              66.361592              36.122509             1.181795   \n3              66.361592              36.119560             1.181795   \n4              66.361592              36.110716             1.181795   \n...                  ...                    ...                  ...   \n21258          82.515384              43.135565             1.177145   \n21259          64.812662              32.867748             1.323287   \n21260          99.433882              95.464320             0.690847   \n21261          99.433882              96.901083             0.690847   \n21262          82.555758              80.458722             1.041270   \n\n       wtd_entropy_atomic_mass  range_atomic_mass  wtd_range_atomic_mass  \\\n0                     1.062396          122.90607              31.794921   \n1                     1.057755          122.90607              36.161939   \n2                     0.975980          122.90607              35.741099   \n3                     1.022291          122.90607              33.768010   \n4                     1.129224          122.90607              27.848743   \n...                        ...                ...                    ...   \n21258                 1.254119          146.88130              15.504479   \n21259                 1.571630          188.38390               7.353333   \n21260                 0.530198           13.51362              53.041104   \n21261                 0.640883           13.51362              31.115202   \n21262                 0.895229           71.75500              43.144000   \n\n       std_atomic_mass  ...  wtd_mean_Valence  gmean_Valence  \\\n0            51.968828  ...          2.257143       2.213364   \n1            47.094633  ...          2.257143       1.888175   \n2            51.968828  ...          2.271429       2.213364   \n3            51.968828  ...          2.264286       2.213364   \n4            51.968828  ...          2.242857       2.213364   \n...                ...  ...               ...            ...   \n21258        65.764081  ...          3.555556       3.223710   \n21259        69.232655  ...          2.047619       2.168944   \n21260         6.756810  ...          4.800000       4.472136   \n21261         6.756810  ...          4.690000       4.472136   \n21262        29.905282  ...          4.500000       4.762203   \n\n       wtd_gmean_Valence  entropy_Valence  wtd_entropy_Valence  range_Valence  \\\n0               2.219783         1.368922             1.066221              1   \n1               2.210679         1.557113             1.047221              2   \n2               2.232679         1.368922             1.029175              1   \n3               2.226222         1.368922             1.048834              1   \n4               2.206963         1.368922             1.096052              1   \n...                  ...              ...                  ...            ...   \n21258           3.519911         1.377820             0.913658              1   \n21259           2.038991         1.594167             1.337246              1   \n21260           4.781762         0.686962             0.450561              1   \n21261           4.665819         0.686962             0.577601              1   \n21262           4.242641         1.054920             0.970116              3   \n\n       wtd_range_Valence  std_Valence  wtd_std_Valence  critical_temp  \n0               1.085714     0.433013         0.437059          29.00  \n1               1.128571     0.632456         0.468606          26.00  \n2               1.114286     0.433013         0.444697          19.00  \n3               1.100000     0.433013         0.440952          22.00  \n4               1.057143     0.433013         0.428809          23.00  \n...                  ...          ...              ...            ...  \n21258           2.168889     0.433013         0.496904           2.44  \n21259           0.904762     0.400000         0.212959         122.10  \n21260           3.200000     0.500000         0.400000           1.98  \n21261           2.210000     0.500000         0.462493           1.84  \n21262           1.800000     1.414214         1.500000          12.80  \n\n[21263 rows x 82 columns]",
      "text/html": "<div>\n<style scoped>\n    .dataframe tbody tr th:only-of-type {\n        vertical-align: middle;\n    }\n\n    .dataframe tbody tr th {\n        vertical-align: top;\n    }\n\n    .dataframe thead th {\n        text-align: right;\n    }\n</style>\n<table border=\"1\" class=\"dataframe\">\n  <thead>\n    <tr style=\"text-align: right;\">\n      <th></th>\n      <th>number_of_elements</th>\n      <th>mean_atomic_mass</th>\n      <th>wtd_mean_atomic_mass</th>\n      <th>gmean_atomic_mass</th>\n      <th>wtd_gmean_atomic_mass</th>\n      <th>entropy_atomic_mass</th>\n      <th>wtd_entropy_atomic_mass</th>\n      <th>range_atomic_mass</th>\n      <th>wtd_range_atomic_mass</th>\n      <th>std_atomic_mass</th>\n      <th>...</th>\n      <th>wtd_mean_Valence</th>\n      <th>gmean_Valence</th>\n      <th>wtd_gmean_Valence</th>\n      <th>entropy_Valence</th>\n      <th>wtd_entropy_Valence</th>\n      <th>range_Valence</th>\n      <th>wtd_range_Valence</th>\n      <th>std_Valence</th>\n      <th>wtd_std_Valence</th>\n      <th>critical_temp</th>\n    </tr>\n  </thead>\n  <tbody>\n    <tr>\n      <th>0</th>\n      <td>4</td>\n      <td>88.944468</td>\n      <td>57.862692</td>\n      <td>66.361592</td>\n      <td>36.116612</td>\n      <td>1.181795</td>\n      <td>1.062396</td>\n      <td>122.90607</td>\n      <td>31.794921</td>\n      <td>51.968828</td>\n      <td>...</td>\n      <td>2.257143</td>\n      <td>2.213364</td>\n      <td>2.219783</td>\n      <td>1.368922</td>\n      <td>1.066221</td>\n      <td>1</td>\n      <td>1.085714</td>\n      <td>0.433013</td>\n      <td>0.437059</td>\n      <td>29.00</td>\n    </tr>\n    <tr>\n      <th>1</th>\n      <td>5</td>\n      <td>92.729214</td>\n      <td>58.518416</td>\n      <td>73.132787</td>\n      <td>36.396602</td>\n      <td>1.449309</td>\n      <td>1.057755</td>\n      <td>122.90607</td>\n      <td>36.161939</td>\n      <td>47.094633</td>\n      <td>...</td>\n      <td>2.257143</td>\n      <td>1.888175</td>\n      <td>2.210679</td>\n      <td>1.557113</td>\n      <td>1.047221</td>\n      <td>2</td>\n      <td>1.128571</td>\n      <td>0.632456</td>\n      <td>0.468606</td>\n      <td>26.00</td>\n    </tr>\n    <tr>\n      <th>2</th>\n      <td>4</td>\n      <td>88.944468</td>\n      <td>57.885242</td>\n      <td>66.361592</td>\n      <td>36.122509</td>\n      <td>1.181795</td>\n      <td>0.975980</td>\n      <td>122.90607</td>\n      <td>35.741099</td>\n      <td>51.968828</td>\n      <td>...</td>\n      <td>2.271429</td>\n      <td>2.213364</td>\n      <td>2.232679</td>\n      <td>1.368922</td>\n      <td>1.029175</td>\n      <td>1</td>\n      <td>1.114286</td>\n      <td>0.433013</td>\n      <td>0.444697</td>\n      <td>19.00</td>\n    </tr>\n    <tr>\n      <th>3</th>\n      <td>4</td>\n      <td>88.944468</td>\n      <td>57.873967</td>\n      <td>66.361592</td>\n      <td>36.119560</td>\n      <td>1.181795</td>\n      <td>1.022291</td>\n      <td>122.90607</td>\n      <td>33.768010</td>\n      <td>51.968828</td>\n      <td>...</td>\n      <td>2.264286</td>\n      <td>2.213364</td>\n      <td>2.226222</td>\n      <td>1.368922</td>\n      <td>1.048834</td>\n      <td>1</td>\n      <td>1.100000</td>\n      <td>0.433013</td>\n      <td>0.440952</td>\n      <td>22.00</td>\n    </tr>\n    <tr>\n      <th>4</th>\n      <td>4</td>\n      <td>88.944468</td>\n      <td>57.840143</td>\n      <td>66.361592</td>\n      <td>36.110716</td>\n      <td>1.181795</td>\n      <td>1.129224</td>\n      <td>122.90607</td>\n      <td>27.848743</td>\n      <td>51.968828</td>\n      <td>...</td>\n      <td>2.242857</td>\n      <td>2.213364</td>\n      <td>2.206963</td>\n      <td>1.368922</td>\n      <td>1.096052</td>\n      <td>1</td>\n      <td>1.057143</td>\n      <td>0.433013</td>\n      <td>0.428809</td>\n      <td>23.00</td>\n    </tr>\n    <tr>\n      <th>...</th>\n      <td>...</td>\n      <td>...</td>\n      <td>...</td>\n      <td>...</td>\n      <td>...</td>\n      <td>...</td>\n      <td>...</td>\n      <td>...</td>\n      <td>...</td>\n      <td>...</td>\n      <td>...</td>\n      <td>...</td>\n      <td>...</td>\n      <td>...</td>\n      <td>...</td>\n      <td>...</td>\n      <td>...</td>\n      <td>...</td>\n      <td>...</td>\n      <td>...</td>\n      <td>...</td>\n    </tr>\n    <tr>\n      <th>21258</th>\n      <td>4</td>\n      <td>106.957877</td>\n      <td>53.095769</td>\n      <td>82.515384</td>\n      <td>43.135565</td>\n      <td>1.177145</td>\n      <td>1.254119</td>\n      <td>146.88130</td>\n      <td>15.504479</td>\n      <td>65.764081</td>\n      <td>...</td>\n      <td>3.555556</td>\n      <td>3.223710</td>\n      <td>3.519911</td>\n      <td>1.377820</td>\n      <td>0.913658</td>\n      <td>1</td>\n      <td>2.168889</td>\n      <td>0.433013</td>\n      <td>0.496904</td>\n      <td>2.44</td>\n    </tr>\n    <tr>\n      <th>21259</th>\n      <td>5</td>\n      <td>92.266740</td>\n      <td>49.021367</td>\n      <td>64.812662</td>\n      <td>32.867748</td>\n      <td>1.323287</td>\n      <td>1.571630</td>\n      <td>188.38390</td>\n      <td>7.353333</td>\n      <td>69.232655</td>\n      <td>...</td>\n      <td>2.047619</td>\n      <td>2.168944</td>\n      <td>2.038991</td>\n      <td>1.594167</td>\n      <td>1.337246</td>\n      <td>1</td>\n      <td>0.904762</td>\n      <td>0.400000</td>\n      <td>0.212959</td>\n      <td>122.10</td>\n    </tr>\n    <tr>\n      <th>21260</th>\n      <td>2</td>\n      <td>99.663190</td>\n      <td>95.609104</td>\n      <td>99.433882</td>\n      <td>95.464320</td>\n      <td>0.690847</td>\n      <td>0.530198</td>\n      <td>13.51362</td>\n      <td>53.041104</td>\n      <td>6.756810</td>\n      <td>...</td>\n      <td>4.800000</td>\n      <td>4.472136</td>\n      <td>4.781762</td>\n      <td>0.686962</td>\n      <td>0.450561</td>\n      <td>1</td>\n      <td>3.200000</td>\n      <td>0.500000</td>\n      <td>0.400000</td>\n      <td>1.98</td>\n    </tr>\n    <tr>\n      <th>21261</th>\n      <td>2</td>\n      <td>99.663190</td>\n      <td>97.095602</td>\n      <td>99.433882</td>\n      <td>96.901083</td>\n      <td>0.690847</td>\n      <td>0.640883</td>\n      <td>13.51362</td>\n      <td>31.115202</td>\n      <td>6.756810</td>\n      <td>...</td>\n      <td>4.690000</td>\n      <td>4.472136</td>\n      <td>4.665819</td>\n      <td>0.686962</td>\n      <td>0.577601</td>\n      <td>1</td>\n      <td>2.210000</td>\n      <td>0.500000</td>\n      <td>0.462493</td>\n      <td>1.84</td>\n    </tr>\n    <tr>\n      <th>21262</th>\n      <td>3</td>\n      <td>87.468333</td>\n      <td>86.858500</td>\n      <td>82.555758</td>\n      <td>80.458722</td>\n      <td>1.041270</td>\n      <td>0.895229</td>\n      <td>71.75500</td>\n      <td>43.144000</td>\n      <td>29.905282</td>\n      <td>...</td>\n      <td>4.500000</td>\n      <td>4.762203</td>\n      <td>4.242641</td>\n      <td>1.054920</td>\n      <td>0.970116</td>\n      <td>3</td>\n      <td>1.800000</td>\n      <td>1.414214</td>\n      <td>1.500000</td>\n      <td>12.80</td>\n    </tr>\n  </tbody>\n</table>\n<p>21263 rows × 82 columns</p>\n</div>"
     },
     "execution_count": 11,
     "metadata": {},
     "output_type": "execute_result"
    }
   ],
   "source": [
    "# Input data\n",
    "df = pd.read_csv('../input_data/CSVs/superconductivity.csv')\n",
    "# Drop columns with null entries\n",
    "df.dropna(inplace=True)\n",
    "df"
   ],
   "metadata": {
    "collapsed": false,
    "ExecuteTime": {
     "end_time": "2023-10-08T23:47:03.892096400Z",
     "start_time": "2023-10-08T23:47:03.509096100Z"
    }
   },
   "id": "5884c229a941a135"
  },
  {
   "cell_type": "code",
   "execution_count": 12,
   "outputs": [],
   "source": [
    "# Set target to be critical tempurature, with feature set being all other data\n",
    "target = df[['critical_temp']]\n",
    "features = df.drop(['critical_temp'], axis=1)"
   ],
   "metadata": {
    "collapsed": false,
    "ExecuteTime": {
     "end_time": "2023-10-08T23:47:03.906094Z",
     "start_time": "2023-10-08T23:47:03.886093300Z"
    }
   },
   "id": "dfea7de1e7cdb07d"
  },
  {
   "cell_type": "code",
   "execution_count": 13,
   "outputs": [],
   "source": [
    "from sklearn.preprocessing import StandardScaler\n",
    "# Use StandardScaler to rescale the data around 0 and scale based on unit variance\n",
    "scaler = StandardScaler()\n",
    "feature_array = scaler.fit_transform(features)\n",
    "features = pd.DataFrame(feature_array, columns=features.columns)"
   ],
   "metadata": {
    "collapsed": false,
    "ExecuteTime": {
     "end_time": "2023-10-08T23:47:04.034095Z",
     "start_time": "2023-10-08T23:47:03.899593800Z"
    }
   },
   "id": "999d5b2d909e1689"
  },
  {
   "cell_type": "code",
   "execution_count": 14,
   "outputs": [],
   "source": [
    "# Create a model to train on the dataframe\n",
    "model = tf.keras.Sequential()\n",
    "\n",
    "# Input layer with shape matching the feature set\n",
    "model.add(tf.keras.layers.InputLayer(input_shape=(features.shape[1],), name='Input_layer'))\n",
    "\n",
    "# 4 Hidden layers with 64, 32, 16 and 8 nodes per layer\n",
    "model.add(tf.keras.layers.Dense(64, name='Dense_layer_1', activation='relu')) # Use ReLU activation function for this layer\n",
    "model.add(tf.keras.layers.Dense(32, name='Dense_layer_2'))\n",
    "model.add(tf.keras.layers.Dense(16, name='Dense_layer_3'))\n",
    "model.add(tf.keras.layers.Dense(8, name='Dense_layer_4'))\n",
    "\n",
    "# Output layer with connections to all previous nodes\n",
    "model.add(tf.keras.layers.Dense(1, name='Output_layer'))"
   ],
   "metadata": {
    "collapsed": false,
    "ExecuteTime": {
     "end_time": "2023-10-08T23:47:04.078595500Z",
     "start_time": "2023-10-08T23:47:03.968096Z"
    }
   },
   "id": "e0795674fd86d81c"
  },
  {
   "cell_type": "code",
   "execution_count": 15,
   "outputs": [],
   "source": [
    "# Use the RMSprop optimiser function and mean squared error for loss\n",
    "model.compile(tf.optimizers.RMSprop(0.001), loss='mse')\n",
    "# Add a tensorboard callback to create logs for future reference\n",
    "tensorboard_callback = tf.keras.callbacks.TensorBoard(log_dir=\"./logs\")"
   ],
   "metadata": {
    "collapsed": false,
    "ExecuteTime": {
     "end_time": "2023-10-08T23:47:04.080093200Z",
     "start_time": "2023-10-08T23:47:04.022592700Z"
    }
   },
   "id": "31ad6045e50961aa"
  },
  {
   "cell_type": "code",
   "execution_count": 18,
   "outputs": [
    {
     "name": "stdout",
     "output_type": "stream",
     "text": [
      "Epoch 1/100\n",
      "532/532 [==============================] - 1s 3ms/step - loss: 160.2928 - val_loss: 268.3968\n",
      "Epoch 2/100\n",
      "532/532 [==============================] - 2s 3ms/step - loss: 159.5576 - val_loss: 283.8095\n",
      "Epoch 3/100\n",
      "532/532 [==============================] - 3s 5ms/step - loss: 160.3793 - val_loss: 266.1397\n",
      "Epoch 4/100\n",
      "532/532 [==============================] - 2s 5ms/step - loss: 159.9051 - val_loss: 273.5670\n",
      "Epoch 5/100\n",
      "532/532 [==============================] - 3s 5ms/step - loss: 157.4365 - val_loss: 270.1654\n",
      "Epoch 6/100\n",
      "532/532 [==============================] - 2s 5ms/step - loss: 159.2270 - val_loss: 288.4320\n",
      "Epoch 7/100\n",
      "532/532 [==============================] - 2s 4ms/step - loss: 159.5367 - val_loss: 287.6465\n",
      "Epoch 8/100\n",
      "532/532 [==============================] - 2s 4ms/step - loss: 158.6662 - val_loss: 281.0269\n",
      "Epoch 9/100\n",
      "532/532 [==============================] - 3s 5ms/step - loss: 156.8927 - val_loss: 270.2240\n",
      "Epoch 10/100\n",
      "532/532 [==============================] - 2s 4ms/step - loss: 159.0923 - val_loss: 282.9478\n",
      "Epoch 11/100\n",
      "532/532 [==============================] - 2s 4ms/step - loss: 158.1824 - val_loss: 276.2072\n",
      "Epoch 12/100\n",
      "532/532 [==============================] - 2s 4ms/step - loss: 157.7153 - val_loss: 244.0333\n",
      "Epoch 13/100\n",
      "532/532 [==============================] - 2s 5ms/step - loss: 157.6120 - val_loss: 291.0180\n",
      "Epoch 14/100\n",
      "532/532 [==============================] - 2s 4ms/step - loss: 157.0374 - val_loss: 262.3214\n",
      "Epoch 15/100\n",
      "532/532 [==============================] - 2s 4ms/step - loss: 156.5280 - val_loss: 280.3191\n",
      "Epoch 16/100\n",
      "532/532 [==============================] - 2s 5ms/step - loss: 156.1082 - val_loss: 285.6523\n",
      "Epoch 17/100\n",
      "532/532 [==============================] - 2s 4ms/step - loss: 155.9598 - val_loss: 268.7098\n",
      "Epoch 18/100\n",
      "532/532 [==============================] - 2s 5ms/step - loss: 157.1727 - val_loss: 281.0228\n",
      "Epoch 19/100\n",
      "532/532 [==============================] - 2s 4ms/step - loss: 156.2155 - val_loss: 276.9669\n",
      "Epoch 20/100\n",
      "532/532 [==============================] - 2s 5ms/step - loss: 156.2388 - val_loss: 305.0566\n",
      "Epoch 21/100\n",
      "532/532 [==============================] - 2s 4ms/step - loss: 155.8045 - val_loss: 318.6779\n",
      "Epoch 22/100\n",
      "532/532 [==============================] - 2s 5ms/step - loss: 155.1219 - val_loss: 298.6155\n",
      "Epoch 23/100\n",
      "532/532 [==============================] - 2s 4ms/step - loss: 154.9891 - val_loss: 310.6838\n",
      "Epoch 24/100\n",
      "532/532 [==============================] - 2s 4ms/step - loss: 154.0658 - val_loss: 296.7809\n",
      "Epoch 25/100\n",
      "532/532 [==============================] - 2s 4ms/step - loss: 154.3995 - val_loss: 266.7374\n",
      "Epoch 26/100\n",
      "532/532 [==============================] - 3s 5ms/step - loss: 154.2096 - val_loss: 267.0689\n",
      "Epoch 27/100\n",
      "532/532 [==============================] - 3s 5ms/step - loss: 154.6530 - val_loss: 275.6526\n",
      "Epoch 28/100\n",
      "532/532 [==============================] - 2s 4ms/step - loss: 154.0770 - val_loss: 275.8065\n",
      "Epoch 29/100\n",
      "532/532 [==============================] - 2s 4ms/step - loss: 153.9349 - val_loss: 277.4162\n",
      "Epoch 30/100\n",
      "532/532 [==============================] - 3s 5ms/step - loss: 153.6584 - val_loss: 276.6588\n",
      "Epoch 31/100\n",
      "532/532 [==============================] - 2s 5ms/step - loss: 153.9183 - val_loss: 272.2903\n",
      "Epoch 32/100\n",
      "532/532 [==============================] - 2s 4ms/step - loss: 154.1424 - val_loss: 260.1509\n",
      "Epoch 33/100\n",
      "532/532 [==============================] - 2s 5ms/step - loss: 153.5002 - val_loss: 299.8191\n",
      "Epoch 34/100\n",
      "532/532 [==============================] - 3s 5ms/step - loss: 152.5819 - val_loss: 275.8723\n",
      "Epoch 35/100\n",
      "532/532 [==============================] - 2s 4ms/step - loss: 153.4727 - val_loss: 293.7772\n",
      "Epoch 36/100\n",
      "532/532 [==============================] - 2s 4ms/step - loss: 152.2957 - val_loss: 274.4688\n",
      "Epoch 37/100\n",
      "532/532 [==============================] - 2s 4ms/step - loss: 152.2296 - val_loss: 314.6873\n",
      "Epoch 38/100\n",
      "532/532 [==============================] - 2s 4ms/step - loss: 152.4158 - val_loss: 275.8588\n",
      "Epoch 39/100\n",
      "532/532 [==============================] - 2s 4ms/step - loss: 152.2390 - val_loss: 299.2366\n",
      "Epoch 40/100\n",
      "532/532 [==============================] - 2s 4ms/step - loss: 152.8218 - val_loss: 294.8400\n",
      "Epoch 41/100\n",
      "532/532 [==============================] - 2s 4ms/step - loss: 152.3652 - val_loss: 302.4051\n",
      "Epoch 42/100\n",
      "532/532 [==============================] - 2s 4ms/step - loss: 152.2500 - val_loss: 321.2944\n",
      "Epoch 43/100\n",
      "532/532 [==============================] - 2s 4ms/step - loss: 151.8480 - val_loss: 286.2163\n",
      "Epoch 44/100\n",
      "532/532 [==============================] - 2s 4ms/step - loss: 150.9858 - val_loss: 302.9440\n",
      "Epoch 45/100\n",
      "532/532 [==============================] - 2s 4ms/step - loss: 152.0608 - val_loss: 337.0508\n",
      "Epoch 46/100\n",
      "532/532 [==============================] - 2s 4ms/step - loss: 150.7057 - val_loss: 302.5591\n",
      "Epoch 47/100\n",
      "532/532 [==============================] - 2s 5ms/step - loss: 151.0928 - val_loss: 325.2774\n",
      "Epoch 48/100\n",
      "532/532 [==============================] - 2s 4ms/step - loss: 150.7071 - val_loss: 279.7415\n",
      "Epoch 49/100\n",
      "532/532 [==============================] - 2s 5ms/step - loss: 150.0166 - val_loss: 286.8507\n",
      "Epoch 50/100\n",
      "532/532 [==============================] - 2s 4ms/step - loss: 150.5724 - val_loss: 295.8525\n",
      "Epoch 51/100\n",
      "532/532 [==============================] - 2s 4ms/step - loss: 149.8173 - val_loss: 323.7695\n",
      "Epoch 52/100\n",
      "532/532 [==============================] - 2s 4ms/step - loss: 150.0700 - val_loss: 294.0116\n",
      "Epoch 53/100\n",
      "532/532 [==============================] - 2s 4ms/step - loss: 149.6450 - val_loss: 311.1213\n",
      "Epoch 54/100\n",
      "532/532 [==============================] - 2s 4ms/step - loss: 149.5211 - val_loss: 312.6863\n",
      "Epoch 55/100\n",
      "532/532 [==============================] - 2s 4ms/step - loss: 149.5371 - val_loss: 287.3458\n",
      "Epoch 56/100\n",
      "532/532 [==============================] - 3s 5ms/step - loss: 149.8883 - val_loss: 282.5304\n",
      "Epoch 57/100\n",
      "532/532 [==============================] - 3s 5ms/step - loss: 149.0175 - val_loss: 320.5877\n",
      "Epoch 58/100\n",
      "532/532 [==============================] - 2s 5ms/step - loss: 148.0913 - val_loss: 281.2603\n",
      "Epoch 59/100\n",
      "532/532 [==============================] - 3s 5ms/step - loss: 149.0148 - val_loss: 322.5620\n",
      "Epoch 60/100\n",
      "532/532 [==============================] - 2s 5ms/step - loss: 148.7132 - val_loss: 310.2909\n",
      "Epoch 61/100\n",
      "532/532 [==============================] - 3s 5ms/step - loss: 147.8690 - val_loss: 307.6666\n",
      "Epoch 62/100\n",
      "532/532 [==============================] - 3s 5ms/step - loss: 149.5079 - val_loss: 298.6689\n",
      "Epoch 63/100\n",
      "532/532 [==============================] - 2s 4ms/step - loss: 148.1726 - val_loss: 296.1800\n",
      "Epoch 64/100\n",
      "532/532 [==============================] - 2s 4ms/step - loss: 148.8186 - val_loss: 335.3462\n",
      "Epoch 65/100\n",
      "532/532 [==============================] - 2s 4ms/step - loss: 147.8585 - val_loss: 381.0871\n",
      "Epoch 66/100\n",
      "532/532 [==============================] - 2s 4ms/step - loss: 147.8191 - val_loss: 324.7188\n",
      "Epoch 67/100\n",
      "532/532 [==============================] - 3s 5ms/step - loss: 148.0503 - val_loss: 322.2332\n",
      "Epoch 68/100\n",
      "532/532 [==============================] - 2s 5ms/step - loss: 147.5527 - val_loss: 330.0414\n",
      "Epoch 69/100\n",
      "532/532 [==============================] - 2s 4ms/step - loss: 147.0851 - val_loss: 309.2472\n",
      "Epoch 70/100\n",
      "532/532 [==============================] - 3s 5ms/step - loss: 147.2417 - val_loss: 294.7129\n",
      "Epoch 71/100\n",
      "532/532 [==============================] - 3s 5ms/step - loss: 146.9740 - val_loss: 329.3024\n",
      "Epoch 72/100\n",
      "532/532 [==============================] - 2s 4ms/step - loss: 146.6058 - val_loss: 339.4811\n",
      "Epoch 73/100\n",
      "532/532 [==============================] - 2s 5ms/step - loss: 146.6071 - val_loss: 294.8342\n",
      "Epoch 74/100\n",
      "532/532 [==============================] - 3s 5ms/step - loss: 146.7019 - val_loss: 309.6107\n",
      "Epoch 75/100\n",
      "532/532 [==============================] - 2s 5ms/step - loss: 146.5368 - val_loss: 311.1216\n",
      "Epoch 76/100\n",
      "532/532 [==============================] - 2s 4ms/step - loss: 146.6423 - val_loss: 303.9430\n",
      "Epoch 77/100\n",
      "532/532 [==============================] - 2s 5ms/step - loss: 147.1505 - val_loss: 313.4274\n",
      "Epoch 78/100\n",
      "532/532 [==============================] - 2s 5ms/step - loss: 146.4876 - val_loss: 303.2631\n",
      "Epoch 79/100\n",
      "532/532 [==============================] - 2s 5ms/step - loss: 146.3507 - val_loss: 320.4648\n",
      "Epoch 80/100\n",
      "532/532 [==============================] - 2s 4ms/step - loss: 146.4126 - val_loss: 317.7493\n",
      "Epoch 81/100\n",
      "532/532 [==============================] - 2s 4ms/step - loss: 147.3496 - val_loss: 302.1603\n",
      "Epoch 82/100\n",
      "532/532 [==============================] - 2s 4ms/step - loss: 145.9727 - val_loss: 294.1410\n",
      "Epoch 83/100\n",
      "532/532 [==============================] - 2s 4ms/step - loss: 146.5251 - val_loss: 319.0294\n",
      "Epoch 84/100\n",
      "532/532 [==============================] - 2s 4ms/step - loss: 146.2245 - val_loss: 318.6846\n",
      "Epoch 85/100\n",
      "532/532 [==============================] - 2s 4ms/step - loss: 146.2659 - val_loss: 291.0035\n",
      "Epoch 86/100\n",
      "532/532 [==============================] - 2s 4ms/step - loss: 145.7923 - val_loss: 310.4998\n",
      "Epoch 87/100\n",
      "532/532 [==============================] - 2s 4ms/step - loss: 144.9813 - val_loss: 346.6731\n",
      "Epoch 88/100\n",
      "532/532 [==============================] - 2s 4ms/step - loss: 145.4838 - val_loss: 336.8215\n",
      "Epoch 89/100\n",
      "532/532 [==============================] - 2s 5ms/step - loss: 145.4700 - val_loss: 290.6463\n",
      "Epoch 90/100\n",
      "532/532 [==============================] - 3s 5ms/step - loss: 145.4028 - val_loss: 327.0973\n",
      "Epoch 91/100\n",
      "532/532 [==============================] - 3s 5ms/step - loss: 145.3350 - val_loss: 293.4607\n",
      "Epoch 92/100\n",
      "532/532 [==============================] - 2s 4ms/step - loss: 144.6736 - val_loss: 325.2668\n",
      "Epoch 93/100\n",
      "532/532 [==============================] - 2s 4ms/step - loss: 144.7824 - val_loss: 320.8104\n",
      "Epoch 94/100\n",
      "532/532 [==============================] - 2s 5ms/step - loss: 144.5392 - val_loss: 311.0846\n",
      "Epoch 95/100\n",
      "532/532 [==============================] - 2s 4ms/step - loss: 145.7470 - val_loss: 301.9602\n",
      "Epoch 96/100\n",
      "532/532 [==============================] - 2s 5ms/step - loss: 144.5385 - val_loss: 312.4520\n",
      "Epoch 97/100\n",
      "532/532 [==============================] - 2s 4ms/step - loss: 144.5578 - val_loss: 309.3702\n",
      "Epoch 98/100\n",
      "532/532 [==============================] - 2s 4ms/step - loss: 143.9554 - val_loss: 335.2905\n",
      "Epoch 99/100\n",
      "532/532 [==============================] - 2s 5ms/step - loss: 143.7861 - val_loss: 342.2896\n",
      "Epoch 100/100\n",
      "532/532 [==============================] - 2s 4ms/step - loss: 143.9129 - val_loss: 322.8739\n"
     ]
    },
    {
     "data": {
      "text/plain": "<keras.src.callbacks.History at 0x23e0850c490>"
     },
     "execution_count": 18,
     "metadata": {},
     "output_type": "execute_result"
    }
   ],
   "source": [
    "# Train the model over 100 epochs and add a 20% validation split to the input data for evaluation after training\n",
    "model.fit(x=features.to_numpy(), y=target.to_numpy(), \n",
    "          epochs=100, callbacks=[tensorboard_callback], batch_size=32, validation_split=0.2)"
   ],
   "metadata": {
    "collapsed": false,
    "ExecuteTime": {
     "end_time": "2023-10-08T23:54:57.894598700Z",
     "start_time": "2023-10-08T23:51:00.769098700Z"
    }
   },
   "id": "271a84a0e160f266"
  },
  {
   "cell_type": "code",
   "execution_count": 19,
   "outputs": [
    {
     "name": "stdout",
     "output_type": "stream",
     "text": [
      "665/665 [==============================] - 3s 4ms/step - loss: 174.4449\n",
      "loss: 174.4449462890625\n"
     ]
    }
   ],
   "source": [
    "# Evaluate the model on the 20% remaining data\n",
    "loss = model.evaluate(features.to_numpy(), target.to_numpy())\n",
    "print('loss:', loss)"
   ],
   "metadata": {
    "collapsed": false,
    "ExecuteTime": {
     "end_time": "2023-10-08T23:55:51.977100300Z",
     "start_time": "2023-10-08T23:55:49.041098600Z"
    }
   },
   "id": "4887644ed62e7c4c"
  },
  {
   "cell_type": "code",
   "execution_count": 17,
   "outputs": [],
   "source": [],
   "metadata": {
    "collapsed": false,
    "ExecuteTime": {
     "end_time": "2023-10-08T23:48:56.744098600Z",
     "start_time": "2023-10-08T23:48:56.737095800Z"
    }
   },
   "id": "c95f575065cc0fb2"
  }
 ],
 "metadata": {
  "kernelspec": {
   "display_name": "Python 3",
   "language": "python",
   "name": "python3"
  },
  "language_info": {
   "codemirror_mode": {
    "name": "ipython",
    "version": 2
   },
   "file_extension": ".py",
   "mimetype": "text/x-python",
   "name": "python",
   "nbconvert_exporter": "python",
   "pygments_lexer": "ipython2",
   "version": "2.7.6"
  }
 },
 "nbformat": 4,
 "nbformat_minor": 5
}
