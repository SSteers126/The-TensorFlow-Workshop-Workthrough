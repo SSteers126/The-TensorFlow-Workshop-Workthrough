{
 "cells": [
  {
   "cell_type": "code",
   "execution_count": 9,
   "id": "initial_id",
   "metadata": {
    "collapsed": true,
    "ExecuteTime": {
     "end_time": "2023-10-08T22:09:10.706028400Z",
     "start_time": "2023-10-08T22:09:10.641526400Z"
    }
   },
   "outputs": [
    {
     "data": {
      "text/plain": "'2.13.0'"
     },
     "execution_count": 9,
     "metadata": {},
     "output_type": "execute_result"
    }
   ],
   "source": [
    "import tensorflow as tf\n",
    "import pandas as pd\n",
    "tf.__version__"
   ]
  },
  {
   "cell_type": "code",
   "execution_count": 10,
   "outputs": [
    {
     "data": {
      "text/plain": "      station  Present_Tmax  Present_Tmin  LDAPS_RHmin  LDAPS_RHmax  \\\n0         1.0          28.7          21.4    58.255688    91.116364   \n1         2.0          31.9          21.6    52.263397    90.604721   \n2         3.0          31.6          23.3    48.690479    83.973587   \n3         4.0          32.0          23.4    58.239788    96.483688   \n4         5.0          31.4          21.9    56.174095    90.155128   \n...       ...           ...           ...          ...          ...   \n7745     21.0          23.1          17.8    24.688997    78.261383   \n7746     22.0          22.5          17.4    30.094858    83.690018   \n7747     23.0          23.3          17.1    26.741310    78.869858   \n7748     24.0          23.3          17.7    24.040634    77.294975   \n7749     25.0          23.2          17.4    22.933014    77.243744   \n\n      LDAPS_Tmax_lapse  LDAPS_Tmin_lapse  LDAPS_WS    LDAPS_LH  LDAPS_CC1  \\\n0            28.074101         23.006936  6.818887   69.451805   0.233947   \n1            29.850689         24.035009  5.691890   51.937448   0.225508   \n2            30.091292         24.565633  6.138224   20.573050   0.209344   \n3            29.704629         23.326177  5.650050   65.727144   0.216372   \n4            29.113934         23.486480  5.735004  107.965535   0.151407   \n...                ...               ...       ...         ...        ...   \n7745         27.812697         18.303014  6.603253    9.614074   0.052902   \n7746         26.704905         17.814038  5.768083   82.146707   0.066461   \n7747         26.352081         18.775678  6.148918   72.058294   0.030034   \n7748         27.010193         18.733519  6.542819   47.241457   0.035874   \n7749         27.939516         18.522965  7.289264    9.090034   0.048954   \n\n      ...  LDAPS_PPT2  LDAPS_PPT3  LDAPS_PPT4      lat      lon       DEM  \\\n0     ...         0.0         0.0         0.0  37.6046  126.991  212.3350   \n1     ...         0.0         0.0         0.0  37.6046  127.032   44.7624   \n2     ...         0.0         0.0         0.0  37.5776  127.058   33.3068   \n3     ...         0.0         0.0         0.0  37.6450  127.022   45.7160   \n4     ...         0.0         0.0         0.0  37.5507  127.135   35.0380   \n...   ...         ...         ...         ...      ...      ...       ...   \n7745  ...         0.0         0.0         0.0  37.5507  127.040   26.2980   \n7746  ...         0.0         0.0         0.0  37.5102  127.086   21.9668   \n7747  ...         0.0         0.0         0.0  37.5372  126.891   15.5876   \n7748  ...         0.0         0.0         0.0  37.5237  126.909   17.2956   \n7749  ...         0.0         0.0         0.0  37.5237  126.970   19.5844   \n\n       Slope  Solar radiation  Next_Tmax  Next_Tmin  \n0     2.7850      5992.895996       29.1       21.2  \n1     0.5141      5869.312500       30.5       22.5  \n2     0.2661      5863.555664       31.1       23.9  \n3     2.5348      5856.964844       31.7       24.3  \n4     0.5055      5859.552246       31.2       22.5  \n...      ...              ...        ...        ...  \n7745  0.5721      4456.024414       27.6       17.7  \n7746  0.1332      4441.803711       28.0       17.1  \n7747  0.1554      4443.313965       28.3       18.1  \n7748  0.2223      4438.373535       28.6       18.8  \n7749  0.2713      4451.345215       27.8       17.4  \n\n[7588 rows x 24 columns]",
      "text/html": "<div>\n<style scoped>\n    .dataframe tbody tr th:only-of-type {\n        vertical-align: middle;\n    }\n\n    .dataframe tbody tr th {\n        vertical-align: top;\n    }\n\n    .dataframe thead th {\n        text-align: right;\n    }\n</style>\n<table border=\"1\" class=\"dataframe\">\n  <thead>\n    <tr style=\"text-align: right;\">\n      <th></th>\n      <th>station</th>\n      <th>Present_Tmax</th>\n      <th>Present_Tmin</th>\n      <th>LDAPS_RHmin</th>\n      <th>LDAPS_RHmax</th>\n      <th>LDAPS_Tmax_lapse</th>\n      <th>LDAPS_Tmin_lapse</th>\n      <th>LDAPS_WS</th>\n      <th>LDAPS_LH</th>\n      <th>LDAPS_CC1</th>\n      <th>...</th>\n      <th>LDAPS_PPT2</th>\n      <th>LDAPS_PPT3</th>\n      <th>LDAPS_PPT4</th>\n      <th>lat</th>\n      <th>lon</th>\n      <th>DEM</th>\n      <th>Slope</th>\n      <th>Solar radiation</th>\n      <th>Next_Tmax</th>\n      <th>Next_Tmin</th>\n    </tr>\n  </thead>\n  <tbody>\n    <tr>\n      <th>0</th>\n      <td>1.0</td>\n      <td>28.7</td>\n      <td>21.4</td>\n      <td>58.255688</td>\n      <td>91.116364</td>\n      <td>28.074101</td>\n      <td>23.006936</td>\n      <td>6.818887</td>\n      <td>69.451805</td>\n      <td>0.233947</td>\n      <td>...</td>\n      <td>0.0</td>\n      <td>0.0</td>\n      <td>0.0</td>\n      <td>37.6046</td>\n      <td>126.991</td>\n      <td>212.3350</td>\n      <td>2.7850</td>\n      <td>5992.895996</td>\n      <td>29.1</td>\n      <td>21.2</td>\n    </tr>\n    <tr>\n      <th>1</th>\n      <td>2.0</td>\n      <td>31.9</td>\n      <td>21.6</td>\n      <td>52.263397</td>\n      <td>90.604721</td>\n      <td>29.850689</td>\n      <td>24.035009</td>\n      <td>5.691890</td>\n      <td>51.937448</td>\n      <td>0.225508</td>\n      <td>...</td>\n      <td>0.0</td>\n      <td>0.0</td>\n      <td>0.0</td>\n      <td>37.6046</td>\n      <td>127.032</td>\n      <td>44.7624</td>\n      <td>0.5141</td>\n      <td>5869.312500</td>\n      <td>30.5</td>\n      <td>22.5</td>\n    </tr>\n    <tr>\n      <th>2</th>\n      <td>3.0</td>\n      <td>31.6</td>\n      <td>23.3</td>\n      <td>48.690479</td>\n      <td>83.973587</td>\n      <td>30.091292</td>\n      <td>24.565633</td>\n      <td>6.138224</td>\n      <td>20.573050</td>\n      <td>0.209344</td>\n      <td>...</td>\n      <td>0.0</td>\n      <td>0.0</td>\n      <td>0.0</td>\n      <td>37.5776</td>\n      <td>127.058</td>\n      <td>33.3068</td>\n      <td>0.2661</td>\n      <td>5863.555664</td>\n      <td>31.1</td>\n      <td>23.9</td>\n    </tr>\n    <tr>\n      <th>3</th>\n      <td>4.0</td>\n      <td>32.0</td>\n      <td>23.4</td>\n      <td>58.239788</td>\n      <td>96.483688</td>\n      <td>29.704629</td>\n      <td>23.326177</td>\n      <td>5.650050</td>\n      <td>65.727144</td>\n      <td>0.216372</td>\n      <td>...</td>\n      <td>0.0</td>\n      <td>0.0</td>\n      <td>0.0</td>\n      <td>37.6450</td>\n      <td>127.022</td>\n      <td>45.7160</td>\n      <td>2.5348</td>\n      <td>5856.964844</td>\n      <td>31.7</td>\n      <td>24.3</td>\n    </tr>\n    <tr>\n      <th>4</th>\n      <td>5.0</td>\n      <td>31.4</td>\n      <td>21.9</td>\n      <td>56.174095</td>\n      <td>90.155128</td>\n      <td>29.113934</td>\n      <td>23.486480</td>\n      <td>5.735004</td>\n      <td>107.965535</td>\n      <td>0.151407</td>\n      <td>...</td>\n      <td>0.0</td>\n      <td>0.0</td>\n      <td>0.0</td>\n      <td>37.5507</td>\n      <td>127.135</td>\n      <td>35.0380</td>\n      <td>0.5055</td>\n      <td>5859.552246</td>\n      <td>31.2</td>\n      <td>22.5</td>\n    </tr>\n    <tr>\n      <th>...</th>\n      <td>...</td>\n      <td>...</td>\n      <td>...</td>\n      <td>...</td>\n      <td>...</td>\n      <td>...</td>\n      <td>...</td>\n      <td>...</td>\n      <td>...</td>\n      <td>...</td>\n      <td>...</td>\n      <td>...</td>\n      <td>...</td>\n      <td>...</td>\n      <td>...</td>\n      <td>...</td>\n      <td>...</td>\n      <td>...</td>\n      <td>...</td>\n      <td>...</td>\n      <td>...</td>\n    </tr>\n    <tr>\n      <th>7745</th>\n      <td>21.0</td>\n      <td>23.1</td>\n      <td>17.8</td>\n      <td>24.688997</td>\n      <td>78.261383</td>\n      <td>27.812697</td>\n      <td>18.303014</td>\n      <td>6.603253</td>\n      <td>9.614074</td>\n      <td>0.052902</td>\n      <td>...</td>\n      <td>0.0</td>\n      <td>0.0</td>\n      <td>0.0</td>\n      <td>37.5507</td>\n      <td>127.040</td>\n      <td>26.2980</td>\n      <td>0.5721</td>\n      <td>4456.024414</td>\n      <td>27.6</td>\n      <td>17.7</td>\n    </tr>\n    <tr>\n      <th>7746</th>\n      <td>22.0</td>\n      <td>22.5</td>\n      <td>17.4</td>\n      <td>30.094858</td>\n      <td>83.690018</td>\n      <td>26.704905</td>\n      <td>17.814038</td>\n      <td>5.768083</td>\n      <td>82.146707</td>\n      <td>0.066461</td>\n      <td>...</td>\n      <td>0.0</td>\n      <td>0.0</td>\n      <td>0.0</td>\n      <td>37.5102</td>\n      <td>127.086</td>\n      <td>21.9668</td>\n      <td>0.1332</td>\n      <td>4441.803711</td>\n      <td>28.0</td>\n      <td>17.1</td>\n    </tr>\n    <tr>\n      <th>7747</th>\n      <td>23.0</td>\n      <td>23.3</td>\n      <td>17.1</td>\n      <td>26.741310</td>\n      <td>78.869858</td>\n      <td>26.352081</td>\n      <td>18.775678</td>\n      <td>6.148918</td>\n      <td>72.058294</td>\n      <td>0.030034</td>\n      <td>...</td>\n      <td>0.0</td>\n      <td>0.0</td>\n      <td>0.0</td>\n      <td>37.5372</td>\n      <td>126.891</td>\n      <td>15.5876</td>\n      <td>0.1554</td>\n      <td>4443.313965</td>\n      <td>28.3</td>\n      <td>18.1</td>\n    </tr>\n    <tr>\n      <th>7748</th>\n      <td>24.0</td>\n      <td>23.3</td>\n      <td>17.7</td>\n      <td>24.040634</td>\n      <td>77.294975</td>\n      <td>27.010193</td>\n      <td>18.733519</td>\n      <td>6.542819</td>\n      <td>47.241457</td>\n      <td>0.035874</td>\n      <td>...</td>\n      <td>0.0</td>\n      <td>0.0</td>\n      <td>0.0</td>\n      <td>37.5237</td>\n      <td>126.909</td>\n      <td>17.2956</td>\n      <td>0.2223</td>\n      <td>4438.373535</td>\n      <td>28.6</td>\n      <td>18.8</td>\n    </tr>\n    <tr>\n      <th>7749</th>\n      <td>25.0</td>\n      <td>23.2</td>\n      <td>17.4</td>\n      <td>22.933014</td>\n      <td>77.243744</td>\n      <td>27.939516</td>\n      <td>18.522965</td>\n      <td>7.289264</td>\n      <td>9.090034</td>\n      <td>0.048954</td>\n      <td>...</td>\n      <td>0.0</td>\n      <td>0.0</td>\n      <td>0.0</td>\n      <td>37.5237</td>\n      <td>126.970</td>\n      <td>19.5844</td>\n      <td>0.2713</td>\n      <td>4451.345215</td>\n      <td>27.8</td>\n      <td>17.4</td>\n    </tr>\n  </tbody>\n</table>\n<p>7588 rows × 24 columns</p>\n</div>"
     },
     "execution_count": 10,
     "metadata": {},
     "output_type": "execute_result"
    }
   ],
   "source": [
    "# Read data to train on\n",
    "df = pd.read_csv('../input_data/CSVs/Bias_correction_ucl.csv')\n",
    "\n",
    "# Drop the date column from the dataframe\n",
    "df.drop('Date', inplace=True, axis=1)\n",
    "# Drop any columns with null values\n",
    "df.dropna(inplace=True)\n",
    "df"
   ],
   "metadata": {
    "collapsed": false,
    "ExecuteTime": {
     "end_time": "2023-10-08T22:09:10.741526Z",
     "start_time": "2023-10-08T22:09:10.654026600Z"
    }
   },
   "id": "690f3df30920daf2"
  },
  {
   "cell_type": "code",
   "execution_count": 11,
   "outputs": [],
   "source": [
    "# Create the target and feature datasets from the dataframe\n",
    "\n",
    "# The target will contain the next max and min temps to predict\n",
    "target = df[['Next_Tmax', 'Next_Tmin']]\n",
    "# And the feature set will have all data bar the features to predict\n",
    "features = df.drop(['Next_Tmax', 'Next_Tmin'], axis=1)"
   ],
   "metadata": {
    "collapsed": false,
    "ExecuteTime": {
     "end_time": "2023-10-08T22:09:10.742027600Z",
     "start_time": "2023-10-08T22:09:10.727028400Z"
    }
   },
   "id": "8f9e2a77918f9691"
  },
  {
   "cell_type": "code",
   "execution_count": 12,
   "outputs": [],
   "source": [
    "from sklearn.preprocessing import MinMaxScaler\n",
    "# Rescale the dataset to between 0 and 1\n",
    "scaler = MinMaxScaler()\n",
    "feature_array = scaler.fit_transform(features)\n",
    "features = pd.DataFrame(feature_array, columns=features.columns)"
   ],
   "metadata": {
    "collapsed": false,
    "ExecuteTime": {
     "end_time": "2023-10-08T22:09:10.766528300Z",
     "start_time": "2023-10-08T22:09:10.736028800Z"
    }
   },
   "id": "d9b8d7b77c55e7a3"
  },
  {
   "cell_type": "code",
   "execution_count": 13,
   "outputs": [],
   "source": [
    "# Create a new model to form the temperature predictor\n",
    "model = tf.keras.Sequential()\n",
    "# Add an input layer with an amount of inputs equal to the number of columns in the feature set\n",
    "model.add(tf.keras.layers.InputLayer(input_shape=(features.shape[1],), name='Input_layer'))\n",
    "# Add a dense layer to create the 2 necessary outputs that represent the temperature predictions\n",
    "model.add(tf.keras.layers.Dense(2, name='Output_layer'))"
   ],
   "metadata": {
    "collapsed": false,
    "ExecuteTime": {
     "end_time": "2023-10-08T22:09:10.794529500Z",
     "start_time": "2023-10-08T22:09:10.750527100Z"
    }
   },
   "id": "40ce33abe0616f32"
  },
  {
   "cell_type": "code",
   "execution_count": 14,
   "outputs": [],
   "source": [
    "# Use RMSprop as the optimiser function, with loss calculated by the mean square error\n",
    "model.compile(tf.optimizers.RMSprop(0.001), loss='mse')\n",
    "\n",
    "# Add a callback for tensorboard\n",
    "tensorboard_callback = tf.keras.callbacks.TensorBoard(log_dir=\"./logs\")"
   ],
   "metadata": {
    "collapsed": false,
    "ExecuteTime": {
     "end_time": "2023-10-08T22:09:10.843030900Z",
     "start_time": "2023-10-08T22:09:10.776527800Z"
    }
   },
   "id": "bea7dcba771f506e"
  },
  {
   "cell_type": "code",
   "execution_count": 15,
   "outputs": [
    {
     "name": "stdout",
     "output_type": "stream",
     "text": [
      "Epoch 1/50\n",
      "238/238 [==============================] - 1s 1ms/step - loss: 683.1458\n",
      "Epoch 2/50\n",
      "238/238 [==============================] - 0s 1ms/step - loss: 576.9147\n",
      "Epoch 3/50\n",
      "238/238 [==============================] - 0s 1ms/step - loss: 480.2981\n",
      "Epoch 4/50\n",
      "238/238 [==============================] - 0s 1ms/step - loss: 393.2728\n",
      "Epoch 5/50\n",
      "238/238 [==============================] - 0s 1ms/step - loss: 315.8923\n",
      "Epoch 6/50\n",
      "238/238 [==============================] - 0s 1ms/step - loss: 248.0395\n",
      "Epoch 7/50\n",
      "238/238 [==============================] - 0s 1ms/step - loss: 189.7799\n",
      "Epoch 8/50\n",
      "238/238 [==============================] - 0s 1ms/step - loss: 141.1825\n",
      "Epoch 9/50\n",
      "238/238 [==============================] - 0s 1ms/step - loss: 101.9670\n",
      "Epoch 10/50\n",
      "238/238 [==============================] - 0s 1ms/step - loss: 72.4541\n",
      "Epoch 11/50\n",
      "238/238 [==============================] - 0s 1ms/step - loss: 51.7156\n",
      "Epoch 12/50\n",
      "238/238 [==============================] - 0s 2ms/step - loss: 37.8825\n",
      "Epoch 13/50\n",
      "238/238 [==============================] - 0s 1ms/step - loss: 29.1330\n",
      "Epoch 14/50\n",
      "238/238 [==============================] - 0s 1ms/step - loss: 24.0693\n",
      "Epoch 15/50\n",
      "238/238 [==============================] - 0s 1ms/step - loss: 20.9717\n",
      "Epoch 16/50\n",
      "238/238 [==============================] - 0s 1ms/step - loss: 18.7660\n",
      "Epoch 17/50\n",
      "238/238 [==============================] - 0s 1ms/step - loss: 16.9269\n",
      "Epoch 18/50\n",
      "238/238 [==============================] - 0s 1ms/step - loss: 15.2570\n",
      "Epoch 19/50\n",
      "238/238 [==============================] - 0s 1ms/step - loss: 13.8192\n",
      "Epoch 20/50\n",
      "238/238 [==============================] - 0s 1ms/step - loss: 12.5114\n",
      "Epoch 21/50\n",
      "238/238 [==============================] - 0s 1ms/step - loss: 11.3523\n",
      "Epoch 22/50\n",
      "238/238 [==============================] - 0s 1ms/step - loss: 10.2727\n",
      "Epoch 23/50\n",
      "238/238 [==============================] - 0s 1ms/step - loss: 9.3622\n",
      "Epoch 24/50\n",
      "238/238 [==============================] - 0s 1ms/step - loss: 8.5388\n",
      "Epoch 25/50\n",
      "238/238 [==============================] - 0s 1ms/step - loss: 7.8171\n",
      "Epoch 26/50\n",
      "238/238 [==============================] - 0s 1ms/step - loss: 7.1757\n",
      "Epoch 27/50\n",
      "238/238 [==============================] - 0s 1ms/step - loss: 6.6275\n",
      "Epoch 28/50\n",
      "238/238 [==============================] - 0s 1ms/step - loss: 6.1441\n",
      "Epoch 29/50\n",
      "238/238 [==============================] - 0s 1ms/step - loss: 5.7497\n",
      "Epoch 30/50\n",
      "238/238 [==============================] - 0s 1ms/step - loss: 5.4191\n",
      "Epoch 31/50\n",
      "238/238 [==============================] - 0s 1ms/step - loss: 5.1422\n",
      "Epoch 32/50\n",
      "238/238 [==============================] - 0s 1ms/step - loss: 4.9262\n",
      "Epoch 33/50\n",
      "238/238 [==============================] - 0s 1ms/step - loss: 4.7466\n",
      "Epoch 34/50\n",
      "238/238 [==============================] - 0s 1ms/step - loss: 4.6014\n",
      "Epoch 35/50\n",
      "238/238 [==============================] - 0s 1ms/step - loss: 4.4767\n",
      "Epoch 36/50\n",
      "238/238 [==============================] - 0s 1ms/step - loss: 4.3650\n",
      "Epoch 37/50\n",
      "238/238 [==============================] - 0s 1ms/step - loss: 4.2702\n",
      "Epoch 38/50\n",
      "238/238 [==============================] - 0s 1ms/step - loss: 4.1901\n",
      "Epoch 39/50\n",
      "238/238 [==============================] - 0s 1ms/step - loss: 4.1126\n",
      "Epoch 40/50\n",
      "238/238 [==============================] - 0s 1ms/step - loss: 4.0427\n",
      "Epoch 41/50\n",
      "238/238 [==============================] - 0s 1ms/step - loss: 3.9812\n",
      "Epoch 42/50\n",
      "238/238 [==============================] - 0s 1ms/step - loss: 3.9212\n",
      "Epoch 43/50\n",
      "238/238 [==============================] - 0s 1ms/step - loss: 3.8627\n",
      "Epoch 44/50\n",
      "238/238 [==============================] - 0s 1ms/step - loss: 3.8104\n",
      "Epoch 45/50\n",
      "238/238 [==============================] - 0s 1ms/step - loss: 3.7593\n",
      "Epoch 46/50\n",
      "238/238 [==============================] - 0s 1ms/step - loss: 3.7118\n",
      "Epoch 47/50\n",
      "238/238 [==============================] - 0s 2ms/step - loss: 3.6668\n",
      "Epoch 48/50\n",
      "238/238 [==============================] - 0s 1ms/step - loss: 3.6220\n",
      "Epoch 49/50\n",
      "238/238 [==============================] - 0s 2ms/step - loss: 3.5776\n",
      "Epoch 50/50\n",
      "238/238 [==============================] - 0s 2ms/step - loss: 3.5360\n"
     ]
    },
    {
     "data": {
      "text/plain": "<keras.src.callbacks.History at 0x170365b7a10>"
     },
     "execution_count": 15,
     "metadata": {},
     "output_type": "execute_result"
    }
   ],
   "source": [
    "# Fit the model to the training data, with 50 runs through the dataset\n",
    "model.fit(x=features.to_numpy(), y=target.to_numpy(), epochs=50, callbacks=[tensorboard_callback])"
   ],
   "metadata": {
    "collapsed": false,
    "ExecuteTime": {
     "end_time": "2023-10-08T22:09:27.816028500Z",
     "start_time": "2023-10-08T22:09:10.792525500Z"
    }
   },
   "id": "31ca35c735404c7c"
  },
  {
   "cell_type": "code",
   "execution_count": 16,
   "outputs": [
    {
     "name": "stdout",
     "output_type": "stream",
     "text": [
      "238/238 [==============================] - 0s 1ms/step - loss: 3.5137\n",
      "loss: 3.513746976852417\n"
     ]
    }
   ],
   "source": [
    "# Evaluate the model on training data\n",
    "loss = model.evaluate(features.to_numpy(), target.to_numpy())\n",
    "# Output the loss on the tested training data\n",
    "print('loss:', loss)"
   ],
   "metadata": {
    "collapsed": false,
    "ExecuteTime": {
     "end_time": "2023-10-08T22:09:30.117416900Z",
     "start_time": "2023-10-08T22:09:29.723916500Z"
    }
   },
   "id": "77100489e5408574"
  },
  {
   "cell_type": "code",
   "execution_count": null,
   "outputs": [],
   "source": [],
   "metadata": {
    "collapsed": false
   },
   "id": "a88ae099507679d1"
  }
 ],
 "metadata": {
  "kernelspec": {
   "display_name": "Python 3",
   "language": "python",
   "name": "python3"
  },
  "language_info": {
   "codemirror_mode": {
    "name": "ipython",
    "version": 2
   },
   "file_extension": ".py",
   "mimetype": "text/x-python",
   "name": "python",
   "nbconvert_exporter": "python",
   "pygments_lexer": "ipython2",
   "version": "2.7.6"
  }
 },
 "nbformat": 4,
 "nbformat_minor": 5
}
