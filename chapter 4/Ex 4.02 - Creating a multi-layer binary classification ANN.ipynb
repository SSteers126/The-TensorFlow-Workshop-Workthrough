{
 "cells": [
  {
   "cell_type": "code",
   "execution_count": 9,
   "id": "initial_id",
   "metadata": {
    "collapsed": true,
    "ExecuteTime": {
     "end_time": "2023-10-09T23:34:01.878964500Z",
     "start_time": "2023-10-09T23:34:01.862469700Z"
    }
   },
   "outputs": [
    {
     "data": {
      "text/plain": "'2.13.0'"
     },
     "execution_count": 9,
     "metadata": {},
     "output_type": "execute_result"
    }
   ],
   "source": [
    "import tensorflow as tf\n",
    "import pandas as pd\n",
    "tf.__version__"
   ]
  },
  {
   "cell_type": "code",
   "execution_count": 10,
   "outputs": [
    {
     "data": {
      "text/plain": "       number_of_elements  mean_atomic_mass  wtd_mean_atomic_mass  \\\n0                       4         88.944468             57.862692   \n1                       5         92.729214             58.518416   \n2                       4         88.944468             57.885242   \n3                       4         88.944468             57.873967   \n4                       4         88.944468             57.840143   \n...                   ...               ...                   ...   \n21258                   4        106.957877             53.095769   \n21259                   5         92.266740             49.021367   \n21260                   2         99.663190             95.609104   \n21261                   2         99.663190             97.095602   \n21262                   3         87.468333             86.858500   \n\n       gmean_atomic_mass  wtd_gmean_atomic_mass  entropy_atomic_mass  \\\n0              66.361592              36.116612             1.181795   \n1              73.132787              36.396602             1.449309   \n2              66.361592              36.122509             1.181795   \n3              66.361592              36.119560             1.181795   \n4              66.361592              36.110716             1.181795   \n...                  ...                    ...                  ...   \n21258          82.515384              43.135565             1.177145   \n21259          64.812662              32.867748             1.323287   \n21260          99.433882              95.464320             0.690847   \n21261          99.433882              96.901083             0.690847   \n21262          82.555758              80.458722             1.041270   \n\n       wtd_entropy_atomic_mass  range_atomic_mass  wtd_range_atomic_mass  \\\n0                     1.062396          122.90607              31.794921   \n1                     1.057755          122.90607              36.161939   \n2                     0.975980          122.90607              35.741099   \n3                     1.022291          122.90607              33.768010   \n4                     1.129224          122.90607              27.848743   \n...                        ...                ...                    ...   \n21258                 1.254119          146.88130              15.504479   \n21259                 1.571630          188.38390               7.353333   \n21260                 0.530198           13.51362              53.041104   \n21261                 0.640883           13.51362              31.115202   \n21262                 0.895229           71.75500              43.144000   \n\n       std_atomic_mass  ...  wtd_mean_Valence  gmean_Valence  \\\n0            51.968828  ...          2.257143       2.213364   \n1            47.094633  ...          2.257143       1.888175   \n2            51.968828  ...          2.271429       2.213364   \n3            51.968828  ...          2.264286       2.213364   \n4            51.968828  ...          2.242857       2.213364   \n...                ...  ...               ...            ...   \n21258        65.764081  ...          3.555556       3.223710   \n21259        69.232655  ...          2.047619       2.168944   \n21260         6.756810  ...          4.800000       4.472136   \n21261         6.756810  ...          4.690000       4.472136   \n21262        29.905282  ...          4.500000       4.762203   \n\n       wtd_gmean_Valence  entropy_Valence  wtd_entropy_Valence  range_Valence  \\\n0               2.219783         1.368922             1.066221              1   \n1               2.210679         1.557113             1.047221              2   \n2               2.232679         1.368922             1.029175              1   \n3               2.226222         1.368922             1.048834              1   \n4               2.206963         1.368922             1.096052              1   \n...                  ...              ...                  ...            ...   \n21258           3.519911         1.377820             0.913658              1   \n21259           2.038991         1.594167             1.337246              1   \n21260           4.781762         0.686962             0.450561              1   \n21261           4.665819         0.686962             0.577601              1   \n21262           4.242641         1.054920             0.970116              3   \n\n       wtd_range_Valence  std_Valence  wtd_std_Valence  critical_temp  \n0               1.085714     0.433013         0.437059          29.00  \n1               1.128571     0.632456         0.468606          26.00  \n2               1.114286     0.433013         0.444697          19.00  \n3               1.100000     0.433013         0.440952          22.00  \n4               1.057143     0.433013         0.428809          23.00  \n...                  ...          ...              ...            ...  \n21258           2.168889     0.433013         0.496904           2.44  \n21259           0.904762     0.400000         0.212959         122.10  \n21260           3.200000     0.500000         0.400000           1.98  \n21261           2.210000     0.500000         0.462493           1.84  \n21262           1.800000     1.414214         1.500000          12.80  \n\n[21263 rows x 82 columns]",
      "text/html": "<div>\n<style scoped>\n    .dataframe tbody tr th:only-of-type {\n        vertical-align: middle;\n    }\n\n    .dataframe tbody tr th {\n        vertical-align: top;\n    }\n\n    .dataframe thead th {\n        text-align: right;\n    }\n</style>\n<table border=\"1\" class=\"dataframe\">\n  <thead>\n    <tr style=\"text-align: right;\">\n      <th></th>\n      <th>number_of_elements</th>\n      <th>mean_atomic_mass</th>\n      <th>wtd_mean_atomic_mass</th>\n      <th>gmean_atomic_mass</th>\n      <th>wtd_gmean_atomic_mass</th>\n      <th>entropy_atomic_mass</th>\n      <th>wtd_entropy_atomic_mass</th>\n      <th>range_atomic_mass</th>\n      <th>wtd_range_atomic_mass</th>\n      <th>std_atomic_mass</th>\n      <th>...</th>\n      <th>wtd_mean_Valence</th>\n      <th>gmean_Valence</th>\n      <th>wtd_gmean_Valence</th>\n      <th>entropy_Valence</th>\n      <th>wtd_entropy_Valence</th>\n      <th>range_Valence</th>\n      <th>wtd_range_Valence</th>\n      <th>std_Valence</th>\n      <th>wtd_std_Valence</th>\n      <th>critical_temp</th>\n    </tr>\n  </thead>\n  <tbody>\n    <tr>\n      <th>0</th>\n      <td>4</td>\n      <td>88.944468</td>\n      <td>57.862692</td>\n      <td>66.361592</td>\n      <td>36.116612</td>\n      <td>1.181795</td>\n      <td>1.062396</td>\n      <td>122.90607</td>\n      <td>31.794921</td>\n      <td>51.968828</td>\n      <td>...</td>\n      <td>2.257143</td>\n      <td>2.213364</td>\n      <td>2.219783</td>\n      <td>1.368922</td>\n      <td>1.066221</td>\n      <td>1</td>\n      <td>1.085714</td>\n      <td>0.433013</td>\n      <td>0.437059</td>\n      <td>29.00</td>\n    </tr>\n    <tr>\n      <th>1</th>\n      <td>5</td>\n      <td>92.729214</td>\n      <td>58.518416</td>\n      <td>73.132787</td>\n      <td>36.396602</td>\n      <td>1.449309</td>\n      <td>1.057755</td>\n      <td>122.90607</td>\n      <td>36.161939</td>\n      <td>47.094633</td>\n      <td>...</td>\n      <td>2.257143</td>\n      <td>1.888175</td>\n      <td>2.210679</td>\n      <td>1.557113</td>\n      <td>1.047221</td>\n      <td>2</td>\n      <td>1.128571</td>\n      <td>0.632456</td>\n      <td>0.468606</td>\n      <td>26.00</td>\n    </tr>\n    <tr>\n      <th>2</th>\n      <td>4</td>\n      <td>88.944468</td>\n      <td>57.885242</td>\n      <td>66.361592</td>\n      <td>36.122509</td>\n      <td>1.181795</td>\n      <td>0.975980</td>\n      <td>122.90607</td>\n      <td>35.741099</td>\n      <td>51.968828</td>\n      <td>...</td>\n      <td>2.271429</td>\n      <td>2.213364</td>\n      <td>2.232679</td>\n      <td>1.368922</td>\n      <td>1.029175</td>\n      <td>1</td>\n      <td>1.114286</td>\n      <td>0.433013</td>\n      <td>0.444697</td>\n      <td>19.00</td>\n    </tr>\n    <tr>\n      <th>3</th>\n      <td>4</td>\n      <td>88.944468</td>\n      <td>57.873967</td>\n      <td>66.361592</td>\n      <td>36.119560</td>\n      <td>1.181795</td>\n      <td>1.022291</td>\n      <td>122.90607</td>\n      <td>33.768010</td>\n      <td>51.968828</td>\n      <td>...</td>\n      <td>2.264286</td>\n      <td>2.213364</td>\n      <td>2.226222</td>\n      <td>1.368922</td>\n      <td>1.048834</td>\n      <td>1</td>\n      <td>1.100000</td>\n      <td>0.433013</td>\n      <td>0.440952</td>\n      <td>22.00</td>\n    </tr>\n    <tr>\n      <th>4</th>\n      <td>4</td>\n      <td>88.944468</td>\n      <td>57.840143</td>\n      <td>66.361592</td>\n      <td>36.110716</td>\n      <td>1.181795</td>\n      <td>1.129224</td>\n      <td>122.90607</td>\n      <td>27.848743</td>\n      <td>51.968828</td>\n      <td>...</td>\n      <td>2.242857</td>\n      <td>2.213364</td>\n      <td>2.206963</td>\n      <td>1.368922</td>\n      <td>1.096052</td>\n      <td>1</td>\n      <td>1.057143</td>\n      <td>0.433013</td>\n      <td>0.428809</td>\n      <td>23.00</td>\n    </tr>\n    <tr>\n      <th>...</th>\n      <td>...</td>\n      <td>...</td>\n      <td>...</td>\n      <td>...</td>\n      <td>...</td>\n      <td>...</td>\n      <td>...</td>\n      <td>...</td>\n      <td>...</td>\n      <td>...</td>\n      <td>...</td>\n      <td>...</td>\n      <td>...</td>\n      <td>...</td>\n      <td>...</td>\n      <td>...</td>\n      <td>...</td>\n      <td>...</td>\n      <td>...</td>\n      <td>...</td>\n      <td>...</td>\n    </tr>\n    <tr>\n      <th>21258</th>\n      <td>4</td>\n      <td>106.957877</td>\n      <td>53.095769</td>\n      <td>82.515384</td>\n      <td>43.135565</td>\n      <td>1.177145</td>\n      <td>1.254119</td>\n      <td>146.88130</td>\n      <td>15.504479</td>\n      <td>65.764081</td>\n      <td>...</td>\n      <td>3.555556</td>\n      <td>3.223710</td>\n      <td>3.519911</td>\n      <td>1.377820</td>\n      <td>0.913658</td>\n      <td>1</td>\n      <td>2.168889</td>\n      <td>0.433013</td>\n      <td>0.496904</td>\n      <td>2.44</td>\n    </tr>\n    <tr>\n      <th>21259</th>\n      <td>5</td>\n      <td>92.266740</td>\n      <td>49.021367</td>\n      <td>64.812662</td>\n      <td>32.867748</td>\n      <td>1.323287</td>\n      <td>1.571630</td>\n      <td>188.38390</td>\n      <td>7.353333</td>\n      <td>69.232655</td>\n      <td>...</td>\n      <td>2.047619</td>\n      <td>2.168944</td>\n      <td>2.038991</td>\n      <td>1.594167</td>\n      <td>1.337246</td>\n      <td>1</td>\n      <td>0.904762</td>\n      <td>0.400000</td>\n      <td>0.212959</td>\n      <td>122.10</td>\n    </tr>\n    <tr>\n      <th>21260</th>\n      <td>2</td>\n      <td>99.663190</td>\n      <td>95.609104</td>\n      <td>99.433882</td>\n      <td>95.464320</td>\n      <td>0.690847</td>\n      <td>0.530198</td>\n      <td>13.51362</td>\n      <td>53.041104</td>\n      <td>6.756810</td>\n      <td>...</td>\n      <td>4.800000</td>\n      <td>4.472136</td>\n      <td>4.781762</td>\n      <td>0.686962</td>\n      <td>0.450561</td>\n      <td>1</td>\n      <td>3.200000</td>\n      <td>0.500000</td>\n      <td>0.400000</td>\n      <td>1.98</td>\n    </tr>\n    <tr>\n      <th>21261</th>\n      <td>2</td>\n      <td>99.663190</td>\n      <td>97.095602</td>\n      <td>99.433882</td>\n      <td>96.901083</td>\n      <td>0.690847</td>\n      <td>0.640883</td>\n      <td>13.51362</td>\n      <td>31.115202</td>\n      <td>6.756810</td>\n      <td>...</td>\n      <td>4.690000</td>\n      <td>4.472136</td>\n      <td>4.665819</td>\n      <td>0.686962</td>\n      <td>0.577601</td>\n      <td>1</td>\n      <td>2.210000</td>\n      <td>0.500000</td>\n      <td>0.462493</td>\n      <td>1.84</td>\n    </tr>\n    <tr>\n      <th>21262</th>\n      <td>3</td>\n      <td>87.468333</td>\n      <td>86.858500</td>\n      <td>82.555758</td>\n      <td>80.458722</td>\n      <td>1.041270</td>\n      <td>0.895229</td>\n      <td>71.75500</td>\n      <td>43.144000</td>\n      <td>29.905282</td>\n      <td>...</td>\n      <td>4.500000</td>\n      <td>4.762203</td>\n      <td>4.242641</td>\n      <td>1.054920</td>\n      <td>0.970116</td>\n      <td>3</td>\n      <td>1.800000</td>\n      <td>1.414214</td>\n      <td>1.500000</td>\n      <td>12.80</td>\n    </tr>\n  </tbody>\n</table>\n<p>21263 rows × 82 columns</p>\n</div>"
     },
     "execution_count": 10,
     "metadata": {},
     "output_type": "execute_result"
    }
   ],
   "source": [
    "# Input data\n",
    "df = pd.read_csv('../input_data/CSVs/superconductivity.csv')\n",
    "# Drop columns with null entries\n",
    "df.dropna(inplace=True)\n",
    "df"
   ],
   "metadata": {
    "collapsed": false,
    "ExecuteTime": {
     "end_time": "2023-10-09T23:34:02.228966100Z",
     "start_time": "2023-10-09T23:34:01.871468Z"
    }
   },
   "id": "d5aff1e12015977d"
  },
  {
   "cell_type": "code",
   "execution_count": 11,
   "outputs": [],
   "source": [
    "# Add a boolean to the entries based on if they are above or below 77.36 degrees critical temp - 2 categories to select from\n",
    "target = df['critical_temp'].apply(lambda x: 1 if x > 77.36 else 0)\n",
    "\n",
    "features = df.drop('critical_temp', axis=1)"
   ],
   "metadata": {
    "collapsed": false,
    "ExecuteTime": {
     "end_time": "2023-10-09T23:34:02.244966Z",
     "start_time": "2023-10-09T23:34:02.224967700Z"
    }
   },
   "id": "5015876a12d0041c"
  },
  {
   "cell_type": "code",
   "execution_count": 12,
   "outputs": [],
   "source": [
    "from sklearn.preprocessing import StandardScaler\n",
    "# Standard scaling around 0\n",
    "scaler = StandardScaler()\n",
    "feature_array = scaler.fit_transform(features)\n",
    "features = pd.DataFrame(feature_array, columns=features.columns)"
   ],
   "metadata": {
    "collapsed": false,
    "ExecuteTime": {
     "end_time": "2023-10-09T23:34:02.379464600Z",
     "start_time": "2023-10-09T23:34:02.246465Z"
    }
   },
   "id": "4986320806dcd1ae"
  },
  {
   "cell_type": "code",
   "execution_count": 13,
   "outputs": [],
   "source": [
    "model = tf.keras.Sequential()\n",
    "\n",
    "# Input layer matching feature set shape\n",
    "model.add(tf.keras.layers.InputLayer(input_shape=features.shape[1], name='Input_layer'))\n",
    "# Dense hidden layers for processing\n",
    "model.add(tf.keras.layers.Dense(32, name='Hidden_layer_1'))\n",
    "model.add(tf.keras.layers.Dense(16, name='Hidden_layer_2'))\n",
    "model.add(tf.keras.layers.Dense(8, name='Hidden_layer_3'))\n",
    "# Final output with sigmoid activation function\n",
    "model.add(tf.keras.layers.Dense(1, name='Output_layer', activation='sigmoid'))"
   ],
   "metadata": {
    "collapsed": false,
    "ExecuteTime": {
     "end_time": "2023-10-09T23:34:02.437465700Z",
     "start_time": "2023-10-09T23:34:02.316467500Z"
    }
   },
   "id": "706a8450c3571acf"
  },
  {
   "cell_type": "code",
   "execution_count": 14,
   "outputs": [],
   "source": [
    "# Use RMSprop optimiser and binary cross entropy loss function (as there are only 2 categories to choose from)\n",
    "model.compile(tf.optimizers.RMSprop(0.0001), loss='binary_crossentropy', metrics=['accuracy'])\n",
    "# Logging for tensorboard\n",
    "tensorboard_callback = tf.keras.callbacks.TensorBoard(log_dir=\"./logs\")"
   ],
   "metadata": {
    "collapsed": false,
    "ExecuteTime": {
     "end_time": "2023-10-09T23:34:02.437965200Z",
     "start_time": "2023-10-09T23:34:02.375465900Z"
    }
   },
   "id": "36f9abce8dee8ba0"
  },
  {
   "cell_type": "code",
   "execution_count": 15,
   "outputs": [
    {
     "name": "stdout",
     "output_type": "stream",
     "text": [
      "Epoch 1/50\n",
      "665/665 [==============================] - 2s 2ms/step - loss: 0.4895 - accuracy: 0.7508\n",
      "Epoch 2/50\n",
      "665/665 [==============================] - 1s 2ms/step - loss: 0.3045 - accuracy: 0.8491\n",
      "Epoch 3/50\n",
      "665/665 [==============================] - 1s 2ms/step - loss: 0.2680 - accuracy: 0.8569\n",
      "Epoch 4/50\n",
      "665/665 [==============================] - 1s 2ms/step - loss: 0.2568 - accuracy: 0.8622\n",
      "Epoch 5/50\n",
      "665/665 [==============================] - 1s 2ms/step - loss: 0.2509 - accuracy: 0.8642\n",
      "Epoch 6/50\n",
      "665/665 [==============================] - 1s 2ms/step - loss: 0.2465 - accuracy: 0.8680\n",
      "Epoch 7/50\n",
      "665/665 [==============================] - 1s 2ms/step - loss: 0.2437 - accuracy: 0.8693\n",
      "Epoch 8/50\n",
      "665/665 [==============================] - 1s 2ms/step - loss: 0.2412 - accuracy: 0.8714\n",
      "Epoch 9/50\n",
      "665/665 [==============================] - 1s 2ms/step - loss: 0.2391 - accuracy: 0.8704\n",
      "Epoch 10/50\n",
      "665/665 [==============================] - 1s 2ms/step - loss: 0.2379 - accuracy: 0.8742\n",
      "Epoch 11/50\n",
      "665/665 [==============================] - 1s 2ms/step - loss: 0.2360 - accuracy: 0.8762\n",
      "Epoch 12/50\n",
      "665/665 [==============================] - 1s 2ms/step - loss: 0.2345 - accuracy: 0.8771\n",
      "Epoch 13/50\n",
      "665/665 [==============================] - 1s 2ms/step - loss: 0.2339 - accuracy: 0.8763\n",
      "Epoch 14/50\n",
      "665/665 [==============================] - 1s 2ms/step - loss: 0.2330 - accuracy: 0.8765\n",
      "Epoch 15/50\n",
      "665/665 [==============================] - 1s 2ms/step - loss: 0.2320 - accuracy: 0.8766\n",
      "Epoch 16/50\n",
      "665/665 [==============================] - 1s 2ms/step - loss: 0.2310 - accuracy: 0.8771\n",
      "Epoch 17/50\n",
      "665/665 [==============================] - 1s 2ms/step - loss: 0.2303 - accuracy: 0.8790\n",
      "Epoch 18/50\n",
      "665/665 [==============================] - 1s 2ms/step - loss: 0.2294 - accuracy: 0.8799\n",
      "Epoch 19/50\n",
      "665/665 [==============================] - 1s 2ms/step - loss: 0.2289 - accuracy: 0.8802\n",
      "Epoch 20/50\n",
      "665/665 [==============================] - 1s 2ms/step - loss: 0.2286 - accuracy: 0.8806\n",
      "Epoch 21/50\n",
      "665/665 [==============================] - 1s 2ms/step - loss: 0.2275 - accuracy: 0.8809\n",
      "Epoch 22/50\n",
      "665/665 [==============================] - 1s 2ms/step - loss: 0.2274 - accuracy: 0.8816\n",
      "Epoch 23/50\n",
      "665/665 [==============================] - 1s 2ms/step - loss: 0.2266 - accuracy: 0.8820\n",
      "Epoch 24/50\n",
      "665/665 [==============================] - 1s 2ms/step - loss: 0.2262 - accuracy: 0.8828\n",
      "Epoch 25/50\n",
      "665/665 [==============================] - 1s 2ms/step - loss: 0.2256 - accuracy: 0.8834\n",
      "Epoch 26/50\n",
      "665/665 [==============================] - 1s 2ms/step - loss: 0.2253 - accuracy: 0.8833\n",
      "Epoch 27/50\n",
      "665/665 [==============================] - 1s 2ms/step - loss: 0.2252 - accuracy: 0.8832\n",
      "Epoch 28/50\n",
      "665/665 [==============================] - 1s 2ms/step - loss: 0.2244 - accuracy: 0.8828\n",
      "Epoch 29/50\n",
      "665/665 [==============================] - 1s 2ms/step - loss: 0.2240 - accuracy: 0.8830\n",
      "Epoch 30/50\n",
      "665/665 [==============================] - 1s 2ms/step - loss: 0.2236 - accuracy: 0.8850\n",
      "Epoch 31/50\n",
      "665/665 [==============================] - 1s 2ms/step - loss: 0.2228 - accuracy: 0.8866\n",
      "Epoch 32/50\n",
      "665/665 [==============================] - 1s 2ms/step - loss: 0.2231 - accuracy: 0.8860\n",
      "Epoch 33/50\n",
      "665/665 [==============================] - 1s 2ms/step - loss: 0.2227 - accuracy: 0.8864\n",
      "Epoch 34/50\n",
      "665/665 [==============================] - 1s 2ms/step - loss: 0.2223 - accuracy: 0.8852\n",
      "Epoch 35/50\n",
      "665/665 [==============================] - 1s 2ms/step - loss: 0.2223 - accuracy: 0.8854\n",
      "Epoch 36/50\n",
      "665/665 [==============================] - 1s 2ms/step - loss: 0.2222 - accuracy: 0.8863\n",
      "Epoch 37/50\n",
      "665/665 [==============================] - 1s 2ms/step - loss: 0.2219 - accuracy: 0.8860\n",
      "Epoch 38/50\n",
      "665/665 [==============================] - 1s 2ms/step - loss: 0.2217 - accuracy: 0.8861\n",
      "Epoch 39/50\n",
      "665/665 [==============================] - 1s 2ms/step - loss: 0.2213 - accuracy: 0.8862\n",
      "Epoch 40/50\n",
      "665/665 [==============================] - 1s 2ms/step - loss: 0.2214 - accuracy: 0.8856\n",
      "Epoch 41/50\n",
      "665/665 [==============================] - 1s 2ms/step - loss: 0.2207 - accuracy: 0.8873\n",
      "Epoch 42/50\n",
      "665/665 [==============================] - 1s 2ms/step - loss: 0.2213 - accuracy: 0.8866\n",
      "Epoch 43/50\n",
      "665/665 [==============================] - 1s 2ms/step - loss: 0.2210 - accuracy: 0.8875\n",
      "Epoch 44/50\n",
      "665/665 [==============================] - 1s 2ms/step - loss: 0.2206 - accuracy: 0.8884\n",
      "Epoch 45/50\n",
      "665/665 [==============================] - 1s 2ms/step - loss: 0.2205 - accuracy: 0.8877\n",
      "Epoch 46/50\n",
      "665/665 [==============================] - 1s 2ms/step - loss: 0.2208 - accuracy: 0.8869\n",
      "Epoch 47/50\n",
      "665/665 [==============================] - 1s 2ms/step - loss: 0.2199 - accuracy: 0.8886\n",
      "Epoch 48/50\n",
      "665/665 [==============================] - 1s 2ms/step - loss: 0.2202 - accuracy: 0.8883\n",
      "Epoch 49/50\n",
      "665/665 [==============================] - 1s 2ms/step - loss: 0.2198 - accuracy: 0.8878\n",
      "Epoch 50/50\n",
      "665/665 [==============================] - 1s 2ms/step - loss: 0.2198 - accuracy: 0.8879\n"
     ]
    },
    {
     "data": {
      "text/plain": "<keras.src.callbacks.History at 0x1fad27642d0>"
     },
     "execution_count": 15,
     "metadata": {},
     "output_type": "execute_result"
    }
   ],
   "source": [
    "# Train AI on 80% of the data over 50 epochs\n",
    "model.fit(x=features.to_numpy(), y=target.to_numpy(), epochs=50, callbacks=[tensorboard_callback], validation_split=0)"
   ],
   "metadata": {
    "collapsed": false,
    "ExecuteTime": {
     "end_time": "2023-10-09T23:35:03.522966400Z",
     "start_time": "2023-10-09T23:34:02.392465700Z"
    }
   },
   "id": "699063e3ded95005"
  },
  {
   "cell_type": "code",
   "execution_count": 16,
   "outputs": [
    {
     "name": "stdout",
     "output_type": "stream",
     "text": [
      "665/665 [==============================] - 1s 1ms/step - loss: 0.2217 - accuracy: 0.8928\n",
      "loss: 0.22171299159526825, accuracy: 0.8928185105323792\n"
     ]
    }
   ],
   "source": [
    "# Test on the remaining 20%\n",
    "loss, accuracy = model.evaluate(features.to_numpy(), target.to_numpy())\n",
    "\n",
    "print(f'loss: {loss}, accuracy: {accuracy}')"
   ],
   "metadata": {
    "collapsed": false,
    "ExecuteTime": {
     "end_time": "2023-10-09T23:35:04.536963700Z",
     "start_time": "2023-10-09T23:35:03.520466100Z"
    }
   },
   "id": "3445b55b6ecbc446"
  },
  {
   "cell_type": "code",
   "execution_count": 16,
   "outputs": [],
   "source": [],
   "metadata": {
    "collapsed": false,
    "ExecuteTime": {
     "end_time": "2023-10-09T23:35:04.544965100Z",
     "start_time": "2023-10-09T23:35:04.536175600Z"
    }
   },
   "id": "a60a0950cdf83ab9"
  }
 ],
 "metadata": {
  "kernelspec": {
   "display_name": "Python 3",
   "language": "python",
   "name": "python3"
  },
  "language_info": {
   "codemirror_mode": {
    "name": "ipython",
    "version": 2
   },
   "file_extension": ".py",
   "mimetype": "text/x-python",
   "name": "python",
   "nbconvert_exporter": "python",
   "pygments_lexer": "ipython2",
   "version": "2.7.6"
  }
 },
 "nbformat": 4,
 "nbformat_minor": 5
}
