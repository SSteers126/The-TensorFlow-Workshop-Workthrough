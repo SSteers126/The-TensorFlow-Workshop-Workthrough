{
 "cells": [
  {
   "cell_type": "code",
   "execution_count": 1,
   "id": "initial_id",
   "metadata": {
    "collapsed": true,
    "ExecuteTime": {
     "end_time": "2023-10-08T21:43:15.226731500Z",
     "start_time": "2023-10-08T21:43:05.139236400Z"
    }
   },
   "outputs": [
    {
     "data": {
      "text/plain": "'2.13.0'"
     },
     "execution_count": 1,
     "metadata": {},
     "output_type": "execute_result"
    }
   ],
   "source": [
    "import tensorflow as tf\n",
    "tf.__version__"
   ]
  },
  {
   "cell_type": "code",
   "execution_count": 2,
   "outputs": [
    {
     "data": {
      "text/plain": "[<tf.Variable 'First_hidden_layer/kernel:0' shape=(8, 4) dtype=float32, numpy=\n array([[-0.36910355, -0.69027686,  0.69722885,  0.24909377],\n        [ 0.27746195,  0.6696333 ,  0.11030674, -0.38193542],\n        [ 0.06975335, -0.6099119 , -0.6521555 , -0.05586499],\n        [ 0.07234609, -0.14146554, -0.29602596,  0.5215321 ],\n        [-0.1382314 ,  0.29100728, -0.34561375,  0.65997785],\n        [ 0.18725371, -0.12474352,  0.65251917, -0.29541922],\n        [-0.66865385, -0.57498384,  0.63650316, -0.2239761 ],\n        [-0.0538404 ,  0.2604503 ,  0.37435585, -0.0189575 ]],\n       dtype=float32)>,\n <tf.Variable 'First_hidden_layer/bias:0' shape=(4,) dtype=float32, numpy=array([0., 0., 0., 0.], dtype=float32)>,\n <tf.Variable 'Output_layer/kernel:0' shape=(4, 1) dtype=float32, numpy=\n array([[ 0.40661812],\n        [ 0.00745654],\n        [ 0.36078298],\n        [-0.99815035]], dtype=float32)>,\n <tf.Variable 'Output_layer/bias:0' shape=(1,) dtype=float32, numpy=array([0.], dtype=float32)>]"
     },
     "execution_count": 2,
     "metadata": {},
     "output_type": "execute_result"
    }
   ],
   "source": [
    "# Initialise a new model to work with\n",
    "model = tf.keras.Sequential()\n",
    "\n",
    "# Add an input layer for 8 features to give to the network\n",
    "model.add(tf.keras.layers.InputLayer(input_shape=(8,), name='Input_layer'))\n",
    "\n",
    "# Add 2 dense layers to process the inputs, with one being hidden and the other giving the final output\n",
    "model.add(tf.keras.layers.Dense(4, activation='relu', name='First_hidden_layer'))\n",
    "model.add(tf.keras.layers.Dense(1, name='Output_layer'))\n",
    "\n",
    "# View the weights of the model\n",
    "model.variables"
   ],
   "metadata": {
    "collapsed": false,
    "ExecuteTime": {
     "end_time": "2023-10-08T21:45:15.223568200Z",
     "start_time": "2023-10-08T21:45:14.784567700Z"
    }
   },
   "id": "a1505456e977cc0"
  },
  {
   "cell_type": "code",
   "execution_count": 3,
   "outputs": [
    {
     "name": "stdout",
     "output_type": "stream",
     "text": [
      "1/1 [==============================] - 0s 398ms/step\n"
     ]
    },
    {
     "data": {
      "text/plain": "array([[-1.1032779e+00],\n       [ 4.2162031e-01],\n       [-4.3523139e-01],\n       [ 7.3375389e-02],\n       [-1.5254205e+00],\n       [-1.1167034e+00],\n       [ 3.5439479e-01],\n       [-1.7889062e-01],\n       [ 5.7503492e-01],\n       [ 4.5472589e-01],\n       [-1.6081361e+00],\n       [-3.9884302e-01],\n       [ 3.5069779e-02],\n       [-5.1726043e-01],\n       [ 1.1570751e-01],\n       [-1.0408831e+00],\n       [-5.0551397e-01],\n       [ 1.5697797e-03],\n       [-1.9506951e-01],\n       [ 5.2839473e-02],\n       [ 4.5387247e-01],\n       [ 5.4315728e-01],\n       [ 3.0088943e-01],\n       [-8.5930234e-01],\n       [-2.3662512e+00],\n       [-1.8470711e-01],\n       [-1.3887535e+00],\n       [ 6.6189015e-01],\n       [-7.6399708e-01],\n       [ 9.4987947e-01],\n       [ 5.4650211e-01],\n       [-2.7191120e-01]], dtype=float32)"
     },
     "execution_count": 3,
     "metadata": {},
     "output_type": "execute_result"
    }
   ],
   "source": [
    "# Generate 32 sets of randomised data to feed to the network\n",
    "data = tf.random.normal((32,8))\n",
    "# Feed the features to the network to see its output based on the initial values given on creation\n",
    "prediction = model.predict(data)\n",
    "prediction"
   ],
   "metadata": {
    "collapsed": false,
    "ExecuteTime": {
     "end_time": "2023-10-08T21:46:18.977416200Z",
     "start_time": "2023-10-08T21:46:18.442918300Z"
    }
   },
   "id": "98a07da6f50e805a"
  }
 ],
 "metadata": {
  "kernelspec": {
   "display_name": "Python 3",
   "language": "python",
   "name": "python3"
  },
  "language_info": {
   "codemirror_mode": {
    "name": "ipython",
    "version": 2
   },
   "file_extension": ".py",
   "mimetype": "text/x-python",
   "name": "python",
   "nbconvert_exporter": "python",
   "pygments_lexer": "ipython2",
   "version": "2.7.6"
  }
 },
 "nbformat": 4,
 "nbformat_minor": 5
}
