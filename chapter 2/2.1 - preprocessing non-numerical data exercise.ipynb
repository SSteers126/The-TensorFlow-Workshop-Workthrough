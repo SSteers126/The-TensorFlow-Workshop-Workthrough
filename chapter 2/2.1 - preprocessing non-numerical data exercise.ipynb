{
 "cells": [
  {
   "cell_type": "code",
   "execution_count": 1,
   "id": "initial_id",
   "metadata": {
    "collapsed": true,
    "ExecuteTime": {
     "end_time": "2023-09-29T17:52:12.529837800Z",
     "start_time": "2023-09-29T17:52:11.769837Z"
    }
   },
   "outputs": [
    {
     "data": {
      "text/plain": "      station        Date  Present_Tmax  Present_Tmin  LDAPS_RHmin  \\\n0         1.0  2013-06-30          28.7          21.4    58.255688   \n1         2.0  2013-06-30          31.9          21.6    52.263397   \n2         3.0  2013-06-30          31.6          23.3    48.690479   \n3         4.0  2013-06-30          32.0          23.4    58.239788   \n4         5.0  2013-06-30          31.4          21.9    56.174095   \n...       ...         ...           ...           ...          ...   \n7747     23.0  2017-08-30          23.3          17.1    26.741310   \n7748     24.0  2017-08-30          23.3          17.7    24.040634   \n7749     25.0  2017-08-30          23.2          17.4    22.933014   \n7750      NaN         NaN          20.0          11.3    19.794666   \n7751      NaN         NaN          37.6          29.9    98.524734   \n\n      LDAPS_RHmax  LDAPS_Tmax_lapse  LDAPS_Tmin_lapse   LDAPS_WS    LDAPS_LH  \\\n0       91.116364         28.074101         23.006936   6.818887   69.451805   \n1       90.604721         29.850689         24.035009   5.691890   51.937448   \n2       83.973587         30.091292         24.565633   6.138224   20.573050   \n3       96.483688         29.704629         23.326177   5.650050   65.727144   \n4       90.155128         29.113934         23.486480   5.735004  107.965535   \n...           ...               ...               ...        ...         ...   \n7747    78.869858         26.352081         18.775678   6.148918   72.058294   \n7748    77.294975         27.010193         18.733519   6.542819   47.241457   \n7749    77.243744         27.939516         18.522965   7.289264    9.090034   \n7750    58.936283         17.624954         14.272646   2.882580  -13.603212   \n7751   100.000153         38.542255         29.619342  21.857621  213.414006   \n\n      ...  LDAPS_PPT2  LDAPS_PPT3  LDAPS_PPT4      lat      lon       DEM  \\\n0     ...    0.000000    0.000000    0.000000  37.6046  126.991  212.3350   \n1     ...    0.000000    0.000000    0.000000  37.6046  127.032   44.7624   \n2     ...    0.000000    0.000000    0.000000  37.5776  127.058   33.3068   \n3     ...    0.000000    0.000000    0.000000  37.6450  127.022   45.7160   \n4     ...    0.000000    0.000000    0.000000  37.5507  127.135   35.0380   \n...   ...         ...         ...         ...      ...      ...       ...   \n7747  ...    0.000000    0.000000    0.000000  37.5372  126.891   15.5876   \n7748  ...    0.000000    0.000000    0.000000  37.5237  126.909   17.2956   \n7749  ...    0.000000    0.000000    0.000000  37.5237  126.970   19.5844   \n7750  ...    0.000000    0.000000    0.000000  37.4562  126.826   12.3700   \n7751  ...   21.621661   15.841235   16.655469  37.6450  127.135  212.3350   \n\n         Slope  Solar radiation  Next_Tmax  Next_Tmin  \n0     2.785000      5992.895996       29.1       21.2  \n1     0.514100      5869.312500       30.5       22.5  \n2     0.266100      5863.555664       31.1       23.9  \n3     2.534800      5856.964844       31.7       24.3  \n4     0.505500      5859.552246       31.2       22.5  \n...        ...              ...        ...        ...  \n7747  0.155400      4443.313965       28.3       18.1  \n7748  0.222300      4438.373535       28.6       18.8  \n7749  0.271300      4451.345215       27.8       17.4  \n7750  0.098475      4329.520508       17.4       11.3  \n7751  5.178230      5992.895996       38.9       29.8  \n\n[7752 rows x 25 columns]",
      "text/html": "<div>\n<style scoped>\n    .dataframe tbody tr th:only-of-type {\n        vertical-align: middle;\n    }\n\n    .dataframe tbody tr th {\n        vertical-align: top;\n    }\n\n    .dataframe thead th {\n        text-align: right;\n    }\n</style>\n<table border=\"1\" class=\"dataframe\">\n  <thead>\n    <tr style=\"text-align: right;\">\n      <th></th>\n      <th>station</th>\n      <th>Date</th>\n      <th>Present_Tmax</th>\n      <th>Present_Tmin</th>\n      <th>LDAPS_RHmin</th>\n      <th>LDAPS_RHmax</th>\n      <th>LDAPS_Tmax_lapse</th>\n      <th>LDAPS_Tmin_lapse</th>\n      <th>LDAPS_WS</th>\n      <th>LDAPS_LH</th>\n      <th>...</th>\n      <th>LDAPS_PPT2</th>\n      <th>LDAPS_PPT3</th>\n      <th>LDAPS_PPT4</th>\n      <th>lat</th>\n      <th>lon</th>\n      <th>DEM</th>\n      <th>Slope</th>\n      <th>Solar radiation</th>\n      <th>Next_Tmax</th>\n      <th>Next_Tmin</th>\n    </tr>\n  </thead>\n  <tbody>\n    <tr>\n      <th>0</th>\n      <td>1.0</td>\n      <td>2013-06-30</td>\n      <td>28.7</td>\n      <td>21.4</td>\n      <td>58.255688</td>\n      <td>91.116364</td>\n      <td>28.074101</td>\n      <td>23.006936</td>\n      <td>6.818887</td>\n      <td>69.451805</td>\n      <td>...</td>\n      <td>0.000000</td>\n      <td>0.000000</td>\n      <td>0.000000</td>\n      <td>37.6046</td>\n      <td>126.991</td>\n      <td>212.3350</td>\n      <td>2.785000</td>\n      <td>5992.895996</td>\n      <td>29.1</td>\n      <td>21.2</td>\n    </tr>\n    <tr>\n      <th>1</th>\n      <td>2.0</td>\n      <td>2013-06-30</td>\n      <td>31.9</td>\n      <td>21.6</td>\n      <td>52.263397</td>\n      <td>90.604721</td>\n      <td>29.850689</td>\n      <td>24.035009</td>\n      <td>5.691890</td>\n      <td>51.937448</td>\n      <td>...</td>\n      <td>0.000000</td>\n      <td>0.000000</td>\n      <td>0.000000</td>\n      <td>37.6046</td>\n      <td>127.032</td>\n      <td>44.7624</td>\n      <td>0.514100</td>\n      <td>5869.312500</td>\n      <td>30.5</td>\n      <td>22.5</td>\n    </tr>\n    <tr>\n      <th>2</th>\n      <td>3.0</td>\n      <td>2013-06-30</td>\n      <td>31.6</td>\n      <td>23.3</td>\n      <td>48.690479</td>\n      <td>83.973587</td>\n      <td>30.091292</td>\n      <td>24.565633</td>\n      <td>6.138224</td>\n      <td>20.573050</td>\n      <td>...</td>\n      <td>0.000000</td>\n      <td>0.000000</td>\n      <td>0.000000</td>\n      <td>37.5776</td>\n      <td>127.058</td>\n      <td>33.3068</td>\n      <td>0.266100</td>\n      <td>5863.555664</td>\n      <td>31.1</td>\n      <td>23.9</td>\n    </tr>\n    <tr>\n      <th>3</th>\n      <td>4.0</td>\n      <td>2013-06-30</td>\n      <td>32.0</td>\n      <td>23.4</td>\n      <td>58.239788</td>\n      <td>96.483688</td>\n      <td>29.704629</td>\n      <td>23.326177</td>\n      <td>5.650050</td>\n      <td>65.727144</td>\n      <td>...</td>\n      <td>0.000000</td>\n      <td>0.000000</td>\n      <td>0.000000</td>\n      <td>37.6450</td>\n      <td>127.022</td>\n      <td>45.7160</td>\n      <td>2.534800</td>\n      <td>5856.964844</td>\n      <td>31.7</td>\n      <td>24.3</td>\n    </tr>\n    <tr>\n      <th>4</th>\n      <td>5.0</td>\n      <td>2013-06-30</td>\n      <td>31.4</td>\n      <td>21.9</td>\n      <td>56.174095</td>\n      <td>90.155128</td>\n      <td>29.113934</td>\n      <td>23.486480</td>\n      <td>5.735004</td>\n      <td>107.965535</td>\n      <td>...</td>\n      <td>0.000000</td>\n      <td>0.000000</td>\n      <td>0.000000</td>\n      <td>37.5507</td>\n      <td>127.135</td>\n      <td>35.0380</td>\n      <td>0.505500</td>\n      <td>5859.552246</td>\n      <td>31.2</td>\n      <td>22.5</td>\n    </tr>\n    <tr>\n      <th>...</th>\n      <td>...</td>\n      <td>...</td>\n      <td>...</td>\n      <td>...</td>\n      <td>...</td>\n      <td>...</td>\n      <td>...</td>\n      <td>...</td>\n      <td>...</td>\n      <td>...</td>\n      <td>...</td>\n      <td>...</td>\n      <td>...</td>\n      <td>...</td>\n      <td>...</td>\n      <td>...</td>\n      <td>...</td>\n      <td>...</td>\n      <td>...</td>\n      <td>...</td>\n      <td>...</td>\n    </tr>\n    <tr>\n      <th>7747</th>\n      <td>23.0</td>\n      <td>2017-08-30</td>\n      <td>23.3</td>\n      <td>17.1</td>\n      <td>26.741310</td>\n      <td>78.869858</td>\n      <td>26.352081</td>\n      <td>18.775678</td>\n      <td>6.148918</td>\n      <td>72.058294</td>\n      <td>...</td>\n      <td>0.000000</td>\n      <td>0.000000</td>\n      <td>0.000000</td>\n      <td>37.5372</td>\n      <td>126.891</td>\n      <td>15.5876</td>\n      <td>0.155400</td>\n      <td>4443.313965</td>\n      <td>28.3</td>\n      <td>18.1</td>\n    </tr>\n    <tr>\n      <th>7748</th>\n      <td>24.0</td>\n      <td>2017-08-30</td>\n      <td>23.3</td>\n      <td>17.7</td>\n      <td>24.040634</td>\n      <td>77.294975</td>\n      <td>27.010193</td>\n      <td>18.733519</td>\n      <td>6.542819</td>\n      <td>47.241457</td>\n      <td>...</td>\n      <td>0.000000</td>\n      <td>0.000000</td>\n      <td>0.000000</td>\n      <td>37.5237</td>\n      <td>126.909</td>\n      <td>17.2956</td>\n      <td>0.222300</td>\n      <td>4438.373535</td>\n      <td>28.6</td>\n      <td>18.8</td>\n    </tr>\n    <tr>\n      <th>7749</th>\n      <td>25.0</td>\n      <td>2017-08-30</td>\n      <td>23.2</td>\n      <td>17.4</td>\n      <td>22.933014</td>\n      <td>77.243744</td>\n      <td>27.939516</td>\n      <td>18.522965</td>\n      <td>7.289264</td>\n      <td>9.090034</td>\n      <td>...</td>\n      <td>0.000000</td>\n      <td>0.000000</td>\n      <td>0.000000</td>\n      <td>37.5237</td>\n      <td>126.970</td>\n      <td>19.5844</td>\n      <td>0.271300</td>\n      <td>4451.345215</td>\n      <td>27.8</td>\n      <td>17.4</td>\n    </tr>\n    <tr>\n      <th>7750</th>\n      <td>NaN</td>\n      <td>NaN</td>\n      <td>20.0</td>\n      <td>11.3</td>\n      <td>19.794666</td>\n      <td>58.936283</td>\n      <td>17.624954</td>\n      <td>14.272646</td>\n      <td>2.882580</td>\n      <td>-13.603212</td>\n      <td>...</td>\n      <td>0.000000</td>\n      <td>0.000000</td>\n      <td>0.000000</td>\n      <td>37.4562</td>\n      <td>126.826</td>\n      <td>12.3700</td>\n      <td>0.098475</td>\n      <td>4329.520508</td>\n      <td>17.4</td>\n      <td>11.3</td>\n    </tr>\n    <tr>\n      <th>7751</th>\n      <td>NaN</td>\n      <td>NaN</td>\n      <td>37.6</td>\n      <td>29.9</td>\n      <td>98.524734</td>\n      <td>100.000153</td>\n      <td>38.542255</td>\n      <td>29.619342</td>\n      <td>21.857621</td>\n      <td>213.414006</td>\n      <td>...</td>\n      <td>21.621661</td>\n      <td>15.841235</td>\n      <td>16.655469</td>\n      <td>37.6450</td>\n      <td>127.135</td>\n      <td>212.3350</td>\n      <td>5.178230</td>\n      <td>5992.895996</td>\n      <td>38.9</td>\n      <td>29.8</td>\n    </tr>\n  </tbody>\n</table>\n<p>7752 rows × 25 columns</p>\n</div>"
     },
     "execution_count": 1,
     "metadata": {},
     "output_type": "execute_result"
    }
   ],
   "source": [
    "import pandas as pd\n",
    "df = pd.read_csv(\"Bias_correction_ucl.csv\")\n",
    "df"
   ]
  },
  {
   "cell_type": "code",
   "execution_count": 3,
   "outputs": [
    {
     "data": {
      "text/plain": "      year_2013.0  year_2014.0  year_2015.0  year_2016.0  year_2017.0\n0            True        False        False        False        False\n1            True        False        False        False        False\n2            True        False        False        False        False\n3            True        False        False        False        False\n4            True        False        False        False        False\n...           ...          ...          ...          ...          ...\n7747        False        False        False        False         True\n7748        False        False        False        False         True\n7749        False        False        False        False         True\n7750        False        False        False        False        False\n7751        False        False        False        False        False\n\n[7752 rows x 5 columns]",
      "text/html": "<div>\n<style scoped>\n    .dataframe tbody tr th:only-of-type {\n        vertical-align: middle;\n    }\n\n    .dataframe tbody tr th {\n        vertical-align: top;\n    }\n\n    .dataframe thead th {\n        text-align: right;\n    }\n</style>\n<table border=\"1\" class=\"dataframe\">\n  <thead>\n    <tr style=\"text-align: right;\">\n      <th></th>\n      <th>year_2013.0</th>\n      <th>year_2014.0</th>\n      <th>year_2015.0</th>\n      <th>year_2016.0</th>\n      <th>year_2017.0</th>\n    </tr>\n  </thead>\n  <tbody>\n    <tr>\n      <th>0</th>\n      <td>True</td>\n      <td>False</td>\n      <td>False</td>\n      <td>False</td>\n      <td>False</td>\n    </tr>\n    <tr>\n      <th>1</th>\n      <td>True</td>\n      <td>False</td>\n      <td>False</td>\n      <td>False</td>\n      <td>False</td>\n    </tr>\n    <tr>\n      <th>2</th>\n      <td>True</td>\n      <td>False</td>\n      <td>False</td>\n      <td>False</td>\n      <td>False</td>\n    </tr>\n    <tr>\n      <th>3</th>\n      <td>True</td>\n      <td>False</td>\n      <td>False</td>\n      <td>False</td>\n      <td>False</td>\n    </tr>\n    <tr>\n      <th>4</th>\n      <td>True</td>\n      <td>False</td>\n      <td>False</td>\n      <td>False</td>\n      <td>False</td>\n    </tr>\n    <tr>\n      <th>...</th>\n      <td>...</td>\n      <td>...</td>\n      <td>...</td>\n      <td>...</td>\n      <td>...</td>\n    </tr>\n    <tr>\n      <th>7747</th>\n      <td>False</td>\n      <td>False</td>\n      <td>False</td>\n      <td>False</td>\n      <td>True</td>\n    </tr>\n    <tr>\n      <th>7748</th>\n      <td>False</td>\n      <td>False</td>\n      <td>False</td>\n      <td>False</td>\n      <td>True</td>\n    </tr>\n    <tr>\n      <th>7749</th>\n      <td>False</td>\n      <td>False</td>\n      <td>False</td>\n      <td>False</td>\n      <td>True</td>\n    </tr>\n    <tr>\n      <th>7750</th>\n      <td>False</td>\n      <td>False</td>\n      <td>False</td>\n      <td>False</td>\n      <td>False</td>\n    </tr>\n    <tr>\n      <th>7751</th>\n      <td>False</td>\n      <td>False</td>\n      <td>False</td>\n      <td>False</td>\n      <td>False</td>\n    </tr>\n  </tbody>\n</table>\n<p>7752 rows × 5 columns</p>\n</div>"
     },
     "execution_count": 3,
     "metadata": {},
     "output_type": "execute_result"
    }
   ],
   "source": [
    "# Convert date strings to datetime objects\n",
    "df['Date'] = pd.to_datetime(df['Date'])\n",
    "# Make a set of columns to one-hot encode the year, with each one having the column name as `year_XXXX`\n",
    "year_dummies = pd.get_dummies(df['Date'].dt.year, prefix='year')\n",
    "year_dummies"
   ],
   "metadata": {
    "collapsed": false,
    "ExecuteTime": {
     "end_time": "2023-09-29T17:57:29.464965500Z",
     "start_time": "2023-09-29T17:57:29.418966900Z"
    }
   },
   "id": "122e28cf430c2245"
  },
  {
   "cell_type": "code",
   "execution_count": 4,
   "outputs": [
    {
     "data": {
      "text/plain": "      month_6.0  month_7.0  month_8.0\n0          True      False      False\n1          True      False      False\n2          True      False      False\n3          True      False      False\n4          True      False      False\n...         ...        ...        ...\n7747      False      False       True\n7748      False      False       True\n7749      False      False       True\n7750      False      False      False\n7751      False      False      False\n\n[7752 rows x 3 columns]",
      "text/html": "<div>\n<style scoped>\n    .dataframe tbody tr th:only-of-type {\n        vertical-align: middle;\n    }\n\n    .dataframe tbody tr th {\n        vertical-align: top;\n    }\n\n    .dataframe thead th {\n        text-align: right;\n    }\n</style>\n<table border=\"1\" class=\"dataframe\">\n  <thead>\n    <tr style=\"text-align: right;\">\n      <th></th>\n      <th>month_6.0</th>\n      <th>month_7.0</th>\n      <th>month_8.0</th>\n    </tr>\n  </thead>\n  <tbody>\n    <tr>\n      <th>0</th>\n      <td>True</td>\n      <td>False</td>\n      <td>False</td>\n    </tr>\n    <tr>\n      <th>1</th>\n      <td>True</td>\n      <td>False</td>\n      <td>False</td>\n    </tr>\n    <tr>\n      <th>2</th>\n      <td>True</td>\n      <td>False</td>\n      <td>False</td>\n    </tr>\n    <tr>\n      <th>3</th>\n      <td>True</td>\n      <td>False</td>\n      <td>False</td>\n    </tr>\n    <tr>\n      <th>4</th>\n      <td>True</td>\n      <td>False</td>\n      <td>False</td>\n    </tr>\n    <tr>\n      <th>...</th>\n      <td>...</td>\n      <td>...</td>\n      <td>...</td>\n    </tr>\n    <tr>\n      <th>7747</th>\n      <td>False</td>\n      <td>False</td>\n      <td>True</td>\n    </tr>\n    <tr>\n      <th>7748</th>\n      <td>False</td>\n      <td>False</td>\n      <td>True</td>\n    </tr>\n    <tr>\n      <th>7749</th>\n      <td>False</td>\n      <td>False</td>\n      <td>True</td>\n    </tr>\n    <tr>\n      <th>7750</th>\n      <td>False</td>\n      <td>False</td>\n      <td>False</td>\n    </tr>\n    <tr>\n      <th>7751</th>\n      <td>False</td>\n      <td>False</td>\n      <td>False</td>\n    </tr>\n  </tbody>\n</table>\n<p>7752 rows × 3 columns</p>\n</div>"
     },
     "execution_count": 4,
     "metadata": {},
     "output_type": "execute_result"
    }
   ],
   "source": [
    "# One hot encode months\n",
    "month_dummies = pd.get_dummies(df['Date'].dt.month, prefix='month')\n",
    "month_dummies"
   ],
   "metadata": {
    "collapsed": false,
    "ExecuteTime": {
     "end_time": "2023-09-29T17:58:08.894407700Z",
     "start_time": "2023-09-29T17:58:08.847905800Z"
    }
   },
   "id": "328b67a821674b2a"
  },
  {
   "cell_type": "code",
   "execution_count": 5,
   "outputs": [
    {
     "data": {
      "text/plain": "station             float64\nPresent_Tmax        float64\nPresent_Tmin        float64\nLDAPS_RHmin         float64\nLDAPS_RHmax         float64\nLDAPS_Tmax_lapse    float64\nLDAPS_Tmin_lapse    float64\nLDAPS_WS            float64\nLDAPS_LH            float64\nLDAPS_CC1           float64\nLDAPS_CC2           float64\nLDAPS_CC3           float64\nLDAPS_CC4           float64\nLDAPS_PPT1          float64\nLDAPS_PPT2          float64\nLDAPS_PPT3          float64\nLDAPS_PPT4          float64\nlat                 float64\nlon                 float64\nDEM                 float64\nSlope               float64\nSolar radiation     float64\nNext_Tmax           float64\nNext_Tmin           float64\nmonth_6.0              bool\nmonth_7.0              bool\nmonth_8.0              bool\nyear_2013.0            bool\nyear_2014.0            bool\nyear_2015.0            bool\nyear_2016.0            bool\nyear_2017.0            bool\ndtype: object"
     },
     "execution_count": 5,
     "metadata": {},
     "output_type": "execute_result"
    }
   ],
   "source": [
    "# Concatenate the one hot encoded years and months onto the original dataframe\n",
    "df = pd.concat([df, month_dummies, year_dummies], axis=1)\n",
    "\n",
    "# Drop the string-based date column\n",
    "df.drop('Date', axis=1, inplace=True)\n",
    "\n",
    "# The new one-hot encoded date columns are numerical (or more specifically boolean), and more suitable for a neural network\n",
    "df.dtypes"
   ],
   "metadata": {
    "collapsed": false,
    "ExecuteTime": {
     "end_time": "2023-09-29T17:59:42.989092Z",
     "start_time": "2023-09-29T17:59:42.940594200Z"
    }
   },
   "id": "309ff1d4e1f47ac"
  },
  {
   "cell_type": "code",
   "execution_count": 6,
   "outputs": [
    {
     "data": {
      "text/plain": "      station  Present_Tmax  Present_Tmin  LDAPS_RHmin  LDAPS_RHmax  \\\n0         1.0          28.7          21.4    58.255688    91.116364   \n1         2.0          31.9          21.6    52.263397    90.604721   \n2         3.0          31.6          23.3    48.690479    83.973587   \n3         4.0          32.0          23.4    58.239788    96.483688   \n4         5.0          31.4          21.9    56.174095    90.155128   \n...       ...           ...           ...          ...          ...   \n7747     23.0          23.3          17.1    26.741310    78.869858   \n7748     24.0          23.3          17.7    24.040634    77.294975   \n7749     25.0          23.2          17.4    22.933014    77.243744   \n7750      NaN          20.0          11.3    19.794666    58.936283   \n7751      NaN          37.6          29.9    98.524734   100.000153   \n\n      LDAPS_Tmax_lapse  LDAPS_Tmin_lapse   LDAPS_WS    LDAPS_LH  LDAPS_CC1  \\\n0            28.074101         23.006936   6.818887   69.451805   0.233947   \n1            29.850689         24.035009   5.691890   51.937448   0.225508   \n2            30.091292         24.565633   6.138224   20.573050   0.209344   \n3            29.704629         23.326177   5.650050   65.727144   0.216372   \n4            29.113934         23.486480   5.735004  107.965535   0.151407   \n...                ...               ...        ...         ...        ...   \n7747         26.352081         18.775678   6.148918   72.058294   0.030034   \n7748         27.010193         18.733519   6.542819   47.241457   0.035874   \n7749         27.939516         18.522965   7.289264    9.090034   0.048954   \n7750         17.624954         14.272646   2.882580  -13.603212   0.000000   \n7751         38.542255         29.619342  21.857621  213.414006   0.967277   \n\n      ...  Next_Tmax  Next_Tmin  month_6.0  month_7.0  month_8.0  year_2013.0  \\\n0     ...       29.1       21.2       True      False      False         True   \n1     ...       30.5       22.5       True      False      False         True   \n2     ...       31.1       23.9       True      False      False         True   \n3     ...       31.7       24.3       True      False      False         True   \n4     ...       31.2       22.5       True      False      False         True   \n...   ...        ...        ...        ...        ...        ...          ...   \n7747  ...       28.3       18.1      False      False       True        False   \n7748  ...       28.6       18.8      False      False       True        False   \n7749  ...       27.8       17.4      False      False       True        False   \n7750  ...       17.4       11.3      False      False      False        False   \n7751  ...       38.9       29.8      False      False      False        False   \n\n      year_2014.0  year_2015.0  year_2016.0  year_2017.0  \n0           False        False        False        False  \n1           False        False        False        False  \n2           False        False        False        False  \n3           False        False        False        False  \n4           False        False        False        False  \n...           ...          ...          ...          ...  \n7747        False        False        False         True  \n7748        False        False        False         True  \n7749        False        False        False         True  \n7750        False        False        False        False  \n7751        False        False        False        False  \n\n[7752 rows x 32 columns]",
      "text/html": "<div>\n<style scoped>\n    .dataframe tbody tr th:only-of-type {\n        vertical-align: middle;\n    }\n\n    .dataframe tbody tr th {\n        vertical-align: top;\n    }\n\n    .dataframe thead th {\n        text-align: right;\n    }\n</style>\n<table border=\"1\" class=\"dataframe\">\n  <thead>\n    <tr style=\"text-align: right;\">\n      <th></th>\n      <th>station</th>\n      <th>Present_Tmax</th>\n      <th>Present_Tmin</th>\n      <th>LDAPS_RHmin</th>\n      <th>LDAPS_RHmax</th>\n      <th>LDAPS_Tmax_lapse</th>\n      <th>LDAPS_Tmin_lapse</th>\n      <th>LDAPS_WS</th>\n      <th>LDAPS_LH</th>\n      <th>LDAPS_CC1</th>\n      <th>...</th>\n      <th>Next_Tmax</th>\n      <th>Next_Tmin</th>\n      <th>month_6.0</th>\n      <th>month_7.0</th>\n      <th>month_8.0</th>\n      <th>year_2013.0</th>\n      <th>year_2014.0</th>\n      <th>year_2015.0</th>\n      <th>year_2016.0</th>\n      <th>year_2017.0</th>\n    </tr>\n  </thead>\n  <tbody>\n    <tr>\n      <th>0</th>\n      <td>1.0</td>\n      <td>28.7</td>\n      <td>21.4</td>\n      <td>58.255688</td>\n      <td>91.116364</td>\n      <td>28.074101</td>\n      <td>23.006936</td>\n      <td>6.818887</td>\n      <td>69.451805</td>\n      <td>0.233947</td>\n      <td>...</td>\n      <td>29.1</td>\n      <td>21.2</td>\n      <td>True</td>\n      <td>False</td>\n      <td>False</td>\n      <td>True</td>\n      <td>False</td>\n      <td>False</td>\n      <td>False</td>\n      <td>False</td>\n    </tr>\n    <tr>\n      <th>1</th>\n      <td>2.0</td>\n      <td>31.9</td>\n      <td>21.6</td>\n      <td>52.263397</td>\n      <td>90.604721</td>\n      <td>29.850689</td>\n      <td>24.035009</td>\n      <td>5.691890</td>\n      <td>51.937448</td>\n      <td>0.225508</td>\n      <td>...</td>\n      <td>30.5</td>\n      <td>22.5</td>\n      <td>True</td>\n      <td>False</td>\n      <td>False</td>\n      <td>True</td>\n      <td>False</td>\n      <td>False</td>\n      <td>False</td>\n      <td>False</td>\n    </tr>\n    <tr>\n      <th>2</th>\n      <td>3.0</td>\n      <td>31.6</td>\n      <td>23.3</td>\n      <td>48.690479</td>\n      <td>83.973587</td>\n      <td>30.091292</td>\n      <td>24.565633</td>\n      <td>6.138224</td>\n      <td>20.573050</td>\n      <td>0.209344</td>\n      <td>...</td>\n      <td>31.1</td>\n      <td>23.9</td>\n      <td>True</td>\n      <td>False</td>\n      <td>False</td>\n      <td>True</td>\n      <td>False</td>\n      <td>False</td>\n      <td>False</td>\n      <td>False</td>\n    </tr>\n    <tr>\n      <th>3</th>\n      <td>4.0</td>\n      <td>32.0</td>\n      <td>23.4</td>\n      <td>58.239788</td>\n      <td>96.483688</td>\n      <td>29.704629</td>\n      <td>23.326177</td>\n      <td>5.650050</td>\n      <td>65.727144</td>\n      <td>0.216372</td>\n      <td>...</td>\n      <td>31.7</td>\n      <td>24.3</td>\n      <td>True</td>\n      <td>False</td>\n      <td>False</td>\n      <td>True</td>\n      <td>False</td>\n      <td>False</td>\n      <td>False</td>\n      <td>False</td>\n    </tr>\n    <tr>\n      <th>4</th>\n      <td>5.0</td>\n      <td>31.4</td>\n      <td>21.9</td>\n      <td>56.174095</td>\n      <td>90.155128</td>\n      <td>29.113934</td>\n      <td>23.486480</td>\n      <td>5.735004</td>\n      <td>107.965535</td>\n      <td>0.151407</td>\n      <td>...</td>\n      <td>31.2</td>\n      <td>22.5</td>\n      <td>True</td>\n      <td>False</td>\n      <td>False</td>\n      <td>True</td>\n      <td>False</td>\n      <td>False</td>\n      <td>False</td>\n      <td>False</td>\n    </tr>\n    <tr>\n      <th>...</th>\n      <td>...</td>\n      <td>...</td>\n      <td>...</td>\n      <td>...</td>\n      <td>...</td>\n      <td>...</td>\n      <td>...</td>\n      <td>...</td>\n      <td>...</td>\n      <td>...</td>\n      <td>...</td>\n      <td>...</td>\n      <td>...</td>\n      <td>...</td>\n      <td>...</td>\n      <td>...</td>\n      <td>...</td>\n      <td>...</td>\n      <td>...</td>\n      <td>...</td>\n      <td>...</td>\n    </tr>\n    <tr>\n      <th>7747</th>\n      <td>23.0</td>\n      <td>23.3</td>\n      <td>17.1</td>\n      <td>26.741310</td>\n      <td>78.869858</td>\n      <td>26.352081</td>\n      <td>18.775678</td>\n      <td>6.148918</td>\n      <td>72.058294</td>\n      <td>0.030034</td>\n      <td>...</td>\n      <td>28.3</td>\n      <td>18.1</td>\n      <td>False</td>\n      <td>False</td>\n      <td>True</td>\n      <td>False</td>\n      <td>False</td>\n      <td>False</td>\n      <td>False</td>\n      <td>True</td>\n    </tr>\n    <tr>\n      <th>7748</th>\n      <td>24.0</td>\n      <td>23.3</td>\n      <td>17.7</td>\n      <td>24.040634</td>\n      <td>77.294975</td>\n      <td>27.010193</td>\n      <td>18.733519</td>\n      <td>6.542819</td>\n      <td>47.241457</td>\n      <td>0.035874</td>\n      <td>...</td>\n      <td>28.6</td>\n      <td>18.8</td>\n      <td>False</td>\n      <td>False</td>\n      <td>True</td>\n      <td>False</td>\n      <td>False</td>\n      <td>False</td>\n      <td>False</td>\n      <td>True</td>\n    </tr>\n    <tr>\n      <th>7749</th>\n      <td>25.0</td>\n      <td>23.2</td>\n      <td>17.4</td>\n      <td>22.933014</td>\n      <td>77.243744</td>\n      <td>27.939516</td>\n      <td>18.522965</td>\n      <td>7.289264</td>\n      <td>9.090034</td>\n      <td>0.048954</td>\n      <td>...</td>\n      <td>27.8</td>\n      <td>17.4</td>\n      <td>False</td>\n      <td>False</td>\n      <td>True</td>\n      <td>False</td>\n      <td>False</td>\n      <td>False</td>\n      <td>False</td>\n      <td>True</td>\n    </tr>\n    <tr>\n      <th>7750</th>\n      <td>NaN</td>\n      <td>20.0</td>\n      <td>11.3</td>\n      <td>19.794666</td>\n      <td>58.936283</td>\n      <td>17.624954</td>\n      <td>14.272646</td>\n      <td>2.882580</td>\n      <td>-13.603212</td>\n      <td>0.000000</td>\n      <td>...</td>\n      <td>17.4</td>\n      <td>11.3</td>\n      <td>False</td>\n      <td>False</td>\n      <td>False</td>\n      <td>False</td>\n      <td>False</td>\n      <td>False</td>\n      <td>False</td>\n      <td>False</td>\n    </tr>\n    <tr>\n      <th>7751</th>\n      <td>NaN</td>\n      <td>37.6</td>\n      <td>29.9</td>\n      <td>98.524734</td>\n      <td>100.000153</td>\n      <td>38.542255</td>\n      <td>29.619342</td>\n      <td>21.857621</td>\n      <td>213.414006</td>\n      <td>0.967277</td>\n      <td>...</td>\n      <td>38.9</td>\n      <td>29.8</td>\n      <td>False</td>\n      <td>False</td>\n      <td>False</td>\n      <td>False</td>\n      <td>False</td>\n      <td>False</td>\n      <td>False</td>\n      <td>False</td>\n    </tr>\n  </tbody>\n</table>\n<p>7752 rows × 32 columns</p>\n</div>"
     },
     "execution_count": 6,
     "metadata": {},
     "output_type": "execute_result"
    }
   ],
   "source": [
    "# Showing the final state of the dataframe\n",
    "df"
   ],
   "metadata": {
    "collapsed": false,
    "ExecuteTime": {
     "end_time": "2023-09-29T18:00:23.712827600Z",
     "start_time": "2023-09-29T18:00:23.667327900Z"
    }
   },
   "id": "81b998962caa12ed"
  }
 ],
 "metadata": {
  "kernelspec": {
   "display_name": "Python 3",
   "language": "python",
   "name": "python3"
  },
  "language_info": {
   "codemirror_mode": {
    "name": "ipython",
    "version": 2
   },
   "file_extension": ".py",
   "mimetype": "text/x-python",
   "name": "python",
   "nbconvert_exporter": "python",
   "pygments_lexer": "ipython2",
   "version": "2.7.6"
  }
 },
 "nbformat": 4,
 "nbformat_minor": 5
}
