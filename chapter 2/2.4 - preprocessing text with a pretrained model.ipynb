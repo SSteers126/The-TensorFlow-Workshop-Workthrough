{
 "cells": [
  {
   "cell_type": "code",
   "execution_count": 1,
   "id": "initial_id",
   "metadata": {
    "collapsed": true,
    "ExecuteTime": {
     "end_time": "2023-09-29T20:20:48.977180400Z",
     "start_time": "2023-09-29T20:20:41.036684600Z"
    }
   },
   "outputs": [
    {
     "data": {
      "text/plain": "'2.13.0'"
     },
     "execution_count": 1,
     "metadata": {},
     "output_type": "execute_result"
    }
   ],
   "source": [
    "import tensorflow as tf\n",
    "tf.__version__"
   ]
  },
  {
   "cell_type": "code",
   "execution_count": 3,
   "outputs": [
    {
     "data": {
      "text/plain": "<_PrefetchDataset element_spec=OrderedDict([('', TensorSpec(shape=(1,), dtype=tf.int32, name=None)), ('drugName', TensorSpec(shape=(1,), dtype=tf.string, name=None)), ('condition', TensorSpec(shape=(1,), dtype=tf.string, name=None)), ('review', TensorSpec(shape=(1,), dtype=tf.string, name=None)), ('rating', TensorSpec(shape=(1,), dtype=tf.float32, name=None)), ('date', TensorSpec(shape=(1,), dtype=tf.string, name=None)), ('usefulCount', TensorSpec(shape=(1,), dtype=tf.int32, name=None))])>"
     },
     "execution_count": 3,
     "metadata": {},
     "output_type": "execute_result"
    }
   ],
   "source": [
    "df = tf.data.experimental.make_csv_dataset('drugsCom_raw/drugsComTest_raw.tsv', batch_size=1, field_delim='\\t')\n",
    "df"
   ],
   "metadata": {
    "collapsed": false,
    "ExecuteTime": {
     "end_time": "2023-09-29T20:37:24.293352100Z",
     "start_time": "2023-09-29T20:37:24.131848900Z"
    }
   },
   "id": "645dd2531a881e12"
  },
  {
   "cell_type": "code",
   "execution_count": 6,
   "outputs": [
    {
     "name": "stdout",
     "output_type": "stream",
     "text": [
      "OrderedDict([('', <tf.Tensor: shape=(5, 1), dtype=int32, numpy=\n",
      "array([[ 45625],\n",
      "       [ 16584],\n",
      "       [205577],\n",
      "       [134367],\n",
      "       [203783]])>), ('drugName', <tf.Tensor: shape=(5, 1), dtype=string, numpy=\n",
      "array([[b'Fluoxetine'],\n",
      "       [b'Ethinyl estradiol / norethindrone'],\n",
      "       [b'Pristiq'],\n",
      "       [b'Prednisone'],\n",
      "       [b'Suvorexant']], dtype=object)>), ('condition', <tf.Tensor: shape=(5, 1), dtype=string, numpy=\n",
      "array([[b'Depression'],\n",
      "       [b'Birth Control'],\n",
      "       [b'Depression'],\n",
      "       [b'Gouty Arthritis'],\n",
      "       [b'Insomnia']], dtype=object)>), ('review', <tf.Tensor: shape=(5, 1), dtype=string, numpy=\n",
      "array([[b'\"Started on 10mg while seeing a mental health professional (counselor) simultaneously. Medicine kicked in at about 3 weeks of treatment and got better when MD increased the dosage to 20 mg 6 weeks into treatment. It&#039;s been a consistent once daily oral capsule 20 mg for the past 3 1/2 months. Mood has lifted. Wakes up with clear thoughts. Lessened racing negative thoughts. Reduced anticipation of negative events and occurrences. Obsessive compulsive rituals reduced. Answer the phone with more ease and less concerned about making mistakes in front of people. Anxiety greatly reduced, lessened depressive thoughts. Definitely helps you to look forward to life. It works better to see counselor at same time so you can track progress.\"'],\n",
      "       [b'\"I began this birth control when I was 17 and my experience wasn&#039;t pleasant. I began taking Microgestion Fe 1/20 in June 2015. When I first began the pill, I had pretty bad nausea and was extremely emotional for the first month. On my second month, I became depressed and began to have anxiety attacks for just about everything. When my boyfriend and I would have relations he would tell me I was shedding more hair than normal. I paid more attention to it and my scalp began to hurt as if I had my hair in a ponytail and just took it out. Every time I&#039;d shower or brush my hair chunks would come out, by the third month I had lost about 30% of my hair and had noticeable bald spots. Not a pleasant experience. Life got better when I stopped taking it\"'],\n",
      "       [b'\"I was on my 4th try on a antidepressant and was feeling very discouraged. I had many side effects from the other medicines such as sleepiness, headaches, overeating, agitation, and crying spells. My therapist gave me Pristiq. I read about the side effects and was not looking forward to headaches. I took it and had no side effects. On my second day I was doing a lot more things and felt a lot better. Thank God!\"'],\n",
      "       [b'\"I&#039;ve been getting chronic gout for about 9 years. Was given Prednisone for the first time last week (50mg once a day) it seems to work fast but I found that the pain starts coming back between doses. Still find it to be working better than the usual indomethacin and colchicine. The only side effect I&#039;ve noticed is trouble sleeping.\"'],\n",
      "       [b'\"Was prescribed 20mg. TERRIBLE night horrors and sleep paralysis. Only taken two nights and I will never take it again.\\r\\nI have no idea why nightmares aren&#039;t listed as a side effect. I don&#039;t know how this is an approved drug either.\"']],\n",
      "      dtype=object)>), ('rating', <tf.Tensor: shape=(5, 1), dtype=float32, numpy=\n",
      "array([[8.],\n",
      "       [5.],\n",
      "       [8.],\n",
      "       [8.],\n",
      "       [1.]], dtype=float32)>), ('date', <tf.Tensor: shape=(5, 1), dtype=string, numpy=\n",
      "array([[b'May 14, 2013'],\n",
      "       [b'November 23, 2015'],\n",
      "       [b'May 17, 2012'],\n",
      "       [b'August 25, 2014'],\n",
      "       [b'February 7, 2017']], dtype=object)>), ('usefulCount', <tf.Tensor: shape=(5, 1), dtype=int32, numpy=\n",
      "array([[210],\n",
      "       [  4],\n",
      "       [ 21],\n",
      "       [ 59],\n",
      "       [ 12]])>)])\n"
     ]
    }
   ],
   "source": [
    "def prep_ds(ds, shuffle_buffer_size=1024, batch_size=32):\n",
    "    # Shuffle the dataset\n",
    "    ds = ds.shuffle(buffer_size=shuffle_buffer_size)\n",
    "    # Repeat the dataset\n",
    "    ds = ds.repeat()\n",
    "    # Batch the dataset\n",
    "    ds = ds.batch(batch_size)\n",
    "\n",
    "    return ds\n",
    "\n",
    "ds = prep_ds(df, batch_size=5)\n",
    "\n",
    "# Print the first item in the batch\n",
    "for x in ds.take(1):\n",
    "    print(x)"
   ],
   "metadata": {
    "collapsed": false,
    "ExecuteTime": {
     "end_time": "2023-09-29T20:40:17.436835800Z",
     "start_time": "2023-09-29T20:40:17.244339400Z"
    }
   },
   "id": "e198883a4e656df6"
  },
  {
   "cell_type": "code",
   "execution_count": 7,
   "outputs": [
    {
     "name": "stdout",
     "output_type": "stream",
     "text": [
      "tf.Tensor(\n",
      "[[ 0.9881613  -2.8450797   1.2315621   0.09081963 -2.4110882  -3.927364\n",
      "  -1.8330681   0.39639175  0.7191831  -0.39629233 -0.24139255  2.374047\n",
      "   0.1731554   0.33019003 -3.418654    1.8822201   3.45956    -1.9857818\n",
      "  -1.1341906  -1.4296856 ]\n",
      " [ 0.5661839  -2.7838304   0.9755192   0.02443876 -2.1842694  -3.212697\n",
      "  -1.599586    1.3337802   2.561705    1.1625223  -1.9061416   0.8155015\n",
      "   0.1338313   0.5315414  -3.8749793   1.5308723   2.672744   -1.6771619\n",
      "  -0.6530117  -0.26535785]\n",
      " [ 1.0484432  -3.3830547   1.3292578   1.0691189  -3.8926852  -4.819075\n",
      "  -2.0403776   2.2565262   3.0522056   1.1546133  -1.5194812   1.7076561\n",
      "  -0.05522209  0.76448995 -5.405298    2.0072222   4.1093802  -2.4143872\n",
      "  -2.3503373  -1.360385  ]\n",
      " [ 2.4830527  -1.0085537   0.84112895  1.8802489  -2.1662912  -1.8582801\n",
      "  -0.634127    1.0757595  -0.7597292  -1.6074272  -0.6742036   3.413891\n",
      "  -0.6005693   0.2735835  -2.0015898   0.8834489   2.5047452  -0.85837126\n",
      "  -1.2960104  -1.711054  ]\n",
      " [ 1.3926495  -3.6097045   2.674717    0.6455623  -3.8119128  -4.767859\n",
      "  -2.7552724   2.103128    3.3728306   0.17448403 -2.3080525   1.7480266\n",
      "   0.5953465   0.5394547  -4.6047854   3.1955914   4.3918557  -2.677009\n",
      "  -2.54244    -1.2595152 ]], shape=(5, 20), dtype=float32)\n"
     ]
    }
   ],
   "source": [
    "import tensorflow_hub as hub\n",
    "\n",
    "# Load and pass an item from the dataset through the pretrained model\n",
    "embedding = \"https://tfhub.dev/google/tf2-preview/gnews-swivel-20dim/1\"\n",
    "\n",
    "hub_layer = hub.KerasLayer(embedding, input_shape=[], dtype=tf.string, trainable=True)\n",
    "\n",
    "for x in ds.take(1):\n",
    "    print(hub_layer(tf.reshape(x['review'],[-1])))"
   ],
   "metadata": {
    "collapsed": false,
    "ExecuteTime": {
     "end_time": "2023-09-29T20:42:46.672121100Z",
     "start_time": "2023-09-29T20:42:45.390624200Z"
    }
   },
   "id": "7533ea59713014e"
  },
  {
   "cell_type": "code",
   "execution_count": null,
   "outputs": [],
   "source": [],
   "metadata": {
    "collapsed": false
   },
   "id": "e69e05bfd30be274"
  }
 ],
 "metadata": {
  "kernelspec": {
   "display_name": "Python 3",
   "language": "python",
   "name": "python3"
  },
  "language_info": {
   "codemirror_mode": {
    "name": "ipython",
    "version": 2
   },
   "file_extension": ".py",
   "mimetype": "text/x-python",
   "name": "python",
   "nbconvert_exporter": "python",
   "pygments_lexer": "ipython2",
   "version": "2.7.6"
  }
 },
 "nbformat": 4,
 "nbformat_minor": 5
}
