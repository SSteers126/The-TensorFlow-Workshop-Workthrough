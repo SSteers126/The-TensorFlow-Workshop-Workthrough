{
 "cells": [
  {
   "cell_type": "code",
   "execution_count": 2,
   "id": "initial_id",
   "metadata": {
    "collapsed": true,
    "ExecuteTime": {
     "end_time": "2023-10-05T21:10:10.986540500Z",
     "start_time": "2023-10-05T21:10:10.973041800Z"
    }
   },
   "outputs": [
    {
     "data": {
      "text/plain": "'2.13.0'"
     },
     "execution_count": 2,
     "metadata": {},
     "output_type": "execute_result"
    }
   ],
   "source": [
    "import tensorflow as tf\n",
    "from keras.preprocessing.image import ImageDataGenerator\n",
    "tf.__version__"
   ]
  },
  {
   "cell_type": "code",
   "execution_count": 3,
   "outputs": [],
   "source": [
    "logdir = 'logs/'\n",
    "writer = tf.summary.create_file_writer(logdir)"
   ],
   "metadata": {
    "collapsed": false,
    "ExecuteTime": {
     "end_time": "2023-10-05T21:10:22.356964200Z",
     "start_time": "2023-10-05T21:10:22.313968400Z"
    }
   },
   "id": "58ed9a648aaad1fa"
  },
  {
   "cell_type": "code",
   "execution_count": 5,
   "outputs": [
    {
     "name": "stdout",
     "output_type": "stream",
     "text": [
      "Found 1327 images belonging to 2 classes.\n"
     ]
    }
   ],
   "source": [
    "# Setting up the training data images\n",
    "train_datagen = ImageDataGenerator(rescale = 1./255)\n",
    "\n",
    "batch_size = 25\n",
    "training_set = train_datagen.flow_from_directory('../image_data', target_size = (224, 224), \n",
    "                                                 batch_size = batch_size, class_mode = 'binary')"
   ],
   "metadata": {
    "collapsed": false,
    "ExecuteTime": {
     "end_time": "2023-10-05T21:12:37.345466300Z",
     "start_time": "2023-10-05T21:12:37.251966200Z"
    }
   },
   "id": "7ea9b8bee1caa13f"
  },
  {
   "cell_type": "code",
   "execution_count": 6,
   "outputs": [],
   "source": [
    "# Display a summary of the first selected batch\n",
    "with writer.as_default():\n",
    "    tf.summary.image(\"Training data\", next(training_set)[0],  max_outputs=batch_size, step=0)"
   ],
   "metadata": {
    "collapsed": false,
    "ExecuteTime": {
     "end_time": "2023-10-05T21:12:59.556787700Z",
     "start_time": "2023-10-05T21:12:58.198291100Z"
    }
   },
   "id": "2ed73f0b8ea678be"
  },
  {
   "cell_type": "code",
   "execution_count": null,
   "outputs": [],
   "source": [],
   "metadata": {
    "collapsed": false
   },
   "id": "eb91b89ace5286f8"
  }
 ],
 "metadata": {
  "kernelspec": {
   "display_name": "Python 3",
   "language": "python",
   "name": "python3"
  },
  "language_info": {
   "codemirror_mode": {
    "name": "ipython",
    "version": 2
   },
   "file_extension": ".py",
   "mimetype": "text/x-python",
   "name": "python",
   "nbconvert_exporter": "python",
   "pygments_lexer": "ipython2",
   "version": "2.7.6"
  }
 },
 "nbformat": 4,
 "nbformat_minor": 5
}
