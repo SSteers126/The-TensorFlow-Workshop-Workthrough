{
 "cells": [
  {
   "cell_type": "code",
   "execution_count": 1,
   "id": "initial_id",
   "metadata": {
    "collapsed": true,
    "ExecuteTime": {
     "end_time": "2023-10-05T19:20:57.594854600Z",
     "start_time": "2023-10-05T19:20:51.565857700Z"
    }
   },
   "outputs": [
    {
     "data": {
      "text/plain": "'2.13.0'"
     },
     "execution_count": 1,
     "metadata": {},
     "output_type": "execute_result"
    }
   ],
   "source": [
    "import tensorflow as tf\n",
    "tf.__version__"
   ]
  },
  {
   "cell_type": "code",
   "execution_count": 2,
   "outputs": [],
   "source": [
    "# Enable logging so that TensorBoard has data to visualise\n",
    "logdir = 'logs/'\n",
    "# Set up the file writer\n",
    "writer = tf.summary.create_file_writer(logdir)\n",
    "\n",
    "# profiler_options = tf.profiler.experimental.ProfilerOptions(host_tracer_level = 3,python_tracer_level = 1,device_tracer_level = 1)\n",
    "# tf.profiler.experimental.start(logdir)"
   ],
   "metadata": {
    "collapsed": false,
    "ExecuteTime": {
     "end_time": "2023-10-05T19:20:57.652853800Z",
     "start_time": "2023-10-05T19:20:57.592854600Z"
    }
   },
   "id": "5ab0b4a1db757c91"
  },
  {
   "cell_type": "code",
   "execution_count": 3,
   "outputs": [],
   "source": [
    "# Ensure the seed matches the book so that output is consistent\n",
    "tf.random.set_seed(42)"
   ],
   "metadata": {
    "collapsed": false,
    "ExecuteTime": {
     "end_time": "2023-10-05T19:20:57.653359300Z",
     "start_time": "2023-10-05T19:20:57.624354400Z"
    }
   },
   "id": "99744665ec419e78"
  },
  {
   "cell_type": "code",
   "execution_count": 4,
   "outputs": [],
   "source": [
    "# Matrix multiplication function, with extra addition to all elements and sigmoid function applied\n",
    "@tf.function\n",
    "def process_matrix(x, y):\n",
    "    result = tf.matmul(x, y)\n",
    "    \n",
    "    # Add 1 to all elements in the matrix\n",
    "    result += tf.ones_like(result)\n",
    "    \n",
    "    # Apply sigmoid to all values in the matrix and return it\n",
    "    return tf.nn.sigmoid(result, name='sigmoid')\n"
   ],
   "metadata": {
    "collapsed": false,
    "ExecuteTime": {
     "end_time": "2023-10-05T19:20:57.653861500Z",
     "start_time": "2023-10-05T19:20:57.630355700Z"
    }
   },
   "id": "fa16020beb892ce3"
  },
  {
   "cell_type": "code",
   "execution_count": 5,
   "outputs": [
    {
     "data": {
      "text/plain": "TensorShape([5, 5, 5])"
     },
     "execution_count": 5,
     "metadata": {},
     "output_type": "execute_result"
    }
   ],
   "source": [
    "t1 = tf.Variable(\n",
    "    [\n",
    "        [\n",
    "            [0, 1, 2, 3, 4],\n",
    "            [0, 1, 2, 3, 4],\n",
    "            [0, 1, 2, 3, 4],\n",
    "            [0, 1, 2, 3, 4],\n",
    "            [0, 1, 2, 3, 4],\n",
    "        ],\n",
    "        [\n",
    "            [0, 1, 2, 3, 4],\n",
    "            [0, 1, 2, 3, 4],\n",
    "            [0, .0002, 2, 3, 4],\n",
    "            [0, 1, 2, 3, 4],\n",
    "            [0, 1, 2, 3, 4],\n",
    "        ],\n",
    "        [\n",
    "            [0, 1, 2, 3, 4],\n",
    "            [0, 1, 2, 3, 4],\n",
    "            [0, .05, 2, 3, 4],\n",
    "            [0, 1, 2, 3, 4],\n",
    "            [0, 1, 2, 3, 4],\n",
    "        ],\n",
    "        [\n",
    "            [0, 1, 2, 3, 4],\n",
    "            [0, 1, 2, 3, 4],\n",
    "            [0, 1, 2, 3, 4],\n",
    "            [0, 1, 2, 3, 4],\n",
    "            [0, 1, 2, 3, 4],\n",
    "        ],\n",
    "        [\n",
    "            [0, 1, 2, 3, 4],\n",
    "            [0, 1, 2, 3, 4],\n",
    "            [0, 1, 2, 3, 4],\n",
    "            [0, 1, 2, 3, 4],\n",
    "            [0, 1, 2, 3, 4],\n",
    "        ]\n",
    "    ],\n",
    "    dtype=tf.float32\n",
    ")\n",
    "\n",
    "t1.shape"
   ],
   "metadata": {
    "collapsed": false,
    "ExecuteTime": {
     "end_time": "2023-10-05T19:20:57.662856Z",
     "start_time": "2023-10-05T19:20:57.642354900Z"
    }
   },
   "id": "7b603f7d60cdd4ea"
  },
  {
   "cell_type": "code",
   "execution_count": 6,
   "outputs": [
    {
     "data": {
      "text/plain": "TensorShape([5, 5, 5])"
     },
     "execution_count": 6,
     "metadata": {},
     "output_type": "execute_result"
    }
   ],
   "source": [
    "t2 = tf.Variable(\n",
    "    [\n",
    "        [\n",
    "            [6, 8, 2, 9, 4],\n",
    "            [6, 8, 2, 9, 4],\n",
    "            [6, .154, 2, 9, 4],\n",
    "            [6, 8, 2, 9, 4],\n",
    "            [6, 8, 2, 9, 4],\n",
    "        ],\n",
    "        [\n",
    "            [6, 8, 2, 9, 4],\n",
    "            [6, 8, 2, 9, 4],\n",
    "            [6, 8, 2, .5, 4],\n",
    "            [6, 8, 2, 9, 4],\n",
    "            [6, 8, 2, 9, 4],\n",
    "        ],\n",
    "        [\n",
    "            [6, 8, 2, 9, 4],\n",
    "            [6, 8, 2, 9, 4],\n",
    "            [6, .0001, 2, 9, 4],\n",
    "            [6, 8, 2, 9, 4],\n",
    "            [.3, 8, 2, 9, 4],\n",
    "        ],\n",
    "        [\n",
    "            [6, 8, 2, 9, 4],\n",
    "            [6, 8, 2, 9, 4],\n",
    "            [6, 8, 2, 9, 4],\n",
    "            [6, 8, 2, 9, 4],\n",
    "            [6, 8, 2, 9, 4],\n",
    "        ],\n",
    "        [\n",
    "            [6, 8, 2, 9, 4],\n",
    "            [6, 8, 2, 9, 4],\n",
    "            [6, 8, 2, 9, 4],\n",
    "            [6, 8, 2, 9, 4],\n",
    "            [6, 8, 2, 9, 4],\n",
    "        ]\n",
    "    ],\n",
    "    dtype=tf.float32\n",
    ")\n",
    "\n",
    "t2.shape"
   ],
   "metadata": {
    "collapsed": false,
    "ExecuteTime": {
     "end_time": "2023-10-05T19:20:57.673356300Z",
     "start_time": "2023-10-05T19:20:57.659353800Z"
    }
   },
   "id": "6a6fbc64abb6bb95"
  },
  {
   "cell_type": "code",
   "execution_count": 7,
   "outputs": [
    {
     "data": {
      "text/plain": "<tf.Tensor: shape=(5, 5, 5), dtype=float32, numpy=\narray([[[1., 1., 1., 1., 1.],\n        [1., 1., 1., 1., 1.],\n        [1., 1., 1., 1., 1.],\n        [1., 1., 1., 1., 1.],\n        [1., 1., 1., 1., 1.]],\n\n       [[1., 1., 1., 1., 1.],\n        [1., 1., 1., 1., 1.],\n        [1., 1., 1., 1., 1.],\n        [1., 1., 1., 1., 1.],\n        [1., 1., 1., 1., 1.]],\n\n       [[1., 1., 1., 1., 1.],\n        [1., 1., 1., 1., 1.],\n        [1., 1., 1., 1., 1.],\n        [1., 1., 1., 1., 1.],\n        [1., 1., 1., 1., 1.]],\n\n       [[1., 1., 1., 1., 1.],\n        [1., 1., 1., 1., 1.],\n        [1., 1., 1., 1., 1.],\n        [1., 1., 1., 1., 1.],\n        [1., 1., 1., 1., 1.]],\n\n       [[1., 1., 1., 1., 1.],\n        [1., 1., 1., 1., 1.],\n        [1., 1., 1., 1., 1.],\n        [1., 1., 1., 1., 1.],\n        [1., 1., 1., 1., 1.]]], dtype=float32)>"
     },
     "execution_count": 7,
     "metadata": {},
     "output_type": "execute_result"
    }
   ],
   "source": [
    "# Ensure that the traces of functions as graphs will be written - setting the trace to on just before the function you want the graph off and immediately turning off afterwards helps reduce clutter from other operations being visualised\n",
    "tf.summary.trace_on(graph=True)\n",
    "ans = process_matrix(t1, t2)\n",
    "ans"
   ],
   "metadata": {
    "collapsed": false,
    "ExecuteTime": {
     "end_time": "2023-10-05T19:20:57.736358700Z",
     "start_time": "2023-10-05T19:20:57.667360300Z"
    }
   },
   "id": "ca381cd63a673a94"
  },
  {
   "cell_type": "code",
   "execution_count": 8,
   "outputs": [],
   "source": [
    "# Stop logging since operations are complete\n",
    "# tf.profiler.experimental.stop()\n",
    "# Output the trace of the operations to file for viewing\n",
    "with writer.as_default():\n",
    "    tf.summary.trace_export(name=\"Basic Tensor operation trace\", step=0, profiler_outdir=logdir)\n",
    "\n",
    "tf.summary.trace_off()"
   ],
   "metadata": {
    "collapsed": false,
    "ExecuteTime": {
     "end_time": "2023-10-05T19:20:57.751855500Z",
     "start_time": "2023-10-05T19:20:57.735859200Z"
    }
   },
   "id": "f6a49148cc8c34b8"
  },
  {
   "cell_type": "code",
   "execution_count": 8,
   "outputs": [],
   "source": [],
   "metadata": {
    "collapsed": false,
    "ExecuteTime": {
     "end_time": "2023-10-05T19:20:57.759355300Z",
     "start_time": "2023-10-05T19:20:57.752854200Z"
    }
   },
   "id": "eb83362c053dc962"
  }
 ],
 "metadata": {
  "kernelspec": {
   "display_name": "Python 3",
   "language": "python",
   "name": "python3"
  },
  "language_info": {
   "codemirror_mode": {
    "name": "ipython",
    "version": 2
   },
   "file_extension": ".py",
   "mimetype": "text/x-python",
   "name": "python",
   "nbconvert_exporter": "python",
   "pygments_lexer": "ipython2",
   "version": "2.7.6"
  }
 },
 "nbformat": 4,
 "nbformat_minor": 5
}
