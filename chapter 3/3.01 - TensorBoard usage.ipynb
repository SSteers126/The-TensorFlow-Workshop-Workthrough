{
 "cells": [
  {
   "cell_type": "code",
   "execution_count": 1,
   "id": "initial_id",
   "metadata": {
    "collapsed": true,
    "ExecuteTime": {
     "end_time": "2023-10-05T18:28:34.532369Z",
     "start_time": "2023-10-05T18:28:26.804871Z"
    }
   },
   "outputs": [
    {
     "data": {
      "text/plain": "'2.13.0'"
     },
     "execution_count": 1,
     "metadata": {},
     "output_type": "execute_result"
    }
   ],
   "source": [
    "import tensorflow as tf\n",
    "tf.__version__"
   ]
  },
  {
   "cell_type": "code",
   "execution_count": 2,
   "outputs": [],
   "source": [
    "# Ensure the seed matches the book so that output is consistent\n",
    "tf.random.set_seed(42)"
   ],
   "metadata": {
    "collapsed": false,
    "ExecuteTime": {
     "end_time": "2023-10-05T18:28:34.537370100Z",
     "start_time": "2023-10-05T18:28:34.530369800Z"
    }
   },
   "id": "51c01ef34ffe2c0e"
  },
  {
   "cell_type": "code",
   "execution_count": 3,
   "outputs": [],
   "source": [
    "# Enable logging so that TensorBoard has data to visualise\n",
    "logdir = 'logs/'\n",
    "\n",
    "writer = tf.summary.create_file_writer(logdir)"
   ],
   "metadata": {
    "collapsed": false,
    "ExecuteTime": {
     "end_time": "2023-10-05T18:28:34.594368500Z",
     "start_time": "2023-10-05T18:28:34.537370100Z"
    }
   },
   "id": "eae78ac59c450d62"
  },
  {
   "cell_type": "code",
   "execution_count": 4,
   "outputs": [
    {
     "name": "stdout",
     "output_type": "stream",
     "text": [
      "WARNING:tensorflow:From C:\\Users\\Zestyy\\OneDrive - MMU\\Programming\\Python\\Tensorflow\\venv\\Lib\\site-packages\\tensorflow\\python\\ops\\summary_ops_v2.py:1332: start (from tensorflow.python.eager.profiler) is deprecated and will be removed after 2020-07-01.\n",
      "Instructions for updating:\n",
      "use `tf.profiler.experimental.start` instead.\n"
     ]
    }
   ],
   "source": [
    "tf.summary.trace_on(graph=True, profiler=True)"
   ],
   "metadata": {
    "collapsed": false,
    "ExecuteTime": {
     "end_time": "2023-10-05T18:28:34.602872200Z",
     "start_time": "2023-10-05T18:28:34.575371200Z"
    }
   },
   "id": "1223ba3272cedbe4"
  },
  {
   "cell_type": "code",
   "execution_count": 5,
   "outputs": [
    {
     "name": "stdout",
     "output_type": "stream",
     "text": [
      "WARNING:tensorflow:From C:\\Users\\Zestyy\\OneDrive - MMU\\Programming\\Python\\Tensorflow\\venv\\Lib\\site-packages\\tensorflow\\python\\ops\\summary_ops_v2.py:1383: stop (from tensorflow.python.eager.profiler) is deprecated and will be removed after 2020-07-01.\n",
      "Instructions for updating:\n",
      "use `tf.profiler.experimental.stop` instead.\n",
      "WARNING:tensorflow:From C:\\Users\\Zestyy\\OneDrive - MMU\\Programming\\Python\\Tensorflow\\venv\\Lib\\site-packages\\tensorflow\\python\\ops\\summary_ops_v2.py:1383: save (from tensorflow.python.eager.profiler) is deprecated and will be removed after 2020-07-01.\n",
      "Instructions for updating:\n",
      "`tf.python.eager.profiler` has deprecated, use `tf.profiler` instead.\n",
      "WARNING:tensorflow:From C:\\Users\\Zestyy\\OneDrive - MMU\\Programming\\Python\\Tensorflow\\venv\\Lib\\site-packages\\tensorflow\\python\\eager\\profiler.py:150: maybe_create_event_file (from tensorflow.python.eager.profiler) is deprecated and will be removed after 2020-07-01.\n",
      "Instructions for updating:\n",
      "`tf.python.eager.profiler` has deprecated, use `tf.profiler` instead.\n"
     ]
    }
   ],
   "source": [
    "# Matrix multiplication function\n",
    "\n",
    "@tf.function\n",
    "def my_matmult_func(x, y):\n",
    "    result = tf.matmul(x, y)\n",
    "    return result\n",
    "\n",
    "# Random input data\n",
    "x = tf.random.uniform((7, 7))\n",
    "y = tf.random.uniform((7, 7))\n",
    "\n",
    "# Multiply the random data together\n",
    "z = my_matmult_func(x, y)\n",
    "\n",
    "# Output the trace of the multiplication to the log\n",
    "with writer.as_default():\n",
    "    tf.summary.trace_export(name=\"my_func_trace\", step=0, profiler_outdir=logdir)"
   ],
   "metadata": {
    "collapsed": false,
    "ExecuteTime": {
     "end_time": "2023-10-05T18:28:34.685368200Z",
     "start_time": "2023-10-05T18:28:34.587868700Z"
    }
   },
   "id": "dc01e7a2cdab1f99"
  },
  {
   "cell_type": "code",
   "execution_count": null,
   "outputs": [],
   "source": [
    "# tensorboard --logdir=\"chapter 3/logs\""
   ],
   "metadata": {
    "collapsed": false
   },
   "id": "6903b750fe43bd08"
  }
 ],
 "metadata": {
  "kernelspec": {
   "display_name": "Python 3",
   "language": "python",
   "name": "python3"
  },
  "language_info": {
   "codemirror_mode": {
    "name": "ipython",
    "version": 2
   },
   "file_extension": ".py",
   "mimetype": "text/x-python",
   "name": "python",
   "nbconvert_exporter": "python",
   "pygments_lexer": "ipython2",
   "version": "2.7.6"
  }
 },
 "nbformat": 4,
 "nbformat_minor": 5
}
